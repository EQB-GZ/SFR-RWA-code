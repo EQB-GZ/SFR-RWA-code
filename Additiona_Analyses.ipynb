{
 "cells": [
  {
   "cell_type": "markdown",
   "metadata": {},
   "source": [
    "# Import Packages"
   ]
  },
  {
   "cell_type": "code",
   "execution_count": 12,
   "metadata": {},
   "outputs": [
    {
     "name": "stderr",
     "output_type": "stream",
     "text": [
      "C:\\Users\\georgez\\AppData\\Local\\Temp\\ipykernel_20260\\3988292044.py:20: DeprecationWarning: `magic(...)` is deprecated since IPython 0.13 (warning added in 8.1), use run_line_magic(magic_name, parameter_s).\n",
      "  get_ipython().magic('reset -sf')\n"
     ]
    }
   ],
   "source": [
    "# -*- coding: utf-8 -*-\n",
    "\"\"\"\n",
    "Created on April 4, 2024\n",
    "\n",
    "First Version Author: George Zhang\n",
    "\n",
    "\n",
    "\"\"\"\n",
    "User_Ackowledgement = input(\"If you are not the first author, please ADD comments with your name and date for ALL your edits. Ackowledge by answering Y\", )\n",
    "\n",
    "#if User_Ackowledgement is not Y, raise error\n",
    "\n",
    "if User_Ackowledgement != 'Y':\n",
    "\n",
    "    raise ValueError(\"You must acknowledge your edits by answering Y. Please add your name and date in the comments for your edits.\")\n",
    "\n",
    "\n",
    "#%%\n",
    "from IPython import get_ipython\n",
    "get_ipython().magic('reset -sf')\n",
    "\n",
    "import sys\n",
    " \n",
    "# appending a path\n",
    "sys.path.append('')\n",
    " \n",
    "import os\n",
    "import pandas as pd\n",
    "import numpy as np\n",
    "import pickle\n",
    "# import SFR_PD_Recalibration_2023_Lib as tool\n",
    "# import Concentra_SFR_Fit_for_Use_2024_Lib as lib\n",
    "from matplotlib import pyplot as plt\n",
    "import math\n",
    "import pyodbc"
   ]
  },
  {
   "cell_type": "markdown",
   "metadata": {},
   "source": [
    "# Setting Directories"
   ]
  },
  {
   "cell_type": "code",
   "execution_count": 13,
   "metadata": {},
   "outputs": [],
   "source": [
    "current_dir = os.getcwd()  # 20250403 George added\n",
    "\n",
    "# code_dir= \"C:\\\\Users\" +'\\\\' + username + '\\\\' + \"Equitable Bank\\\\EQB-Concentra Fit for Use - Fit_for_Use Development - Fit_for_Use Development\\\\RWA\\\\code\" # 20250403 George commented out Francesca/Joseph's code\n",
    "\n",
    "code_dir = current_dir # 20250403 George added\n",
    "\n",
    "input_dir = code_dir + '\\\\..\\\\' + \"Inputs\" #JT\n",
    "Output_dir = code_dir + '\\\\..\\\\' + \"Outputs\" #JT\n",
    "\n",
    "Jason_Input_dir = code_dir + '\\\\..\\\\' + \"Dec. 2022 RWA Inputs\"\n",
    "\n",
    "Jason_Output_dir = code_dir + '\\\\..\\\\' + \"Replicated Dec 2022 Outputs\"\n"
   ]
  },
  {
   "cell_type": "markdown",
   "metadata": {},
   "source": [
    "# Input and Proces Control"
   ]
  },
  {
   "cell_type": "markdown",
   "metadata": {},
   "source": [
    "# Compare EQB Dec. 2022 with Dec.2024"
   ]
  },
  {
   "cell_type": "code",
   "execution_count": 3,
   "metadata": {},
   "outputs": [],
   "source": [
    "# Read eqb_rwa_original_2024 parquet from Outputs\n",
    "\n",
    "eqb_rwa_original_202412 = pd.read_parquet(Output_dir + '\\\\eqb_rwa_original.parquet', engine='pyarrow')\n",
    "\n",
    "# Read eqb_rwa_original_202212 parquet from Jason Outputs\n",
    "\n",
    "eqb_rwa_original_202212 = pd.read_parquet(Jason_Output_dir + '\\\\eqb_rwa_original.parquet', engine='pyarrow')"
   ]
  },
  {
   "cell_type": "code",
   "execution_count": 4,
   "metadata": {},
   "outputs": [],
   "source": [
    "# Add a column Reporting_Date to eqb_rwa_original_202412 to have value '2024-12-31'\n",
    "\n",
    "eqb_rwa_original_202412['Reporting_Date'] = pd.to_datetime('2024-12-31')\n",
    "\n",
    "# Add a column Reporting_Date to eqb_rwa_original_202212 to have value '2022-12-31'\n",
    "\n",
    "eqb_rwa_original_202212['Reporting_Date'] = pd.to_datetime('2022-12-31')\n",
    "\n"
   ]
  },
  {
   "cell_type": "code",
   "execution_count": null,
   "metadata": {},
   "outputs": [],
   "source": [
    "# Concatenate eqb_rwa_original_202412 and eqb_rwa_original_202212\n",
    "\n",
    "SFR_rwa_2022_2024 = pd.concat([eqb_rwa_original_202412, eqb_rwa_original_202212], ignore_index=True)\n"
   ]
  },
  {
   "cell_type": "code",
   "execution_count": null,
   "metadata": {},
   "outputs": [],
   "source": [
    "\n",
    "# Save the data set to a csv file\n",
    "\n",
    "SFR_rwa_2022_2024.to_csv(Output_dir + '\\\\SFR_rwa_2022_2024.csv', index=False)\n",
    "\n"
   ]
  },
  {
   "cell_type": "markdown",
   "metadata": {},
   "source": [
    "# Pivot Table for Dec. 2022 vs. Dec. 2024"
   ]
  },
  {
   "cell_type": "code",
   "execution_count": 6,
   "metadata": {},
   "outputs": [],
   "source": [
    "# Merge eqb_rwa_original_202412 and eqb_rwa_original_202212 on 'Loan_Number' and keep identifiers from both dataframes\n",
    "\n",
    "df_Merge = pd.merge(eqb_rwa_original_202412, eqb_rwa_original_202212, on='Loan_Number', how='outer', suffixes=('_2024', '_2022'), indicator=True)\n"
   ]
  },
  {
   "cell_type": "code",
   "execution_count": 7,
   "metadata": {},
   "outputs": [],
   "source": [
    "# Create a pivot table with rows as MRS_Bin_PD_2022 and columns as MRS_Bin_PD_2024, and values as count of Loan_Number\n",
    "\n",
    "# Fill missing values in MRS_Bin_PD_2024 with 'Closed'\n",
    "\n",
    "df_Merge['MRS_Bin_PD_2024'] = df_Merge['MRS_Bin_PD_2024'].fillna('Closed')\n",
    "\n",
    "# Fill missing values in MRS_Bin_PD_2022 with 'New'\n",
    "\n",
    "df_Merge['MRS_Bin_PD_2022'] = df_Merge['MRS_Bin_PD_2022'].fillna('New')\n",
    "\n",
    "pivot_table = pd.pivot_table(df_Merge,\n",
    "                             index='MRS_Bin_PD_2022',\n",
    "                             columns='MRS_Bin_PD_2024',\n",
    "                             values='Loan_Number',\n",
    "                             aggfunc='count',\n",
    "                                fill_value=0, \n",
    "                                margins=True,\n",
    "                                margins_name='Total',\n",
    "                                dropna=False)\n",
    "\n",
    "\n"
   ]
  },
  {
   "cell_type": "markdown",
   "metadata": {},
   "source": [
    "# Compare Concentra Dec. 2022 with Dec. 2024"
   ]
  },
  {
   "cell_type": "code",
   "execution_count": 8,
   "metadata": {},
   "outputs": [],
   "source": [
    "# Read 'concentra_rwa_addon-pkl' from output directory\n",
    "\n",
    "concentra_rwa_addon_202412 = pd.read_pickle(Output_dir + '\\\\concentra_rwa_addon.pkl')\n",
    "\n",
    "# Read 'concentra_rwa_addon-pkl' from Jason output directory\n",
    "\n",
    "concentra_rwa_addon_202212 = pd.read_pickle(Jason_Output_dir + '\\\\concentra_rwa_addon.pkl')\n"
   ]
  },
  {
   "cell_type": "code",
   "execution_count": 9,
   "metadata": {},
   "outputs": [],
   "source": [
    "# Add a column Reporting_Date to concentra_rwa_addon_202412 to have value '2024-12-31'\n",
    "\n",
    "concentra_rwa_addon_202412['Reporting_Date'] = pd.to_datetime('2024-12-31')\n",
    "\n",
    "# Add a column Reporting_Date to concentra_rwa_addon_202212 to have value '2022-12-31'\n",
    "\n",
    "concentra_rwa_addon_202212['Reporting_Date'] = pd.to_datetime('2022-12-31')"
   ]
  },
  {
   "cell_type": "code",
   "execution_count": null,
   "metadata": {},
   "outputs": [],
   "source": [
    "# Concatenate concentra_rwa_addon_202412 and concentra_rwa_addon_202212\n",
    "\n",
    "concentra_rwa_addon_2022_2024 = pd.concat([concentra_rwa_addon_202412, concentra_rwa_addon_202212], ignore_index=True)\n"
   ]
  },
  {
   "cell_type": "code",
   "execution_count": null,
   "metadata": {},
   "outputs": [],
   "source": [
    "\n",
    "# Save the data set to a csv file\n",
    "\n",
    "concentra_rwa_addon_2022_2024.to_csv(Output_dir + '\\\\concentra_rwa_addon_2022_2024.csv', index=False)"
   ]
  },
  {
   "cell_type": "markdown",
   "metadata": {},
   "source": [
    "# Compare EQB Corp for Dec. 2022 vs. Dec. 2024"
   ]
  },
  {
   "cell_type": "code",
   "execution_count": 14,
   "metadata": {},
   "outputs": [],
   "source": [
    "# Read EQB_Corp_rwa_addon.pkl from Jason output directory\n",
    "\n",
    "eqb_corp_rwa_addon_202212 = pd.read_pickle(Jason_Output_dir + '\\\\EQB_Corp_rwa_addon.pkl')\n",
    "\n",
    "# Read EQB_Corp_rwa_addon.pkl from output directory\n",
    "\n",
    "eqb_corp_rwa_addon_202412 = pd.read_pickle(Output_dir + '\\\\EQB_Corp_rwa_addon.pkl')"
   ]
  },
  {
   "cell_type": "code",
   "execution_count": 15,
   "metadata": {},
   "outputs": [],
   "source": [
    "# Add a column Reporting_Date to eqb_corp_rwa_addon_202412 to have value '2024-12-31'\n",
    "\n",
    "eqb_corp_rwa_addon_202412['Reporting_Date'] = pd.to_datetime('2024-12-31')\n",
    "\n",
    "# Add a column Reporting_Date to eqb_corp_rwa_addon_202212 to have value '2022-12-31'\n",
    "\n",
    "eqb_corp_rwa_addon_202212['Reporting_Date'] = pd.to_datetime('2022-12-31')\n"
   ]
  },
  {
   "cell_type": "code",
   "execution_count": 16,
   "metadata": {},
   "outputs": [],
   "source": [
    "# Concatenate eqb_corp_rwa_addon_202412 and eqb_corp_rwa_addon_202212\n",
    "\n",
    "eqb_corp_rwa_addon_2022_2024 = pd.concat([eqb_corp_rwa_addon_202412, eqb_corp_rwa_addon_202212], ignore_index=True)\n"
   ]
  },
  {
   "cell_type": "code",
   "execution_count": 17,
   "metadata": {},
   "outputs": [],
   "source": [
    "# Save the data set to a csv file\n",
    "\n",
    "eqb_corp_rwa_addon_2022_2024.to_csv(Output_dir + '\\\\eqb_corp_rwa_addon_2022_2024.csv', index=False)"
   ]
  },
  {
   "cell_type": "markdown",
   "metadata": {},
   "source": [
    "# Double-Check Outputs"
   ]
  },
  {
   "cell_type": "code",
   "execution_count": 11,
   "metadata": {},
   "outputs": [
    {
     "name": "stdout",
     "output_type": "stream",
     "text": [
      "  Reporting_Date       RWA_new           EAD  RWA_new_EAD\n",
      "0     2022-12-31  3.837324e+09  2.366801e+10     0.162131\n",
      "1     2024-12-31  3.813415e+09  2.227326e+10     0.171210\n"
     ]
    }
   ],
   "source": [
    "# Read SFR_rwa_2022_2024.csv from output_dir\n",
    "\n",
    "SFR_rwa_2022_2024 = pd.read_csv(Output_dir + '\\\\SFR_rwa_2022_2024.csv')\n",
    "\n",
    "# Group by Reporting_Date, calculate sum of RWA_new and EAD\n",
    "\n",
    "SFR_rwa_2022_2024_grouped = SFR_rwa_2022_2024.groupby(['Reporting_Date']).agg({'RWA_new': 'sum', 'EAD': 'sum'}).reset_index()\n",
    "\n",
    "# Calculate RWA_new / EAD\n",
    "\n",
    "SFR_rwa_2022_2024_grouped['RWA_new_EAD'] = SFR_rwa_2022_2024_grouped['RWA_new'] / SFR_rwa_2022_2024_grouped['EAD']\n",
    "\n",
    "print(SFR_rwa_2022_2024_grouped)\n"
   ]
  }
 ],
 "metadata": {
  "kernelspec": {
   "display_name": "Commercial_IFRS9_PD_2024Dev",
   "language": "python",
   "name": "python3"
  },
  "language_info": {
   "codemirror_mode": {
    "name": "ipython",
    "version": 3
   },
   "file_extension": ".py",
   "mimetype": "text/x-python",
   "name": "python",
   "nbconvert_exporter": "python",
   "pygments_lexer": "ipython3",
   "version": "3.10.9"
  }
 },
 "nbformat": 4,
 "nbformat_minor": 2
}
