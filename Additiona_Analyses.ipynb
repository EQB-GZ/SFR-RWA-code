{
 "cells": [
  {
   "cell_type": "markdown",
   "metadata": {},
   "source": [
    "# Import Packages"
   ]
  },
  {
   "cell_type": "code",
   "execution_count": 1,
   "metadata": {},
   "outputs": [
    {
     "name": "stderr",
     "output_type": "stream",
     "text": [
      "C:\\Users\\georgez\\AppData\\Local\\Temp\\ipykernel_20972\\3988292044.py:20: DeprecationWarning: `magic(...)` is deprecated since IPython 0.13 (warning added in 8.1), use run_line_magic(magic_name, parameter_s).\n",
      "  get_ipython().magic('reset -sf')\n"
     ]
    }
   ],
   "source": [
    "# -*- coding: utf-8 -*-\n",
    "\"\"\"\n",
    "Created on April 4, 2024\n",
    "\n",
    "First Version Author: George Zhang\n",
    "\n",
    "\n",
    "\"\"\"\n",
    "User_Ackowledgement = input(\"If you are not the first author, please ADD comments with your name and date for ALL your edits. Ackowledge by answering Y\", )\n",
    "\n",
    "#if User_Ackowledgement is not Y, raise error\n",
    "\n",
    "if User_Ackowledgement != 'Y':\n",
    "\n",
    "    raise ValueError(\"You must acknowledge your edits by answering Y. Please add your name and date in the comments for your edits.\")\n",
    "\n",
    "\n",
    "#%%\n",
    "from IPython import get_ipython\n",
    "get_ipython().magic('reset -sf')\n",
    "\n",
    "import sys\n",
    " \n",
    "# appending a path\n",
    "sys.path.append('')\n",
    " \n",
    "import os\n",
    "import pandas as pd\n",
    "import numpy as np\n",
    "import pickle\n",
    "# import SFR_PD_Recalibration_2023_Lib as tool\n",
    "# import Concentra_SFR_Fit_for_Use_2024_Lib as lib\n",
    "from matplotlib import pyplot as plt\n",
    "import math\n",
    "import pyodbc"
   ]
  },
  {
   "cell_type": "markdown",
   "metadata": {},
   "source": [
    "# Setting Directories"
   ]
  },
  {
   "cell_type": "code",
   "execution_count": 2,
   "metadata": {},
   "outputs": [],
   "source": [
    "current_dir = os.getcwd()  # 20250403 George added\n",
    "\n",
    "# code_dir= \"C:\\\\Users\" +'\\\\' + username + '\\\\' + \"Equitable Bank\\\\EQB-Concentra Fit for Use - Fit_for_Use Development - Fit_for_Use Development\\\\RWA\\\\code\" # 20250403 George commented out Francesca/Joseph's code\n",
    "\n",
    "code_dir = current_dir # 20250403 George added\n",
    "\n",
    "input_dir = code_dir + '\\\\..\\\\' + \"Inputs\" #JT\n",
    "Output_dir = code_dir + '\\\\..\\\\' + \"Outputs\" #JT\n",
    "\n",
    "Jason_Input_dir = code_dir + '\\\\..\\\\' + \"Jason Dec. 2022 RWA Inputs\"\n",
    "\n",
    "Jason_Output_dir = code_dir + '\\\\..\\\\' + \"Replicated Dec 2022 Outputs\"\n"
   ]
  },
  {
   "cell_type": "markdown",
   "metadata": {},
   "source": [
    "# Input and Proces Control"
   ]
  },
  {
   "cell_type": "markdown",
   "metadata": {},
   "source": [
    "# Compare EQB Dec. 2022 with Dec.2024"
   ]
  },
  {
   "cell_type": "code",
   "execution_count": null,
   "metadata": {},
   "outputs": [],
   "source": [
    "# Read eqb_rwa_original_S5_2024.xlsx from Outputs\n",
    "\n",
    "eqb_rwa_original_S5_202412 = pd.read_excel(Output_dir + '\\\\eqb_rwa_original_S5_202412.xlsx', sheet_name='RWA_Data')\n",
    "\n",
    "# Read eqb_rwa_original_S5_202212.xlsx from Jason Outputs\n",
    "\n",
    "eqb_rwa_original_S5_202212 = pd.read_excel(Jason_Output_dir + '\\\\eqb_rwa_original_S5_202212.xlsx', sheet_name='RWA_Data')\n"
   ]
  },
  {
   "cell_type": "code",
   "execution_count": null,
   "metadata": {},
   "outputs": [],
   "source": [
    "# Add a column Reporting_Date to eqb_rwa_original_S5_202412 to have value '2024-12-31'\n",
    "\n",
    "eqb_rwa_original_S5_202412['Reporting_Date'] = pd.to_datetime('2024-12-31')\n",
    "\n",
    "# Add a column Reporting_Date to eqb_rwa_original_S5_202212 to have value '2022-12-31'\n",
    "\n",
    "eqb_rwa_original_S5_202212['Reporting_Date'] = pd.to_datetime('2022-12-31')\n",
    "\n"
   ]
  },
  {
   "cell_type": "code",
   "execution_count": 14,
   "metadata": {},
   "outputs": [],
   "source": [
    "# Concatenate eqb_rwa_original_S5_202412 and eqb_rwa_original_S5_202212\n",
    "\n",
    "eqb_rwa_original_S5_all = pd.concat([eqb_rwa_original_S5_202412, eqb_rwa_original_S5_202212], ignore_index=True)\n",
    "\n",
    "# Save the data set to a csv file\n",
    "\n",
    "eqb_rwa_original_S5_all.to_csv(Output_dir + '\\\\eqb_rwa_original_S5_all.csv', index=False)\n",
    "\n"
   ]
  },
  {
   "cell_type": "code",
   "execution_count": 15,
   "metadata": {},
   "outputs": [],
   "source": [
    "# Merge eqb_rwa_original_S5_202412 and eqb_rwa_original_S5_202212 on 'Loan_Number' and keep identifiers from both dataframes\n",
    "\n",
    "df_Merge = pd.merge(eqb_rwa_original_S5_202412, eqb_rwa_original_S5_202212, on='Loan_Number', how='outer', suffixes=('_2024', '_2022'), indicator=True)\n",
    "\n",
    "# Save Data to Parquet File\n",
    "\n",
    "df_Merge.to_parquet(Output_dir + '\\\\RWA_Data_Merge_2024_2022.parquet', index=False)\n",
    "\n",
    "# Save Data to CSV File\n",
    "\n",
    "df_Merge.to_csv(Output_dir + '\\\\RWA_Data_Merge_2024_2022.csv', index=False)"
   ]
  },
  {
   "cell_type": "code",
   "execution_count": 16,
   "metadata": {},
   "outputs": [],
   "source": [
    "# Create a pivot table with rows as MRS_Bin_PD_2022 and columns as MRS_Bin_PD_2024, and values as count of Loan_Number\n",
    "\n",
    "# Fill missing values in MRS_Bin_PD_2024 with 'Closed'\n",
    "\n",
    "df_Merge['MRS_Bin_PD_2024'] = df_Merge['MRS_Bin_PD_2024'].fillna('Closed')\n",
    "\n",
    "# Fill missing values in MRS_Bin_PD_2022 with 'New'\n",
    "\n",
    "df_Merge['MRS_Bin_PD_2022'] = df_Merge['MRS_Bin_PD_2022'].fillna('New')\n",
    "\n",
    "pivot_table = pd.pivot_table(df_Merge,\n",
    "                             index='MRS_Bin_PD_2022',\n",
    "                             columns='MRS_Bin_PD_2024',\n",
    "                             values='Loan_Number',\n",
    "                             aggfunc='count',\n",
    "                                fill_value=0, \n",
    "                                margins=True,\n",
    "                                margins_name='Total',\n",
    "                                dropna=False)\n",
    "\n",
    "\n"
   ]
  },
  {
   "cell_type": "code",
   "execution_count": null,
   "metadata": {},
   "outputs": [],
   "source": [
    "\n"
   ]
  }
 ],
 "metadata": {
  "kernelspec": {
   "display_name": "Commercial_IFRS9_PD_2024Dev",
   "language": "python",
   "name": "python3"
  },
  "language_info": {
   "codemirror_mode": {
    "name": "ipython",
    "version": 3
   },
   "file_extension": ".py",
   "mimetype": "text/x-python",
   "name": "python",
   "nbconvert_exporter": "python",
   "pygments_lexer": "ipython3",
   "version": "3.10.9"
  }
 },
 "nbformat": 4,
 "nbformat_minor": 2
}
