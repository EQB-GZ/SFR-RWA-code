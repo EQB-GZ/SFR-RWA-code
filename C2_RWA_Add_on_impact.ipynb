{
 "cells": [
  {
   "cell_type": "markdown",
   "id": "f7572d96",
   "metadata": {},
   "source": [
    "# Import Packages"
   ]
  },
  {
   "cell_type": "code",
   "execution_count": 1,
   "id": "b8997cc6",
   "metadata": {},
   "outputs": [],
   "source": [
    "import pandas as pd\n",
    "import numpy as np\n",
    "import os # 20250406 George"
   ]
  },
  {
   "cell_type": "markdown",
   "id": "300f0dc2",
   "metadata": {},
   "source": [
    "# Set Folders"
   ]
  },
  {
   "cell_type": "code",
   "execution_count": 2,
   "id": "36591cca",
   "metadata": {},
   "outputs": [],
   "source": [
    "# Get current working directory\n",
    "\n",
    "current_dir = os.getcwd()  # 20250403 George added\n",
    "\n",
    "# code_dir= \"C:\\\\Users\" +'\\\\' + username + '\\\\' + \"Equitable Bank\\\\EQB-Concentra Fit for Use - Fit_for_Use Development - Fit_for_Use Development\\\\RWA\\\\code\" # 20250403 George commented out Francesca/Joseph's code\n",
    "\n",
    "code_dir = current_dir # 20250406 George added\n",
    "\n",
    "snapshot_num = input('Enter the snapshot needed in the format YYYYMM, e.g. 202212: ') # 20250406 George added\n",
    "\n",
    "if int(snapshot_num) == 202412:\n",
    "    input_dir = code_dir + '\\\\..\\\\' + \"Inputs\" # 20250406 George added\n",
    "    Output_dir = code_dir + '\\\\..\\\\' + \"Outputs\" #20250406 George added\n",
    "\n",
    "if int(snapshot_num) == 202212:\n",
    "    input_dir = code_dir + '\\\\..\\\\' + \"Dec. 2022 RWA Inputs\" #20250410 George added\n",
    "    Output_dir = code_dir + '\\\\..\\\\' + \"Replicated Dec 2022 Outputs\" #20250410 George added"
   ]
  },
  {
   "cell_type": "code",
   "execution_count": 3,
   "id": "8eb25e87",
   "metadata": {},
   "outputs": [
    {
     "name": "stdout",
     "output_type": "stream",
     "text": [
      "c:\\Users\\georgez\\OneDrive - Equitable Bank\\MD_RWA_Impact_Analysis (Joseph)\\SFR\\code\\..\\Replicated Dec 2022 Outputs\n"
     ]
    }
   ],
   "source": [
    "print(Output_dir) # 20250406 George added"
   ]
  },
  {
   "cell_type": "markdown",
   "id": "7a5515b0",
   "metadata": {},
   "source": [
    "# Load Data"
   ]
  },
  {
   "cell_type": "code",
   "execution_count": 4,
   "id": "29ec6eeb",
   "metadata": {},
   "outputs": [],
   "source": [
    "# read parquet file\n",
    "\n",
    "eqb_rwa = pd.read_parquet(Output_dir + '\\\\eqb_rwa_original.parquet', engine='pyarrow') # 20250406 George added"
   ]
  },
  {
   "cell_type": "code",
   "execution_count": 5,
   "id": "6bae0c31-a756-4128-9435-43728987fee9",
   "metadata": {
    "tags": []
   },
   "outputs": [],
   "source": [
    "# read parquet file\n",
    "\n",
    "eqb_rwa_addon_zero = pd.read_parquet(Output_dir + '\\\\eqb_rwa_addon_zero.parquet', engine='pyarrow') # 20250406 George added"
   ]
  },
  {
   "cell_type": "code",
   "execution_count": 6,
   "id": "deccc57e",
   "metadata": {},
   "outputs": [
    {
     "data": {
      "text/plain": [
       "array(['Loan_Number', 'Insured_class', 'EAD', 'Advance_Amount',\n",
       "       'Years_to_maturity', 'corr_uninsured', 'RWA_standardized',\n",
       "       'SL_Date', 'CalibratedPD', 'MRS_Bin_PD', 'Insured_Ind',\n",
       "       'Alt_Prime_Indicator', 'RemainingPrincipal_Tot_Exp',\n",
       "       'RemainingPrincipal_Excl_Partner', 'Corporate_Applicant_Ind',\n",
       "       'Combo_Province_Metro_Override',\n",
       "       'Combo_Province_Metro_Override_WOE',\n",
       "       'Prior_24_Worse_Delinquent_Status_FMT_Adj',\n",
       "       'Prior_24_Worse_Delinquent_Status_FMT_Adj_WOE',\n",
       "       'Beacon_Avg_App_CoApp', 'Beacon_Avg_App_CoApp_WOE',\n",
       "       'BF_LTV_Tot_Exp_FSA_Dw_WF', 'Combo_LTV_Insured_Ind',\n",
       "       'Combo_LTV_Insured_Ind_WOE', 'merge_Chenxi_PD', 'MRS_Bin_LGD',\n",
       "       'LR_Avg_LGD', 'Segment_Avg_LGD', 'Base_Line_LGD',\n",
       "       'LGD_DT_Adjusted', 'Pre_final_LGD', 'Sub_Product',\n",
       "       'BF_Appr_Prov_Dw', 'Appraisal_Bin_WOE', 'Occupancy',\n",
       "       'Occupancy_WOE', 'Province_Foreclosure',\n",
       "       'Province_Foreclosure_WOE', 'BF_LTV_Incl_Parter_Incl_HELOC_FSA_Dw',\n",
       "       'LTV_Bin_WOE', 'merge_ChenxiPD_LGD', 'LoanNumber', 'AddOn',\n",
       "       'DLGD_floor', 'OSFI_LGD_floor', 'Final_LGD', 'LGD_Before_Floors',\n",
       "       'Model_LGD_Modified', 'EAD_DLGD_Modified', 'deductible_amount',\n",
       "       'insured_PMI_ratio', 'EAD_Post_CRM', 'Maturity_adj',\n",
       "       'corr_insured', 'risk_weight_uninsured', 'risk_weight_insured',\n",
       "       'RWA_new'], dtype=object)"
      ]
     },
     "execution_count": 6,
     "metadata": {},
     "output_type": "execute_result"
    }
   ],
   "source": [
    "eqb_rwa.columns.values"
   ]
  },
  {
   "cell_type": "code",
   "execution_count": 12,
   "id": "833a059d-5ea8-440b-b9cd-70fcf1c3905e",
   "metadata": {},
   "outputs": [
    {
     "data": {
      "text/plain": [
       "Not Insured    30700\n",
       "Insured        27894\n",
       "Name: Insured_Ind, dtype: int64"
      ]
     },
     "execution_count": 12,
     "metadata": {},
     "output_type": "execute_result"
    }
   ],
   "source": [
    "eqb_rwa.Insured_Ind.value_counts()"
   ]
  },
  {
   "cell_type": "markdown",
   "id": "0c90a970",
   "metadata": {},
   "source": [
    "# Calculate Addon for Not Insured"
   ]
  },
  {
   "cell_type": "code",
   "execution_count": 13,
   "id": "1a5a9656",
   "metadata": {},
   "outputs": [],
   "source": [
    "summ=eqb_rwa.query(\"Insured_Ind=='Not Insured'\").groupby(['Combo_LTV_Insured_Ind','Combo_Province_Metro_Override_WOE'],dropna=False).RWA_new.agg(['count','sum'])"
   ]
  },
  {
   "cell_type": "code",
   "execution_count": 14,
   "id": "6dc722f4-fd3f-44a8-b373-5d0d32774061",
   "metadata": {},
   "outputs": [],
   "source": [
    "summ_addon_zero=eqb_rwa_addon_zero.query(\"Insured_Ind=='Not Insured'\").groupby(['Combo_LTV_Insured_Ind','Combo_Province_Metro_Override_WOE'],dropna=False).RWA_new.agg(['count','sum']).rename(columns={'count':'count_addon_zero','sum':'sum_addon_zero'})"
   ]
  },
  {
   "cell_type": "code",
   "execution_count": 15,
   "id": "155a6136-a30f-48c5-bf01-87aa9a8e9b95",
   "metadata": {},
   "outputs": [],
   "source": [
    "add_on_impact = pd.concat([summ,summ_addon_zero],axis=1)"
   ]
  },
  {
   "cell_type": "code",
   "execution_count": 16,
   "id": "490700db-0c4c-46b2-a33e-0d7e6d210f29",
   "metadata": {},
   "outputs": [],
   "source": [
    "add_on_impact['impact']=add_on_impact['sum']/add_on_impact['sum_addon_zero']"
   ]
  },
  {
   "cell_type": "code",
   "execution_count": 17,
   "id": "ca4a4774-528f-4799-ab77-4494c500a2d3",
   "metadata": {},
   "outputs": [],
   "source": [
    "add_on_impact.reset_index(inplace=True)"
   ]
  },
  {
   "cell_type": "markdown",
   "id": "b4708075",
   "metadata": {},
   "source": [
    "# Sanity Check "
   ]
  },
  {
   "cell_type": "code",
   "execution_count": 18,
   "id": "b8d3dd6c",
   "metadata": {},
   "outputs": [
    {
     "name": "stdout",
     "output_type": "stream",
     "text": [
      "        Combo_LTV_Insured_Ind  Combo_Province_Metro_Override_WOE  count  \\\n",
      "0                                                      -0.389936     21   \n",
      "1                                                      -0.161658      1   \n",
      "2                                                       0.165650      6   \n",
      "3   Uninsured, 0.30<LTV<=0.50                          -0.389936    609   \n",
      "4   Uninsured, 0.30<LTV<=0.50                          -0.161658   1047   \n",
      "5   Uninsured, 0.30<LTV<=0.50                           0.165650   5224   \n",
      "6   Uninsured, 0.30<LTV<=0.50                           0.253031    629   \n",
      "7   Uninsured, 0.50<LTV<=0.65                          -0.389936   1582   \n",
      "8   Uninsured, 0.50<LTV<=0.65                          -0.161658   1315   \n",
      "9   Uninsured, 0.50<LTV<=0.65                           0.165650   4541   \n",
      "10  Uninsured, 0.50<LTV<=0.65                           0.253031    765   \n",
      "11  Uninsured, 0.65<LTV<=0.70                          -0.389936    628   \n",
      "12  Uninsured, 0.65<LTV<=0.70                          -0.161658    526   \n",
      "13  Uninsured, 0.65<LTV<=0.70                           0.165650   1455   \n",
      "14  Uninsured, 0.65<LTV<=0.70                           0.253031    319   \n",
      "15  Uninsured, 0.70<LTV<=0.80                          -0.389936   1015   \n",
      "16  Uninsured, 0.70<LTV<=0.80                          -0.161658   1032   \n",
      "17  Uninsured, 0.70<LTV<=0.80                           0.165650   3725   \n",
      "18  Uninsured, 0.70<LTV<=0.80                           0.253031    578   \n",
      "19       Uninsured, LTV<=0.30                          -0.389936    123   \n",
      "20       Uninsured, LTV<=0.30                          -0.161658    170   \n",
      "21       Uninsured, LTV<=0.30                           0.165650   1516   \n",
      "22       Uninsured, LTV<=0.30                           0.253031    145   \n",
      "23        Uninsured, LTV>0.80                          -0.389936    221   \n",
      "24        Uninsured, LTV>0.80                          -0.161658    157   \n",
      "25        Uninsured, LTV>0.80                           0.165650   2942   \n",
      "26        Uninsured, LTV>0.80                           0.253031    359   \n",
      "\n",
      "             sum  count_addon_zero  sum_addon_zero    impact  \n",
      "0   7.049254e+06                21    7.049254e+06  1.000000  \n",
      "1   2.249130e+04                 1    2.249130e+04  1.000000  \n",
      "2   3.309409e+05                 6    3.309409e+05  1.000000  \n",
      "3   3.360102e+07               609    3.360102e+07  1.000000  \n",
      "4   3.858493e+07              1047    3.858113e+07  1.000098  \n",
      "5   1.814374e+08              5224    1.814345e+08  1.000016  \n",
      "6   2.785331e+07               629    2.785331e+07  1.000000  \n",
      "7   1.326911e+08              1582    1.325964e+08  1.000714  \n",
      "8   8.795710e+07              1315    8.317482e+07  1.057497  \n",
      "9   2.629965e+08              4541    2.544890e+08  1.033430  \n",
      "10  4.989298e+07               765    4.900718e+07  1.018075  \n",
      "11  7.402770e+07               628    7.370211e+07  1.004418  \n",
      "12  6.255350e+07               526    5.329150e+07  1.173799  \n",
      "13  1.592008e+08              1455    1.242211e+08  1.281592  \n",
      "14  2.994083e+07               319    2.797637e+07  1.070219  \n",
      "15  1.891192e+08              1015    1.877995e+08  1.007027  \n",
      "16  1.913282e+08              1032    1.498585e+08  1.276725  \n",
      "17  6.646221e+08              3725    4.298127e+08  1.546306  \n",
      "18  1.025349e+08               578    8.819210e+07  1.162631  \n",
      "19  2.250244e+06               123    2.250244e+06  1.000000  \n",
      "20  2.939789e+06               170    2.939789e+06  1.000000  \n",
      "21  2.622663e+07              1516    2.622663e+07  1.000000  \n",
      "22  2.590779e+06               145    2.590779e+06  1.000000  \n",
      "23  6.455449e+07               221    6.455449e+07  1.000000  \n",
      "24  4.180275e+07               157    3.506617e+07  1.192110  \n",
      "25  8.994575e+08              2942    5.823918e+08  1.544420  \n",
      "26  9.781314e+07               359    6.973465e+07  1.402647  \n"
     ]
    }
   ],
   "source": [
    "# print (add_on_impact)\n",
    "\n",
    "print(add_on_impact)"
   ]
  },
  {
   "cell_type": "markdown",
   "id": "2cae4ed8",
   "metadata": {},
   "source": [
    "# Save Data"
   ]
  },
  {
   "cell_type": "code",
   "execution_count": 19,
   "id": "6486b3a8-b669-460d-897b-3528371c1959",
   "metadata": {},
   "outputs": [],
   "source": [
    "# Save Data\n",
    "#add_on_impact.to_excel(r'C:\\\\Users\\\\jasonz\\\\OneDrive - Equitable Bank\\\\Fit_for_Use Development\\\\RWA\\\\addon_impact.xlsx')\n",
    "# add_on_impact.to_excel(r'C:\\\\Users\\\\francescav\\\\OneDrive - Equitable Bank\\\\EQB-Concentra Fit for Use - Fit_for_Use Development - Fit_for_Use Development\\\\RWA\\code\\\\Outputs\\\\\\addon_impact.xlsx') # 20250406 George commented out Francesca's code\n",
    "\n",
    "add_on_impact.to_excel(Output_dir + '\\\\addon_impact.xlsx') # 20250406 George added"
   ]
  }
 ],
 "metadata": {
  "kernelspec": {
   "display_name": "Commercial_IFRS9_PD_2024Dev",
   "language": "python",
   "name": "python3"
  },
  "language_info": {
   "codemirror_mode": {
    "name": "ipython",
    "version": 3
   },
   "file_extension": ".py",
   "mimetype": "text/x-python",
   "name": "python",
   "nbconvert_exporter": "python",
   "pygments_lexer": "ipython3",
   "version": "3.10.9"
  }
 },
 "nbformat": 4,
 "nbformat_minor": 5
}
