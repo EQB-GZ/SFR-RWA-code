{
 "cells": [
  {
   "cell_type": "code",
   "execution_count": 19,
   "id": "b8997cc6",
   "metadata": {},
   "outputs": [],
   "source": [
    "import pandas as pd\n",
    "import numpy as np\n",
    "import os # 20250406 George"
   ]
  },
  {
   "cell_type": "code",
   "execution_count": 20,
   "id": "36591cca",
   "metadata": {},
   "outputs": [],
   "source": [
    "# Get current working directory\n",
    "\n",
    "current_dir = os.getcwd()  # 20250403 George added\n",
    "\n",
    "# code_dir= \"C:\\\\Users\" +'\\\\' + username + '\\\\' + \"Equitable Bank\\\\EQB-Concentra Fit for Use - Fit_for_Use Development - Fit_for_Use Development\\\\RWA\\\\code\" # 20250403 George commented out Francesca/Joseph's code\n",
    "\n",
    "code_dir = current_dir # 20250406 George added\n",
    "\n",
    "snapshot_num = input('Enter the snapshot needed in the format YYYYMM, e.g. 202212: ') # 20250406 George added\n",
    "\n",
    "if int(snapshot_num) == 202412:\n",
    "    input_dir = code_dir + '\\\\..\\\\' + \"Inputs\" # 20250406 George added\n",
    "    Output_dir = code_dir + '\\\\..\\\\' + \"Outputs\" #20250406 George added\n",
    "\n",
    "if int(snapshot_num) == 202212:\n",
    "    input_dir = code_dir + '\\\\..\\\\' + \"Dec. 2022 RWA Inputs\" #20250410 George added\n",
    "    Output_dir = code_dir + '\\\\..\\\\' + \"Replicated Dec 2022 Outputs\" #20250410 George added"
   ]
  },
  {
   "cell_type": "code",
   "execution_count": 21,
   "id": "8eb25e87",
   "metadata": {},
   "outputs": [
    {
     "name": "stdout",
     "output_type": "stream",
     "text": [
      "c:\\Users\\georgez\\OneDrive - Equitable Bank\\MD_RWA_Impact_Analysis (Joseph)\\SFR\\code\\..\\Replicated Dec 2022 Outputs\n"
     ]
    }
   ],
   "source": [
    "print(Output_dir) # 20250406 George added"
   ]
  },
  {
   "cell_type": "code",
   "execution_count": 22,
   "id": "29ec6eeb",
   "metadata": {},
   "outputs": [],
   "source": [
    "#eqb_rwa = pd.read_excel(\"C:\\\\Users\\\\jasonz\\\\OneDrive - Equitable Bank\\\\Fit_for_Use Development\\\\RWA\\\\eqb_rwa_original.xlsx\", sheet_name=\"RWA_Data\")\n",
    "# eqb_rwa = pd.read_excel(\"C:\\\\Users\\\\francescav\\\\OneDrive - Equitable Bank\\\\EQB-Concentra Fit for Use - Fit_for_Use Development - Fit_for_Use Development\\\\RWA\\code\\\\Outputs\\\\eqb_rwa_original.xlsx\", sheet_name=\"RWA_Data\")   # 2050403 George commented out Francesca's code\n",
    "\n",
    "eqb_rwa = pd.read_excel(Output_dir + '\\\\eqb_rwa_original.xlsx', sheet_name=\"RWA_Data\") # 20250406 George added"
   ]
  },
  {
   "cell_type": "code",
   "execution_count": 23,
   "id": "6bae0c31-a756-4128-9435-43728987fee9",
   "metadata": {
    "tags": []
   },
   "outputs": [],
   "source": [
    "#eqb_rwa_addon_zero = pd.read_excel(\"C:\\\\Users\\\\jasonz\\\\OneDrive - Equitable Bank\\\\Fit_for_Use Development\\\\RWA\\\\eqb_rwa_addon_zero.xlsx\", sheet_name=\"RWA_Data\")\n",
    "# eqb_rwa_addon_zero = pd.read_excel(\"C:\\\\Users\\\\francescav\\\\OneDrive - Equitable Bank\\\\EQB-Concentra Fit for Use - Fit_for_Use Development - Fit_for_Use Development\\\\RWA\\code\\\\Outputs\\\\eqb_rwa_addon_zero.xlsx\", sheet_name=\"RWA_data\") #20250406 George commented out Francesca's code\n",
    "\n",
    "eqb_rwa_addon_zero = pd.read_excel(Output_dir + \"\\\\eqb_rwa_addon_zero.xlsx\", sheet_name=\"RWA_data\") # 20250406 George added"
   ]
  },
  {
   "cell_type": "code",
   "execution_count": 24,
   "id": "deccc57e",
   "metadata": {},
   "outputs": [
    {
     "data": {
      "text/plain": [
       "array(['Loan_Number', 'Insured_class', 'EAD', 'Advance_Amount',\n",
       "       'Years_to_maturity', 'corr_uninsured', 'rwa_airb',\n",
       "       'RWA_standardized', 'SL_Date', 'CalibratedPD', 'MRS_Bin_PD',\n",
       "       'Insured_Ind', 'Alt_Prime_Indicator', 'RemainingPrincipal_Tot_Exp',\n",
       "       'RemainingPrincipal_Excl_Partner', 'MRS_Bin_LGD', 'LR_Avg_LGD',\n",
       "       'Segment_Avg_LGD', 'Base_Line_LGD', 'LGD_DT_Adjusted',\n",
       "       'Pre_final_LGD', 'Occupancy', 'LoanNumber', 'AddOn', 'DLGD_floor',\n",
       "       'OSFI_LGD_floor', 'Final_LGD', 'deductible_amount',\n",
       "       'insured_PMI_ratio', 'Maturity_adj', 'corr_insured',\n",
       "       'risk_weight_uninsured', 'risk_weight_insured', 'RWA_new'],\n",
       "      dtype=object)"
      ]
     },
     "execution_count": 24,
     "metadata": {},
     "output_type": "execute_result"
    }
   ],
   "source": [
    "eqb_rwa.columns.values"
   ]
  },
  {
   "cell_type": "code",
   "execution_count": 25,
   "id": "6b012565",
   "metadata": {},
   "outputs": [
    {
     "data": {
      "text/plain": [
       "'\\nAlready added in filtered in the above dataset\\npd2024[\\'AIRB_Scope_Exclusion_Flag\\']=0 # 20250403 Fran added exclusion ind for 2024_12_31\\npd2024.loc[pd2024.Sub_Product.isin([\\'GMAC\\', \\'Street Capital\\']) ,\\'AIRB_Scope_Exclusion_Flag\\']=1.0 \\npd2024.loc[pd2024.LoanType.isin([150]) ,\\'AIRB_Scope_Exclusion_Flag\\']=1.0 \\npd_2024=pd2024.query(\"AIRB_Scope_Exclusion_Flag==0 and Post_Default_Ind==0 and SL_Date==\\'2024-12-31\\'\")\\n'"
      ]
     },
     "execution_count": 25,
     "metadata": {},
     "output_type": "execute_result"
    }
   ],
   "source": [
    "#pd2022 = pd.read_csv(r'C:\\Users\\jasonz\\OneDrive - Equitable Bank\\Fit_for_Use Development\\git_repos_MD\\jasonz\\input_data\\MRS_Replcation_Check (Sent to Abhi 20240221).csv')\n",
    "# pd_2024 = pd.read_parquet(\"C:\\\\Users\\\\francescav\\\\OneDrive - Equitable Bank\\\\EQB-Concentra Fit for Use - Fit_for_Use Development - Fit_for_Use Development\\\\RWA\\code\\\\Inputs\\\\Rating_July2020_to_Dec2024_EQB_wAIRBScopeExcl_and_PostDefault_indicators (from Francesca 20250403).parquet\")  #20250403 George commented out Francesca's code\n",
    "\n",
    "pd_2024 = pd.read_parquet(input_dir + \"\\\\Rating_July2020_to_Dec2024_EQB_wAIRBScopeExcl_and_PostDefault_indicators (from Francesca 20250403).parquet\")  # 20250406 George added\n",
    "\n",
    "\n",
    "\n",
    "#pd_2022=pd2022.query(\"AIRB_Scope_Exclusion_Flag==0 and Post_Default_Ind==0 and SL_Date=='2022-12-31'\")\n",
    "#pd2024['Sub_Product'].unique()\n",
    "#pd2024['LoanType'].unique()\n",
    "#pd2024.columns.values\n",
    "'''\n",
    "Already added in filtered in the above dataset\n",
    "pd2024['AIRB_Scope_Exclusion_Flag']=0 # 20250403 Fran added exclusion ind for 2024_12_31\n",
    "pd2024.loc[pd2024.Sub_Product.isin(['GMAC', 'Street Capital']) ,'AIRB_Scope_Exclusion_Flag']=1.0 \n",
    "pd2024.loc[pd2024.LoanType.isin([150]) ,'AIRB_Scope_Exclusion_Flag']=1.0 \n",
    "pd_2024=pd2024.query(\"AIRB_Scope_Exclusion_Flag==0 and Post_Default_Ind==0 and SL_Date=='2024-12-31'\")\n",
    "'''"
   ]
  },
  {
   "cell_type": "code",
   "execution_count": 26,
   "id": "b8ef725a",
   "metadata": {},
   "outputs": [
    {
     "data": {
      "text/plain": [
       "(54989, 33)"
      ]
     },
     "execution_count": 26,
     "metadata": {},
     "output_type": "execute_result"
    }
   ],
   "source": [
    "#pd_2022.shape\n",
    "pd_2024.shape"
   ]
  },
  {
   "cell_type": "code",
   "execution_count": 27,
   "id": "967ff4b0-df28-4f18-9a91-66967148d6ea",
   "metadata": {},
   "outputs": [
    {
     "data": {
      "text/plain": [
       "array(['Loan_Number', 'SL_Date', 'Delinquency_Status_Adj',\n",
       "       'RemainingPrincipal_Tot_Exp', 'Insured_Ind', 'Dwelling_Type',\n",
       "       'Funded_Date', 'FSA', 'City', 'Metro_Region_BF_FMT', 'Province',\n",
       "       'AppraisalValue_Inception',\n",
       "       'Prior_24_Worse_Delinquent_Status_FMT_Adj',\n",
       "       'Corporate_Applicant_Ind', 'Beacon_Avg_App_CoApp',\n",
       "       'BF_LTV_Tot_Exp_FSA_Dw_WF', 'Sub_Product', 'LoanType',\n",
       "       'RemainingPrincipal_Excl_Partner', 'Alt_Prime_Indicator',\n",
       "       'Combo_Province_Metro_Override', 'Combo_LTV_Insured_Ind',\n",
       "       'Beacon_Avg_App_CoApp_WOE',\n",
       "       'Prior_24_Worse_Delinquent_Status_FMT_Adj_WOE',\n",
       "       'Combo_Province_Metro_Override_WOE', 'Combo_LTV_Insured_Ind_WOE',\n",
       "       'log_odds', 'PD_scoring', 'AIRB_PD_Risk_Rating', 'PD_Pre_MOC',\n",
       "       'PD_Post_MOC', 'Post_Default_Ind', 'AIRB_Scope_Exclusion_Flag'],\n",
       "      dtype=object)"
      ]
     },
     "execution_count": 27,
     "metadata": {},
     "output_type": "execute_result"
    }
   ],
   "source": [
    "#pd_2022.columns.values\n",
    "pd_2024.columns.values"
   ]
  },
  {
   "cell_type": "code",
   "execution_count": 28,
   "id": "683e5d2c-9d94-43e9-bec5-76df3a3dadf0",
   "metadata": {},
   "outputs": [],
   "source": [
    "#eqb_rwa= eqb_rwa.merge(pd_2022[['Loan_Number','Combo_Province_Metro_Override','Combo_Province_Metro_Override_WOE','Combo_LTV_Insured_Ind']],on='Loan_Number', how='left')\n",
    "eqb_rwa= eqb_rwa.merge(pd_2024[['Loan_Number','Combo_Province_Metro_Override','Combo_Province_Metro_Override_WOE','Combo_LTV_Insured_Ind']],on='Loan_Number', how='left')"
   ]
  },
  {
   "cell_type": "code",
   "execution_count": 29,
   "id": "d538f035-5355-484d-be8c-1761833b07eb",
   "metadata": {},
   "outputs": [],
   "source": [
    "#eqb_rwa_addon_zero= eqb_rwa_addon_zero.merge(pd_2022[['Loan_Number','Combo_Province_Metro_Override','Combo_Province_Metro_Override_WOE','Combo_LTV_Insured_Ind']],on='Loan_Number', how='left')\n",
    "eqb_rwa_addon_zero= eqb_rwa_addon_zero.merge(pd_2024[['Loan_Number','Combo_Province_Metro_Override','Combo_Province_Metro_Override_WOE','Combo_LTV_Insured_Ind']],on='Loan_Number', how='left')"
   ]
  },
  {
   "cell_type": "code",
   "execution_count": 30,
   "id": "833a059d-5ea8-440b-b9cd-70fcf1c3905e",
   "metadata": {},
   "outputs": [
    {
     "data": {
      "text/plain": [
       "Not Insured    30586\n",
       "Insured        27867\n",
       "Name: Insured_Ind, dtype: int64"
      ]
     },
     "execution_count": 30,
     "metadata": {},
     "output_type": "execute_result"
    }
   ],
   "source": [
    "eqb_rwa.Insured_Ind.value_counts()"
   ]
  },
  {
   "cell_type": "code",
   "execution_count": 31,
   "id": "1a5a9656",
   "metadata": {},
   "outputs": [],
   "source": [
    "summ=eqb_rwa.query(\"Insured_Ind=='Not Insured'\").groupby(['Combo_LTV_Insured_Ind','Combo_Province_Metro_Override_WOE'],dropna=False).RWA_new.agg(['count','sum'])"
   ]
  },
  {
   "cell_type": "code",
   "execution_count": 32,
   "id": "6dc722f4-fd3f-44a8-b373-5d0d32774061",
   "metadata": {},
   "outputs": [],
   "source": [
    "summ_addon_zero=eqb_rwa_addon_zero.query(\"Insured_Ind=='Not Insured'\").groupby(['Combo_LTV_Insured_Ind','Combo_Province_Metro_Override_WOE'],dropna=False).RWA_new.agg(['count','sum']).rename(columns={'count':'count_addon_zero','sum':'sum_addon_zero'})"
   ]
  },
  {
   "cell_type": "code",
   "execution_count": 33,
   "id": "155a6136-a30f-48c5-bf01-87aa9a8e9b95",
   "metadata": {},
   "outputs": [],
   "source": [
    "add_on_impact = pd.concat([summ,summ_addon_zero],axis=1)"
   ]
  },
  {
   "cell_type": "code",
   "execution_count": 34,
   "id": "490700db-0c4c-46b2-a33e-0d7e6d210f29",
   "metadata": {},
   "outputs": [],
   "source": [
    "add_on_impact['impact']=add_on_impact['sum']/add_on_impact['sum_addon_zero']"
   ]
  },
  {
   "cell_type": "code",
   "execution_count": 35,
   "id": "ca4a4774-528f-4799-ab77-4494c500a2d3",
   "metadata": {},
   "outputs": [],
   "source": [
    "add_on_impact.reset_index(inplace=True)"
   ]
  },
  {
   "cell_type": "markdown",
   "id": "2cae4ed8",
   "metadata": {},
   "source": [
    "# Save Data"
   ]
  },
  {
   "cell_type": "code",
   "execution_count": 36,
   "id": "6486b3a8-b669-460d-897b-3528371c1959",
   "metadata": {},
   "outputs": [],
   "source": [
    "# Save Data\n",
    "#add_on_impact.to_excel(r'C:\\\\Users\\\\jasonz\\\\OneDrive - Equitable Bank\\\\Fit_for_Use Development\\\\RWA\\\\addon_impact.xlsx')\n",
    "# add_on_impact.to_excel(r'C:\\\\Users\\\\francescav\\\\OneDrive - Equitable Bank\\\\EQB-Concentra Fit for Use - Fit_for_Use Development - Fit_for_Use Development\\\\RWA\\code\\\\Outputs\\\\\\addon_impact.xlsx') # 20250406 George commented out Francesca's code\n",
    "\n",
    "add_on_impact.to_excel(Output_dir + '\\\\addon_impact.xlsx') # 20250406 George added"
   ]
  },
  {
   "cell_type": "code",
   "execution_count": null,
   "id": "6f563754-30ef-4749-9ae6-de6ea1e3f402",
   "metadata": {},
   "outputs": [],
   "source": []
  }
 ],
 "metadata": {
  "kernelspec": {
   "display_name": "Commercial_IFRS9_PD_2024Dev",
   "language": "python",
   "name": "python3"
  },
  "language_info": {
   "codemirror_mode": {
    "name": "ipython",
    "version": 3
   },
   "file_extension": ".py",
   "mimetype": "text/x-python",
   "name": "python",
   "nbconvert_exporter": "python",
   "pygments_lexer": "ipython3",
   "version": "3.10.9"
  }
 },
 "nbformat": 4,
 "nbformat_minor": 5
}
