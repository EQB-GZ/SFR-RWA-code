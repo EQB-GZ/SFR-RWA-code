{
 "cells": [
  {
   "cell_type": "markdown",
   "id": "344ed9ef",
   "metadata": {},
   "source": [
    "Purpose of this Code is to calculate RWA for Corporate Loans:\n",
    "\n",
    "* Prepare Corporate Loan Data based on PD and LGD scoring data (these are input data required) because corporate and Concentra loans have not been implemnted in production when this code is created\n",
    "\n",
    "* Create some columns (e.g. Insured_Class, Years_to_Maturity) that are needed for RWA calculation\n",
    "\n",
    "* Calculate RWA assuming DLGD Addon = 0 (again, because they are not implemented yet, do not have addon values readily available and it is not straightforward to code)\n",
    "\n",
    "* Calculate RWA by using addon scalar, which is created based on EQB personal loans (this addon file is output from EQB personal loan RWA calculation)"
   ]
  },
  {
   "cell_type": "markdown",
   "id": "b18b7ff4",
   "metadata": {},
   "source": [
    "# Import Package"
   ]
  },
  {
   "cell_type": "code",
   "execution_count": 1,
   "id": "5f46fdf8-effa-48f5-99f0-ee81fb3836a9",
   "metadata": {},
   "outputs": [],
   "source": [
    "import sys\n",
    " \n",
    "# appending a path\n",
    "sys.path.append('')\n",
    " \n",
    "import os\n",
    "import pandas as pd\n",
    "import numpy as np\n",
    "import pickle\n",
    "# import SFR_PD_Recalibration_2023_Lib as tool\n",
    "# import Concentra_SFR_Fit_for_Use_2024_Lib as lib\n",
    "from matplotlib import pyplot as plt\n",
    "import math\n",
    "\n",
    "import Lib_RWA as Lib_RWA\n",
    "\n",
    "del sys.modules['Lib_RWA']  # Remove the module from sys.modules to force a reload\n",
    "\n",
    "import Lib_RWA as Lib_RWA"
   ]
  },
  {
   "cell_type": "code",
   "execution_count": 2,
   "id": "f99f6997",
   "metadata": {},
   "outputs": [
    {
     "name": "stderr",
     "output_type": "stream",
     "text": [
      "C:\\Users\\georgez\\AppData\\Local\\Temp\\ipykernel_9064\\3764690850.py:1: DeprecationWarning: Importing display from IPython.core.display is deprecated since IPython 7.14, please import from IPython display\n",
      "  from IPython.core.display import display, HTML\n"
     ]
    },
    {
     "data": {
      "text/html": [
       "<style>div.output_scroll { height: 44em; }</style>"
      ],
      "text/plain": [
       "<IPython.core.display.HTML object>"
      ]
     },
     "metadata": {},
     "output_type": "display_data"
    },
    {
     "data": {
      "text/html": [
       "<style>.container { width:100% !important; }</style>"
      ],
      "text/plain": [
       "<IPython.core.display.HTML object>"
      ]
     },
     "metadata": {},
     "output_type": "display_data"
    },
    {
     "data": {
      "text/html": [
       "<style>.container { width:100% !important; }</style>"
      ],
      "text/plain": [
       "<IPython.core.display.HTML object>"
      ]
     },
     "metadata": {},
     "output_type": "display_data"
    }
   ],
   "source": [
    "from IPython.core.display import display, HTML\n",
    "display(HTML(\"<style>div.output_scroll { height: 44em; }</style>\"))\n",
    "from IPython.display import display, HTML\n",
    "display(HTML(\"<style>.container { width:100% !important; }</style>\"))\n",
    "display(HTML(\"<style>.container { width:100% !important; }</style>\"))"
   ]
  },
  {
   "cell_type": "code",
   "execution_count": 3,
   "id": "686f60be-a81f-4214-a91c-123102d16812",
   "metadata": {
    "tags": []
   },
   "outputs": [],
   "source": [
    "pd.set_option('display.max_rows', 500)\n",
    "pd.set_option('display.max_columns', 500)\n",
    "pd.set_option('display.width', 1000)"
   ]
  },
  {
   "cell_type": "markdown",
   "id": "7bdbc52f",
   "metadata": {},
   "source": [
    "# Inputs"
   ]
  },
  {
   "cell_type": "code",
   "execution_count": 4,
   "id": "34729f76-097e-45ae-ac7c-05e085a0a42d",
   "metadata": {},
   "outputs": [],
   "source": [
    "#Snapshot Info\n",
    "snapshot_num = 202212 # 20250412 George commented out\n",
    "snapshot = str(snapshot_num) # 20250412 George commented out\n",
    "snapshot_date = '2022-12-31' # 20250412 George commented out\n",
    "\n",
    "# snapshot_num = 202412 # 20250412 George added\n",
    "# snapshot = str(snapshot_num) # 20250412 George added\n",
    "# snapshot_date = '2024-12-31' # 20250412 George added\n",
    "\n"
   ]
  },
  {
   "cell_type": "code",
   "execution_count": 5,
   "id": "188c35e0",
   "metadata": {},
   "outputs": [],
   "source": [
    "\n",
    "#CAR 2023 Ch5 prescribed\n",
    "correlation_residential_mortgages = 0.15\n",
    "correlation_residential_mortgages_rental = 0.22\n",
    "\n",
    "CMHC_pd = 0.0001\n",
    "CMHC_lgd = 0.11 #according to the newly developed Sovereign LGD model\n",
    "\n",
    "lgd_gen_floor = 0.1 #general floor by CAR 2023\n"
   ]
  },
  {
   "cell_type": "code",
   "execution_count": 6,
   "id": "502b66a9",
   "metadata": {},
   "outputs": [],
   "source": [
    "# Columns to Keep\n",
    "\n",
    "RWA_Info_Cols_to_Keep = ['Loan_Number','Insured_class','EAD','Advance_Amount','Years_to_maturity', 'corr_uninsured', 'RWA_standardized']\n",
    "\n",
    "PD_Cols_to_Keep = ['Loan_Number','SL_Date','PD_Pre_MOC','PD_Post_MOC_Pre_Adj','PD_Post_MOC','MRS_Bin_PD','Insured_Ind','Alt_Prime_Indicator','RemainingPrincipal_Tot_Exp','RemainingPrincipal_Excl_Partner', 'Corporate_Applicant_Ind','Combo_Province_Metro_Override','Combo_Province_Metro_Override_WOE', 'Prior_24_Worse_Delinquent_Status_FMT_Adj', 'Prior_24_Worse_Delinquent_Status_FMT_Adj_WOE','Beacon_Avg_App_CoApp','Beacon_Avg_App_CoApp_WOE','BF_LTV_Tot_Exp_FSA_Dw_WF','Combo_LTV_Insured_Ind','Combo_LTV_Insured_Ind_WOE']\n",
    "\n",
    "PD_Cols_for_Corp = ['AdvancedAmount_EQB_Exp','AdvancedAmount_Total_Exp','AdvancedAmt_Incl_Part','AdvancedAmt_Excl_Part','Remaining_Term'] \n",
    "\n",
    "\n",
    "LGD_Cols_to_Keep = ['Loan_Number','MRS_Bin_LGD','LR_Avg_LGD','Segment_Avg_LGD','Base_Line_LGD','LGD_DT_Adjusted','Model_LGD','Sub_Product','BF_Appr_Prov_Dw','Appraisal_Bin_WOE', 'Occupancy', 'Occupancy_WOE', 'Province_Foreclosure', 'Province_Foreclosure_WOE', 'BF_LTV_Incl_Parter_Incl_HELOC_FSA_Dw','LTV_Bin_WOE' ]\n"
   ]
  },
  {
   "cell_type": "markdown",
   "id": "92628b98",
   "metadata": {},
   "source": [
    "# Set Folders"
   ]
  },
  {
   "cell_type": "code",
   "execution_count": 7,
   "id": "411f9eaa",
   "metadata": {},
   "outputs": [],
   "source": [
    "# Get current working directory\n",
    "\n",
    "current_dir = os.getcwd()  # 20250403 George added\n",
    "\n",
    "# code_dir= \"C:\\\\Users\" +'\\\\' + username + '\\\\' + \"Equitable Bank\\\\EQB-Concentra Fit for Use - Fit_for_Use Development - Fit_for_Use Development\\\\RWA\\\\code\" # 20250403 George commented out Francesca/Joseph's code\n",
    "\n",
    "code_dir = current_dir # 20250403 George added\n",
    "\n",
    "if int(snapshot_num) == 202412:\n",
    "    input_dir = code_dir + '\\\\..\\\\' + \"Inputs\" # 20250406 George added\n",
    "    Output_dir = code_dir + '\\\\..\\\\' + \"Outputs\" #20250406 George added\n",
    "\n",
    "if int(snapshot_num) == 202212:\n",
    "    input_dir = code_dir + '\\\\..\\\\' + \"Dec. 2022 RWA Inputs\" #20250410 George added\n",
    "    Output_dir = code_dir + '\\\\..\\\\' + \"Replicated Dec 2022 Outputs\" #20250410 George added"
   ]
  },
  {
   "cell_type": "markdown",
   "id": "95aa77f1",
   "metadata": {},
   "source": [
    "# Prepare Coporate Loan Data"
   ]
  },
  {
   "cell_type": "markdown",
   "id": "22c3c863",
   "metadata": {},
   "source": [
    "## Load PD Scoring Data"
   ]
  },
  {
   "cell_type": "code",
   "execution_count": 8,
   "id": "b2c4b26a",
   "metadata": {},
   "outputs": [],
   "source": [
    "# add new SFR PD model generated PD \n",
    "\n",
    "#new_pd_data = pd.read_csv( Active_dir +'\\\\'+'PARAM_Pred_PD'  + '.csv', low_memory=False) # 20250402 George Commented out \n",
    "new_pd_data = pd.read_pickle(input_dir + '\\\\Rating_July2020_to_Dec2024_EQB (from George 20250414).pkl') # 20250402 George added\n",
    "new_pd_data_red = new_pd_data.loc[new_pd_data['SL_Date'] == snapshot_date]\n"
   ]
  },
  {
   "cell_type": "code",
   "execution_count": 9,
   "id": "6ae52d42",
   "metadata": {},
   "outputs": [
    {
     "name": "stdout",
     "output_type": "stream",
     "text": [
      "['AIRB_PD_Risk_Rating', 'AdvancedAmount_EQB_Exp', 'AdvancedAmount_Total_Exp', 'AdvancedAmt_Excl_Part', 'AdvancedAmt_Incl_Part', 'Alt_Prime_Indicator', 'AppraisalValue_Inception', 'BF_LTV_Tot_Exp_FSA_Dw_WF', 'Beacon_Avg_App_CoApp', 'Beacon_Avg_App_CoApp_WOE', 'City', 'Combo_LTV_Insured_Ind', 'Combo_LTV_Insured_Ind_WOE', 'Combo_Province_Metro_Override', 'Combo_Province_Metro_Override_WOE', 'Corporate_Applicant_Ind', 'Delinquency_Status_Adj', 'Dwelling_Type', 'FSA', 'Funded_Date', 'Insured_Ind', 'LoanType', 'Loan_Number', 'Metro_Region_BF_FMT', 'PD_Post_MOC', 'PD_Pre_MOC', 'PD_scoring', 'Prior_24_Worse_Delinquent_Status_FMT_Adj', 'Prior_24_Worse_Delinquent_Status_FMT_Adj_WOE', 'Province', 'RemainingPrincipal_Excl_Partner', 'RemainingPrincipal_Tot_Exp', 'Remaining_Term', 'SL_Date', 'Sub_Product', 'log_odds']\n"
     ]
    }
   ],
   "source": [
    "# print columns in alphabetical order in the new_pd_data_red dataframe #20250402 George added\n",
    "\n",
    "print(sorted(new_pd_data_red.columns)) #20250402 George added\n"
   ]
  },
  {
   "cell_type": "code",
   "execution_count": 10,
   "id": "850cce7b",
   "metadata": {},
   "outputs": [
    {
     "name": "stderr",
     "output_type": "stream",
     "text": [
      "C:\\Users\\georgez\\AppData\\Local\\Temp\\ipykernel_9064\\1440374422.py:5: SettingWithCopyWarning: \n",
      "A value is trying to be set on a copy of a slice from a DataFrame.\n",
      "Try using .loc[row_indexer,col_indexer] = value instead\n",
      "\n",
      "See the caveats in the documentation: https://pandas.pydata.org/pandas-docs/stable/user_guide/indexing.html#returning-a-view-versus-a-copy\n",
      "  new_pd_data_red['PD_Post_MOC_Pre_Adj'] = np.nan #20250402 George added\n"
     ]
    }
   ],
   "source": [
    "# For columns PD_Post_MOC_Pre_Adj and PD_Pre_MOC, if not in the data set, add them with nan #20250402 George added\n",
    "\n",
    "if 'PD_Post_MOC_Pre_Adj' not in new_pd_data_red.columns: #20250402 George added\n",
    "\n",
    "    new_pd_data_red['PD_Post_MOC_Pre_Adj'] = np.nan #20250402 George added\n",
    "\n",
    "if 'PD_Pre_MOC' not in new_pd_data_red.columns: #20250402 George added\n",
    "\n",
    "    new_pd_data_red['PD_Pre_MOC'] = np.nan #20250402 George added\n",
    "\n",
    "\n",
    "# Rename AIRB_PD_Risk_Rating to be MRS_Bin #20250402 George added\n",
    "\n",
    "new_pd_data_red = new_pd_data_red.rename({'AIRB_PD_Risk_Rating':'MRS_Bin'}, axis='columns')  #20250402 George added"
   ]
  },
  {
   "cell_type": "code",
   "execution_count": 11,
   "id": "36c320bf",
   "metadata": {},
   "outputs": [],
   "source": [
    "# Save Loan number list for Chenxi as she requested to check\n",
    "with pd.ExcelWriter(Output_dir +'\\\\'+'eqb_loans_list_dec24.xlsx' )as writer:\n",
    "    new_pd_data_red['Loan_Number'].to_excel(writer, sheet_name='loan_list', index=False)"
   ]
  },
  {
   "cell_type": "code",
   "execution_count": 12,
   "id": "e3942f27",
   "metadata": {},
   "outputs": [
    {
     "name": "stdout",
     "output_type": "stream",
     "text": [
      "***************Checking Default Loans *****************\n",
      "  MRS_Bin Loan_Number PD_Post_MOC          \n",
      "              nunique         min       max\n",
      "0     1.0       29984    0.002228  0.002228\n",
      "1     2.0       15099    0.003622  0.003622\n",
      "2     3.0        6171    0.007377  0.007377\n",
      "3     4.0        3732    0.011499  0.011499\n",
      "4     5.0        1655    0.019067  0.019067\n",
      "5     6.0         954    0.034554  0.034554\n",
      "6     7.0         762    0.107857  0.107857\n",
      "7     8.0         151    0.629118  0.629118\n",
      "8     9.0          86    1.000000  1.000000\n"
     ]
    }
   ],
   "source": [
    "# Group by MRS_Bin, count distinct Loan_Number and min and max of PD_Post_MOC #20250402 George added\n",
    "print('***************Checking Default Loans *****************') #20250402 George added\n",
    "print(new_pd_data_red.groupby(['MRS_Bin'], as_index=False).agg({'Loan_Number': pd.Series.nunique, 'PD_Post_MOC': [min, max]})) #20250402 George added\n",
    "\n"
   ]
  },
  {
   "cell_type": "code",
   "execution_count": 13,
   "id": "99d57ff2",
   "metadata": {},
   "outputs": [],
   "source": [
    "# # Remove Dafault Loans\n",
    "\n",
    "# # Remove rows with PD_Post_MOC <=0 or >=1 (defaults) #20250402 George added\n",
    "\n",
    "# new_pd_data_red = new_pd_data_red.loc[(new_pd_data_red['PD_Post_MOC'] > 0) & (new_pd_data_red['PD_Post_MOC'] < 1)] #20250402 George added\n",
    "\n",
    "# # Group by MRS_Bin, count distinct Loan_Number and min and max of PD_Post_MOC #20250402 George added\n",
    "\n",
    "# print('***************After Removing Default Loans*****************') #20250402 George added\n",
    "\n",
    "# print(new_pd_data_red.groupby(['MRS_Bin'], as_index=False).agg({'Loan_Number': pd.Series.nunique, 'PD_Post_MOC': [min, max]})) #20250402 George added"
   ]
  },
  {
   "cell_type": "code",
   "execution_count": 14,
   "id": "dc689346",
   "metadata": {},
   "outputs": [],
   "source": [
    "# Rename Columns\n",
    "\n",
    "new_pd_data_red.rename({'MRS_Bin':'MRS_Bin_PD'}, axis = 'columns', inplace=True) #20250412 George added"
   ]
  },
  {
   "cell_type": "code",
   "execution_count": 15,
   "id": "ce4351aa",
   "metadata": {},
   "outputs": [
    {
     "name": "stdout",
     "output_type": "stream",
     "text": [
      "***************Group by SL_Date and Corporate_Applicant_Ind*****************\n",
      "     SL_Date  Corporate_Applicant_Ind  Loan_Number\n",
      "0 2022-12-31                      0.0        56816\n",
      "1 2022-12-31                      1.0         1778\n"
     ]
    }
   ],
   "source": [
    "# Group by SL_Date and Corporate_Applicant_Ind, count number of Loan_Number\n",
    "\n",
    "print('***************Group by SL_Date and Corporate_Applicant_Ind*****************') #20250403 George added\n",
    "\n",
    "print(new_pd_data_red.groupby(['SL_Date','Corporate_Applicant_Ind'], as_index=False).agg({'Loan_Number': pd.Series.nunique})) #20250403 George added"
   ]
  },
  {
   "cell_type": "markdown",
   "id": "6574c238",
   "metadata": {},
   "source": [
    "## Load LGD Scoring Data"
   ]
  },
  {
   "cell_type": "code",
   "execution_count": 16,
   "id": "0ef96fb7",
   "metadata": {},
   "outputs": [],
   "source": [
    "# add new SFR LGD model generated LGD and apply LGD floor \n",
    "\n",
    "# 2023_11-04 is most recent one from Ben\n",
    "#new_lgd_data = pd.read_csv(input_dir+'\\Dec_2022_LGD_2023_11_04_Recalibrated_Model.csv', low_memory = False)\n",
    "\n",
    "if snapshot_num == 202212:\n",
    "\n",
    "    new_lgd_data = pd.read_pickle(input_dir + '\\\\eqb_lgd_scored_2022_12 (from Abhi 20250410).pkl') # 20250406 George added\n",
    "\n",
    "if snapshot_num == 202412:\n",
    "\n",
    "    new_lgd_data = pd.read_pickle(input_dir + '\\\\eqb_lgd_scored_2024_12 (from Abhi 20250404).pkl') # 20250406 George added\n"
   ]
  },
  {
   "cell_type": "code",
   "execution_count": 17,
   "id": "0e87dec5",
   "metadata": {},
   "outputs": [
    {
     "name": "stdout",
     "output_type": "stream",
     "text": [
      "['LTV_Bin_WOE', 'Appraisal_Bin_WOE']\n"
     ]
    }
   ],
   "source": [
    "# print duplicated columns \n",
    "\n",
    "print(new_lgd_data.columns[new_lgd_data.columns.duplicated()].tolist()) #20250412 George added\n",
    "\n",
    "# Remove duplicated columns \n",
    "\n",
    "new_lgd_data = new_lgd_data.loc[:,~new_lgd_data.columns.duplicated()] #20250412 George added"
   ]
  },
  {
   "cell_type": "code",
   "execution_count": 18,
   "id": "077ccbe2",
   "metadata": {},
   "outputs": [
    {
     "name": "stdout",
     "output_type": "stream",
     "text": [
      "['Appraisal_Bin', 'Appraisal_Bin_WOE', 'BF_Appr_Prov_Dw', 'BF_LTV_Incl_Parter_Incl_HELOC_FSA_Dw', 'Default_Ind', 'Final_LGD', 'Foreclosure_Ind', 'Foreclosure_Ind_WOE', 'Insured_Ind', 'LR_Avg_LGD', 'LTV_Bin', 'LTV_Bin_WOE', 'LoanType', 'Loan_Number', 'MRS_Bin', 'Mapped_LGD', 'Occupancy', 'Occupancy_WOE', 'Pred_LGD', 'Province_Foreclosure', 'Province_Foreclosure_WOE', 'RemainingPrincipal_Excl_Partner', 'SL_Date', 'Sub_Product']\n"
     ]
    }
   ],
   "source": [
    "# print columns in alphabetical order in the new_lgd_data dataframe \n",
    "\n",
    "print(sorted(new_lgd_data.columns)) #20250402 George added"
   ]
  },
  {
   "cell_type": "code",
   "execution_count": 19,
   "id": "f2d34ff1",
   "metadata": {},
   "outputs": [],
   "source": [
    "# Add columns LGD_DT_Adjusted, Segment_Avg_LGD and Base_Line_LGD if they are not in the data set #20250412 George added\n",
    "\n",
    "if 'LGD_DT_Adjusted' not in new_lgd_data.columns: # 20250412 George added\n",
    "    new_lgd_data['LGD_DT_Adjusted'] = np.nan  # 20250412 George added, the numbers are not the latest and this will not be used in the final result\n",
    "\n",
    "if 'Segment_Avg_LGD' not in new_lgd_data.columns: # 20250412 George added, same treatment as RWA for Concentra\n",
    "    new_lgd_data['Segment_Avg_LGD'] = new_lgd_data.loc[:,'Mapped_LGD']\n",
    "\n",
    "if 'Base_Line_LGD' not in new_lgd_data.columns: # 20250412 George added, same treatment as RWA for Concentra\n",
    "    new_lgd_data['Base_Line_LGD'] = new_lgd_data.loc[:,'Mapped_LGD']"
   ]
  },
  {
   "cell_type": "code",
   "execution_count": 20,
   "id": "b7ec9aad",
   "metadata": {},
   "outputs": [],
   "source": [
    "# Rename Columns\n",
    "\n",
    "new_lgd_data = new_lgd_data.rename({'MRS_Bin':'MRS_Bin_LGD','Final_LGD':'Model_LGD'}, axis = 'columns')\n"
   ]
  },
  {
   "cell_type": "markdown",
   "id": "16b62d59",
   "metadata": {},
   "source": [
    "## Merge PD and LGD data for Corporate Loans"
   ]
  },
  {
   "cell_type": "code",
   "execution_count": 21,
   "id": "dc98e2f6",
   "metadata": {},
   "outputs": [],
   "source": [
    "# join new_Pd_data_red and new_lgd_data on Loan_Number\n",
    "\n",
    "PD_LGD_Merge = pd.merge(new_pd_data_red[PD_Cols_to_Keep + PD_Cols_for_Corp], new_lgd_data[LGD_Cols_to_Keep], how='outer', on=['Loan_Number'])"
   ]
  },
  {
   "cell_type": "code",
   "execution_count": 22,
   "id": "c1d38d38",
   "metadata": {},
   "outputs": [
    {
     "name": "stdout",
     "output_type": "stream",
     "text": [
      "***************Corporate Loans Only*****************\n",
      "    Insured_Ind  MRS_Bin_PD  MRS_Bin_LGD  Loan_Number  RemainingPrincipal_Tot_Exp\n",
      "0   Not Insured         1.0            1          258                1.074040e+08\n",
      "1   Not Insured         1.0            2          129                6.356211e+07\n",
      "2   Not Insured         1.0            3           20                7.839329e+06\n",
      "3   Not Insured         2.0            1          146                8.270169e+07\n",
      "4   Not Insured         2.0            2          323                2.090713e+08\n",
      "5   Not Insured         2.0            3          253                1.686391e+08\n",
      "6   Not Insured         2.0            4           96                3.947935e+07\n",
      "7   Not Insured         3.0            1           37                2.518032e+07\n",
      "8   Not Insured         3.0            2          116                7.501327e+07\n",
      "9   Not Insured         3.0            3          118                8.362035e+07\n",
      "10  Not Insured         3.0            4           60                2.823519e+07\n",
      "11  Not Insured         4.0            1           16                1.152796e+07\n",
      "12  Not Insured         4.0            2           35                2.008264e+07\n",
      "13  Not Insured         4.0            3           48                3.646743e+07\n",
      "14  Not Insured         4.0            4           29                1.207059e+07\n",
      "15  Not Insured         5.0            1            8                7.850199e+06\n",
      "16  Not Insured         5.0            2           13                7.230992e+06\n",
      "17  Not Insured         5.0            3           16                1.208577e+07\n",
      "18  Not Insured         5.0            4            9                2.123470e+06\n",
      "19  Not Insured         6.0            1            4                1.910060e+06\n",
      "20  Not Insured         6.0            2            7                4.698636e+06\n",
      "21  Not Insured         6.0            3            8                4.712841e+06\n",
      "22  Not Insured         6.0            4            5                2.048149e+06\n",
      "23  Not Insured         7.0            1            2                6.137046e+05\n",
      "24  Not Insured         7.0            2            2                1.257292e+06\n",
      "25  Not Insured         7.0            3            3                2.191160e+06\n",
      "26  Not Insured         7.0            4            4                4.898950e+05\n",
      "27  Not Insured         8.0            2            3                2.527866e+06\n",
      "28  Not Insured         8.0            3            4                4.462956e+06\n",
      "29  Not Insured         8.0            4            1                7.980512e+05\n",
      "30  Not Insured         9.0            1            3                2.419469e+06\n",
      "31  Not Insured         9.0            2            1                1.004165e+06\n",
      "32  Not Insured         9.0            3            1                1.963595e+05\n"
     ]
    }
   ],
   "source": [
    "\n",
    "# Filter with Corporate_Applicant_Ind = 1 #20250404 George added\n",
    "\n",
    "PD_LGD_Merge_Corp = PD_LGD_Merge.loc[PD_LGD_Merge['Corporate_Applicant_Ind'] == 1] #20250404 George added\n",
    "\n",
    "# Group by Insured_Ind, MRS_Bin_PD and MRS_Bin_LGD, count number of Loan_Number and sum of RemainginPrincipal_Tot_Exp#20250404 George added\n",
    "\n",
    "print('***************Corporate Loans Only*****************') #20250404 George added\n",
    "\n",
    "print(PD_LGD_Merge_Corp.groupby(['Insured_Ind','MRS_Bin_PD','MRS_Bin_LGD'], as_index=False).agg({'Loan_Number': pd.Series.nunique, 'RemainingPrincipal_Tot_Exp': sum})) #20250404 George added\n"
   ]
  },
  {
   "cell_type": "code",
   "execution_count": 23,
   "id": "12ac2897",
   "metadata": {},
   "outputs": [],
   "source": [
    "\n",
    "# Save data to excel #20250404 George added\n",
    "\n",
    "with pd.ExcelWriter(Output_dir +'\\\\'+'Corporate_Loans_Breakdown.xlsx' )as writer:\n",
    "\n",
    "    PD_LGD_Merge_Corp.to_excel(writer, sheet_name='Corp_Loans', index=False) #20250404 George added"
   ]
  },
  {
   "cell_type": "markdown",
   "id": "1fba4bc2",
   "metadata": {},
   "source": [
    "# Load Corporate Loan Data"
   ]
  },
  {
   "cell_type": "code",
   "execution_count": 24,
   "id": "9d9c3959",
   "metadata": {},
   "outputs": [],
   "source": [
    "# Load Corporate_Loans_Breakdown.xlsx, sheet = Corp_Loans\n",
    "\n",
    "Corp_Loans = pd.read_excel(Output_dir + '\\\\' + 'Corporate_Loans_Breakdown.xlsx', sheet_name='Corp_Loans')"
   ]
  },
  {
   "cell_type": "code",
   "execution_count": 25,
   "id": "f2955eb6",
   "metadata": {},
   "outputs": [
    {
     "data": {
      "text/plain": [
       "count    1727.000000\n",
       "mean       16.178923\n",
       "std        12.290556\n",
       "min         0.000000\n",
       "25%         7.000000\n",
       "50%        12.000000\n",
       "75%        24.000000\n",
       "max        60.000000\n",
       "Name: Remaining_Term, dtype: float64"
      ]
     },
     "execution_count": 25,
     "metadata": {},
     "output_type": "execute_result"
    }
   ],
   "source": [
    "# describe Remainging_Term\n",
    "\n",
    "Corp_Loans['Remaining_Term'].describe()"
   ]
  },
  {
   "cell_type": "code",
   "execution_count": 26,
   "id": "92af9db1",
   "metadata": {},
   "outputs": [],
   "source": [
    "# Set rwa_data as a copy\n",
    "rwa_data = Corp_Loans.copy()\n",
    "\n"
   ]
  },
  {
   "cell_type": "markdown",
   "id": "d8baf7c3",
   "metadata": {},
   "source": [
    "# Add Column Insured_class"
   ]
  },
  {
   "cell_type": "code",
   "execution_count": 27,
   "id": "e0b65088",
   "metadata": {},
   "outputs": [],
   "source": [
    "# if Corporate_Applicant_Ind has only one value 1, then add a column Insured_class with value \"Uninsured\"\n",
    "\n",
    "if rwa_data['Corporate_Applicant_Ind'].nunique() == 1 and rwa_data['Corporate_Applicant_Ind'].iloc[0] == 1:\n",
    "    rwa_data['Insured_class'] = 'Uninsured'"
   ]
  },
  {
   "cell_type": "markdown",
   "id": "bd3a8a63",
   "metadata": {},
   "source": [
    "# Add Column corr_uninsured"
   ]
  },
  {
   "cell_type": "code",
   "execution_count": 28,
   "id": "fd30c12d-6a90-4a46-a062-8a446fa74d4d",
   "metadata": {
    "tags": []
   },
   "outputs": [],
   "source": [
    "# rwa_data['corr_uninsured'] =rwa_data['Occupancy_Status'].map(lambda x:0.22 if x in ['Rented','Unknown'] else 0.15) # 20250412 George commented out\n",
    "rwa_data['corr_uninsured'] =rwa_data['Occupancy'].map(lambda x:0.15 if x in ['owner occupied','Owner Occupied','Owner_Occupied','owner_occupied'] else 0.22) # 20250412 George added"
   ]
  },
  {
   "cell_type": "code",
   "execution_count": 29,
   "id": "8af902cb-a837-4473-99c4-35cd8a4a6304",
   "metadata": {
    "tags": []
   },
   "outputs": [
    {
     "name": "stdout",
     "output_type": "stream",
     "text": [
      "['AdvancedAmount_EQB_Exp', 'AdvancedAmount_Total_Exp', 'AdvancedAmt_Excl_Part', 'AdvancedAmt_Incl_Part', 'Alt_Prime_Indicator', 'Appraisal_Bin_WOE', 'BF_Appr_Prov_Dw', 'BF_LTV_Incl_Parter_Incl_HELOC_FSA_Dw', 'BF_LTV_Tot_Exp_FSA_Dw_WF', 'Base_Line_LGD', 'Beacon_Avg_App_CoApp', 'Beacon_Avg_App_CoApp_WOE', 'Combo_LTV_Insured_Ind', 'Combo_LTV_Insured_Ind_WOE', 'Combo_Province_Metro_Override', 'Combo_Province_Metro_Override_WOE', 'Corporate_Applicant_Ind', 'Insured_Ind', 'Insured_class', 'LGD_DT_Adjusted', 'LR_Avg_LGD', 'LTV_Bin_WOE', 'Loan_Number', 'MRS_Bin_LGD', 'MRS_Bin_PD', 'Model_LGD', 'Occupancy', 'Occupancy_WOE', 'PD_Post_MOC', 'PD_Post_MOC_Pre_Adj', 'PD_Pre_MOC', 'Prior_24_Worse_Delinquent_Status_FMT_Adj', 'Prior_24_Worse_Delinquent_Status_FMT_Adj_WOE', 'Province_Foreclosure', 'Province_Foreclosure_WOE', 'RemainingPrincipal_Excl_Partner', 'RemainingPrincipal_Tot_Exp', 'Remaining_Term', 'SL_Date', 'Segment_Avg_LGD', 'Sub_Product', 'corr_uninsured']\n"
     ]
    }
   ],
   "source": [
    "# print columns in alphabetical order\n",
    "\n",
    "print(sorted(rwa_data.columns.tolist()))\n",
    "\n"
   ]
  },
  {
   "cell_type": "markdown",
   "id": "e38cba6f",
   "metadata": {},
   "source": [
    "# Add Other columns "
   ]
  },
  {
   "cell_type": "code",
   "execution_count": 30,
   "id": "7d1412e4-fc8f-40b5-8520-d2ecc7458632",
   "metadata": {
    "tags": []
   },
   "outputs": [],
   "source": [
    "# dt_adjust={1:0.016497,2:0.040137,3:0.104959,4:0.180642}   #20250412 George commented out the numbers are not the latest and this will not be used in the final result\n",
    "# rwa_data['LGD_DT_Adjusted']=rwa_data['MRS_Bin_LGD'].map(dt_adjust) #20250412 George commented out the numbers are not the latest and this will not be used in the final result\n",
    "\n",
    "# if LGD_DT_Adjusted is not in the columns, add it as NaN\n",
    "\n",
    "if 'LGD_DT_Adjusted' not in rwa_data.columns: # 20250412 George added\n",
    "    rwa_data['LGD_DT_Adjusted'] = np.nan  # 20250412 George added, the numbers are not the latest and this will not be used in the final result\n",
    "\n",
    "rwa_data['Advance_Amount'] = rwa_data.loc[:,'AdvancedAmount_EQB_Exp']\n",
    "rwa_data['Years_to_maturity'] = rwa_data.loc[:,'Remaining_Term']/12\n",
    "rwa_data['EAD'] = rwa_data.loc[:,'RemainingPrincipal_Excl_Partner']"
   ]
  },
  {
   "cell_type": "markdown",
   "id": "98a53144",
   "metadata": {},
   "source": [
    "# RWA with 0 Addon"
   ]
  },
  {
   "cell_type": "code",
   "execution_count": 31,
   "id": "c1a12257-fdc6-49ff-948d-8e2117c9e3c7",
   "metadata": {},
   "outputs": [],
   "source": [
    "# Force Addon to be 0\n",
    "\n",
    "rwa_raw_data_5 = rwa_data.copy()\n",
    "rwa_raw_data_5['AddOn']=0\n"
   ]
  },
  {
   "cell_type": "code",
   "execution_count": 32,
   "id": "c533b880-d030-4329-8505-e194f93035e7",
   "metadata": {},
   "outputs": [
    {
     "name": "stdout",
     "output_type": "stream",
     "text": [
      "0\n",
      "1\n",
      "2\n"
     ]
    }
   ],
   "source": [
    "# Run RWA calculation function\n",
    "\n",
    "[df_out, rwa_by_Insured_class, rwa_by_MRS_Bin, res_data]  = Lib_RWA.rwa_calculation(rwa_raw_data_5, lgd_gen_floor, CMHC_lgd, CMHC_pd)\n",
    "\n"
   ]
  },
  {
   "cell_type": "code",
   "execution_count": 33,
   "id": "ac9abaff",
   "metadata": {},
   "outputs": [
    {
     "name": "stdout",
     "output_type": "stream",
     "text": [
      "Snapshot date: 2022-12-31\n",
      "Shape of res_data: (1778, 58)\n",
      "***************Group by Insured_Indicator*****************\n",
      "  Insured_class  Loan_Number           EAD       RWA_new  RWA_Ratio\n",
      "0     Uninsured       1778.0  1.027965e+09  2.811028e+08   0.273456\n",
      "1         Total       1778.0  1.027965e+09  2.811028e+08   0.273456\n",
      "['AddOn', 'Advance_Amount', 'AdvancedAmount_EQB_Exp', 'AdvancedAmount_Total_Exp', 'AdvancedAmt_Excl_Part', 'AdvancedAmt_Incl_Part', 'Alt_Prime_Indicator', 'Appraisal_Bin_WOE', 'BF_Appr_Prov_Dw', 'BF_LTV_Incl_Parter_Incl_HELOC_FSA_Dw', 'BF_LTV_Tot_Exp_FSA_Dw_WF', 'Base_Line_LGD', 'Beacon_Avg_App_CoApp', 'Beacon_Avg_App_CoApp_WOE', 'CalibratedPD', 'Combo_LTV_Insured_Ind', 'Combo_LTV_Insured_Ind_WOE', 'Combo_Province_Metro_Override', 'Combo_Province_Metro_Override_WOE', 'Corporate_Applicant_Ind', 'DLGD_floor', 'EAD', 'EAD_DLGD_Modified', 'EAD_Post_CRM', 'Final_LGD', 'Insured_Ind', 'Insured_class', 'LGD_Before_Floors', 'LGD_DT_Adjusted', 'LR_Avg_LGD', 'LTV_Bin_WOE', 'Loan_Number', 'MRS_Bin_LGD', 'MRS_Bin_PD', 'Maturity_adj', 'Model_LGD_Modified', 'OSFI_LGD_floor', 'Occupancy', 'Occupancy_WOE', 'Pre_final_LGD', 'Prior_24_Worse_Delinquent_Status_FMT_Adj', 'Prior_24_Worse_Delinquent_Status_FMT_Adj_WOE', 'Province_Foreclosure', 'Province_Foreclosure_WOE', 'RWA_new', 'RemainingPrincipal_Excl_Partner', 'RemainingPrincipal_Tot_Exp', 'Remaining_Term', 'SL_Date', 'Segment_Avg_LGD', 'Sub_Product', 'Years_to_maturity', 'corr_insured', 'corr_uninsured', 'deductible_amount', 'insured_PMI_ratio', 'risk_weight_insured', 'risk_weight_uninsured']\n"
     ]
    },
    {
     "name": "stderr",
     "output_type": "stream",
     "text": [
      "C:\\Users\\georgez\\AppData\\Local\\Temp\\ipykernel_9064\\1574102103.py:17: FutureWarning: The frame.append method is deprecated and will be removed from pandas in a future version. Use pandas.concat instead.\n",
      "  Sumry = Sumry.append(Sumry.sum(numeric_only=True), ignore_index=True) #20250403 George added\n"
     ]
    }
   ],
   "source": [
    "# print snapshot date \n",
    "\n",
    "print('Snapshot date: ' + snapshot_date) #20250403 George added\n",
    "\n",
    "# print the shape of res_data\n",
    "\n",
    "print('Shape of res_data: ' + str(res_data.shape)) #20250403 George added\n",
    "\n",
    "# Group by Insured_Indicator, count number of Loan_Number, sum of EAD and RWA_new\n",
    "\n",
    "print('***************Group by Insured_Indicator*****************') #20250403 George added\n",
    "\n",
    "Sumry = res_data.groupby(['Insured_class'], as_index=False).agg({'Loan_Number': pd.Series.nunique, 'EAD': sum, 'RWA_new': sum}) #20250403 George added\n",
    "\n",
    "# Add a total row to Sumry\n",
    "\n",
    "Sumry = Sumry.append(Sumry.sum(numeric_only=True), ignore_index=True) #20250403 George added\n",
    "Sumry.at[Sumry.index[-1], 'Insured_class'] = 'Total' #20250403 George added\n",
    "\n",
    "# Add a column RWA_Ratio as the ratio of RWA_new and EAD\n",
    "\n",
    "Sumry['RWA_Ratio'] = Sumry['RWA_new'] / Sumry['EAD'] #20250403 George added\n",
    "\n",
    "# print the summary\n",
    "\n",
    "print(Sumry) #20250403 George added\n",
    "\n",
    "# print columns in alphabetical ored\n",
    "\n",
    "print(sorted(res_data.columns)) #20250403 George added"
   ]
  },
  {
   "cell_type": "code",
   "execution_count": 34,
   "id": "f674fbd8-088c-44df-abb5-7819f702ea69",
   "metadata": {},
   "outputs": [],
   "source": [
    "# Save Data\n",
    "     \n",
    "with pd.ExcelWriter(\n",
    "   Output_dir + '\\concentra_rwa_addon_zero.xlsx') as writer: #20250406 George added\n",
    "          \n",
    "     res_data.to_excel(writer, sheet_name=\"RWA_Data\")"
   ]
  },
  {
   "cell_type": "markdown",
   "id": "e5d3485a",
   "metadata": {},
   "source": [
    "# Borrow Add on Impact from EQB"
   ]
  },
  {
   "cell_type": "code",
   "execution_count": 35,
   "id": "0dd010e8-d095-439e-8618-ac86fe881e30",
   "metadata": {
    "tags": []
   },
   "outputs": [],
   "source": [
    "# We need to add a cross table of lgd_bins and PD bins for rwa with add-on. However, we don't have account level addon info. therefore we take the impact from EQB at the Combo_LTV_Insured_Ind X Combo_Province_Metro_Override_WOE level\n",
    "\n",
    "# addon_impact =pd.read_excel(r\"C:\\Users\\francescav\\OneDrive - Equitable Bank\\EQB-Concentra Fit for Use - Fit_for_Use Development - Fit_for_Use Development\\RWA\\code\\Outputs\\addon_impact.xlsx\")  # 20250406 George commented out Francesca's code\n",
    "\n",
    "addon_impact =pd.read_excel(Output_dir+r\"\\addon_impact.xlsx\") # 20250406 George added\n",
    "\n",
    "rwa_raw_data = res_data.copy() # 20250411 George added because a new res_data is created in the above function"
   ]
  },
  {
   "cell_type": "code",
   "execution_count": 36,
   "id": "5970bbba-c085-4794-984b-649e313c637d",
   "metadata": {},
   "outputs": [
    {
     "data": {
      "text/plain": [
       "-0.389936    7\n",
       "-0.161658    7\n",
       " 0.165650    7\n",
       " 0.253031    6\n",
       "Name: Combo_Province_Metro_Override_WOE, dtype: int64"
      ]
     },
     "execution_count": 36,
     "metadata": {},
     "output_type": "execute_result"
    }
   ],
   "source": [
    "# 20250403 - Francesca Add on already has mapped values !\n",
    "addon_impact.Combo_Province_Metro_Override_WOE.value_counts()"
   ]
  },
  {
   "cell_type": "code",
   "execution_count": 37,
   "id": "60b3d9d8-0b96-4c5a-8192-9f4323cfb3c5",
   "metadata": {},
   "outputs": [],
   "source": [
    "addon_impact.Combo_Province_Metro_Override_WOE.fillna(0, inplace=True)\n",
    "addon_impact.Combo_Province_Metro_Override_WOE =addon_impact.Combo_Province_Metro_Override_WOE.round(8)"
   ]
  },
  {
   "cell_type": "code",
   "execution_count": 38,
   "id": "952a3935-54de-4050-ba77-f9d603d10d1b",
   "metadata": {},
   "outputs": [],
   "source": [
    "addon_impact.rename(columns={'impact':'addon_impact'},inplace=True)"
   ]
  },
  {
   "cell_type": "code",
   "execution_count": 39,
   "id": "d643f867-ae4e-4c60-901d-79b317d15733",
   "metadata": {
    "tags": []
   },
   "outputs": [],
   "source": [
    "#process to make sure the merge works;\n",
    "rwa_raw_data.Combo_Province_Metro_Override_WOE=rwa_raw_data.Combo_Province_Metro_Override_WOE.round(6).fillna(0)\n",
    "addon_impact.Combo_Province_Metro_Override_WOE = addon_impact.Combo_Province_Metro_Override_WOE.round(6).fillna(0)\n",
    "addon_impact.Combo_LTV_Insured_Ind=addon_impact.Combo_LTV_Insured_Ind.fillna('')"
   ]
  },
  {
   "cell_type": "code",
   "execution_count": 40,
   "id": "542a74d2-b50f-4d91-b1b7-0c3aa6368046",
   "metadata": {
    "tags": []
   },
   "outputs": [],
   "source": [
    "rwa_raw_data_addon=rwa_raw_data.merge(addon_impact[['Combo_LTV_Insured_Ind','Combo_Province_Metro_Override_WOE','addon_impact']], on=['Combo_LTV_Insured_Ind','Combo_Province_Metro_Override_WOE'],how='left')"
   ]
  },
  {
   "cell_type": "code",
   "execution_count": 41,
   "id": "475c9295-da94-4f2c-8785-e6869ad83ece",
   "metadata": {
    "tags": []
   },
   "outputs": [],
   "source": [
    "rwa_raw_data_addon.addon_impact = rwa_raw_data_addon.addon_impact.fillna(1)"
   ]
  },
  {
   "cell_type": "code",
   "execution_count": 42,
   "id": "c1ce310b-10cf-43c2-b181-d03d314be4af",
   "metadata": {
    "tags": []
   },
   "outputs": [],
   "source": [
    "rwa_raw_data_addon['RWA_AddOn']=rwa_raw_data_addon['RWA_new']*rwa_raw_data_addon['addon_impact']"
   ]
  },
  {
   "cell_type": "markdown",
   "id": "a3fa6ab6",
   "metadata": {},
   "source": [
    "# Sanity Check of Outputs"
   ]
  },
  {
   "cell_type": "code",
   "execution_count": 48,
   "id": "8471dc86",
   "metadata": {},
   "outputs": [
    {
     "name": "stdout",
     "output_type": "stream",
     "text": [
      "Snapshot date: 2022-12-31\n",
      "Shape of rwa_raw_data_addon: (1778, 60)\n",
      "***************Group by Insured_Indicator*****************\n",
      "  Insured_class  Loan_Number           EAD     RWA_AddOn  RWA_Ratio\n",
      "0     Uninsured       1778.0  1.027965e+09  3.877582e+08   0.377209\n",
      "1         Total       1778.0  1.027965e+09  3.877582e+08   0.377209\n",
      "['AddOn', 'Advance_Amount', 'AdvancedAmount_EQB_Exp', 'AdvancedAmount_Total_Exp', 'AdvancedAmt_Excl_Part', 'AdvancedAmt_Incl_Part', 'Alt_Prime_Indicator', 'Appraisal_Bin_WOE', 'BF_Appr_Prov_Dw', 'BF_LTV_Incl_Parter_Incl_HELOC_FSA_Dw', 'BF_LTV_Tot_Exp_FSA_Dw_WF', 'Base_Line_LGD', 'Beacon_Avg_App_CoApp', 'Beacon_Avg_App_CoApp_WOE', 'CalibratedPD', 'Combo_LTV_Insured_Ind', 'Combo_LTV_Insured_Ind_WOE', 'Combo_Province_Metro_Override', 'Combo_Province_Metro_Override_WOE', 'Corporate_Applicant_Ind', 'DLGD_floor', 'EAD', 'EAD_DLGD_Modified', 'EAD_Post_CRM', 'Final_LGD', 'Insured_Ind', 'Insured_class', 'LGD_Before_Floors', 'LGD_DT_Adjusted', 'LR_Avg_LGD', 'LTV_Bin_WOE', 'Loan_Number', 'MRS_Bin_LGD', 'MRS_Bin_PD', 'Maturity_adj', 'Model_LGD_Modified', 'OSFI_LGD_floor', 'Occupancy', 'Occupancy_WOE', 'Pre_final_LGD', 'Prior_24_Worse_Delinquent_Status_FMT_Adj', 'Prior_24_Worse_Delinquent_Status_FMT_Adj_WOE', 'Province_Foreclosure', 'Province_Foreclosure_WOE', 'RWA_AddOn', 'RWA_new', 'RemainingPrincipal_Excl_Partner', 'RemainingPrincipal_Tot_Exp', 'Remaining_Term', 'SL_Date', 'Segment_Avg_LGD', 'Sub_Product', 'Years_to_maturity', 'addon_impact', 'corr_insured', 'corr_uninsured', 'deductible_amount', 'insured_PMI_ratio', 'risk_weight_insured', 'risk_weight_uninsured']\n"
     ]
    },
    {
     "name": "stderr",
     "output_type": "stream",
     "text": [
      "C:\\Users\\georgez\\AppData\\Local\\Temp\\ipykernel_9064\\601514633.py:17: FutureWarning: The frame.append method is deprecated and will be removed from pandas in a future version. Use pandas.concat instead.\n",
      "  Sumry = Sumry.append(Sumry.sum(numeric_only=True), ignore_index=True) #20250403 George added\n"
     ]
    }
   ],
   "source": [
    "# print snapshot date \n",
    "\n",
    "print('Snapshot date: ' + snapshot_date) #20250403 George added\n",
    "\n",
    "# print the shape of rwa_raw_data_addon\n",
    "\n",
    "print('Shape of rwa_raw_data_addon: ' + str(rwa_raw_data_addon.shape)) #20250403 George added\n",
    "\n",
    "# Group by Insured_Indicator, count number of Loan_Number, sum of EAD and RWA_AddOn\n",
    "\n",
    "print('***************Group by Insured_Indicator*****************') #20250403 George added\n",
    "\n",
    "Sumry = rwa_raw_data_addon.groupby(['Insured_class'], as_index=False).agg({'Loan_Number': pd.Series.nunique, 'EAD': sum, 'RWA_AddOn': sum}) #20250403 George added\n",
    "\n",
    "# Add a total row to Sumry\n",
    "\n",
    "Sumry = Sumry.append(Sumry.sum(numeric_only=True), ignore_index=True) #20250403 George added\n",
    "Sumry.at[Sumry.index[-1], 'Insured_class'] = 'Total' #20250403 George added\n",
    "\n",
    "# Add a column RWA_Ratio as the ratio of RWA_AddOn and EAD\n",
    "\n",
    "Sumry['RWA_Ratio'] = Sumry['RWA_AddOn'] / Sumry['EAD'] #20250403 George added\n",
    "\n",
    "# print the summary\n",
    "\n",
    "print(Sumry) #20250403 George added\n",
    "\n",
    "# print columns in alphabetical ored\n",
    "\n",
    "print(sorted(rwa_raw_data_addon.columns)) #20250403 George added"
   ]
  },
  {
   "cell_type": "code",
   "execution_count": 44,
   "id": "d33d6631",
   "metadata": {},
   "outputs": [
    {
     "name": "stdout",
     "output_type": "stream",
     "text": [
      "                    EAD                                    Loan_Number             RWA_AddOn                                 \n",
      "MRS_Bin_LGD           1           2           3          4           1   2   3   4         1          2          3          4\n",
      "MRS_Bin_PD                                                                                                                   \n",
      "1           107,377,899  63,392,041   7,839,329        NaN         258 129  20 NaN 7,127,338  8,124,596  1,452,903        NaN\n",
      "2            82,570,921 208,835,452 168,390,879 39,427,811         146 323 253  96 7,756,674 47,979,751 59,955,990 27,415,881\n",
      "3            25,131,764  74,721,145  83,531,656 28,125,546          37 116 118  60 3,633,898 26,878,050 48,933,224 32,343,019\n",
      "4            11,527,962  20,047,280  36,430,509 12,053,340          16  35  48  29 2,436,943  8,934,270 27,857,767 18,004,984\n",
      "5             7,850,199   7,230,992  12,085,766  2,123,470           8  13  16   9 2,020,997  3,709,893 12,866,006  3,802,083\n",
      "6             1,910,060   4,673,636   4,712,841  2,048,149           4   7   8   5   592,380  3,948,337  6,373,366  4,968,993\n",
      "7               611,751   1,257,292   2,159,024    489,895           2   2   3   4   307,437  1,893,458  4,721,022  1,579,480\n",
      "8                   NaN   2,527,866   4,462,956    798,051         NaN   3   4   1       NaN  2,393,811  6,867,173  2,878,436\n",
      "9             2,419,469   1,004,165     196,360        NaN           3   1   1 NaN         0          0          0        NaN\n"
     ]
    }
   ],
   "source": [
    "# Create a pivot table, with rows as MRS_Bin_PD, columns as MRS_Bin_LGD, and values as count of Loan_Number, sum of EAD and RWA_AddOn, ratio of RWA_AddOn and EAD\n",
    "\n",
    "rwa_raw_data_addon['MRS_Bin_PD'] = rwa_raw_data_addon['MRS_Bin_PD'].astype(str) #20250403 George added\n",
    "\n",
    "rwa_raw_data_addon['MRS_Bin_LGD'] = rwa_raw_data_addon['MRS_Bin_LGD'].astype(str) #20250403 George added\n",
    "\n",
    "pivot_table = rwa_raw_data_addon.pivot_table(index='MRS_Bin_PD', columns='MRS_Bin_LGD', values=['Loan_Number', 'EAD', 'RWA_AddOn'], aggfunc={'Loan_Number': pd.Series.nunique, 'EAD': sum, 'RWA_AddOn': sum})\n",
    "\n",
    "\n",
    "# show the numbers as comma separated\n",
    "\n",
    "pd.options.display.float_format = '{:,.0f}'.format \n",
    "\n",
    "# print the pivot table\n",
    "\n",
    "print(pivot_table) \n",
    "\n",
    "# restore option display to default\n",
    "\n",
    "pd.reset_option('display.float_format')"
   ]
  },
  {
   "cell_type": "markdown",
   "id": "e3a57efb",
   "metadata": {},
   "source": [
    "# Save Data"
   ]
  },
  {
   "cell_type": "code",
   "execution_count": 45,
   "id": "b630d4fe",
   "metadata": {},
   "outputs": [],
   "source": [
    "# Save Data\n",
    "\n",
    "with open( Output_dir +r'\\EQB_Corp_rwa_addon.pkl', 'wb') as file: # 20250406 George added\n",
    "\n",
    "    # A new file will be created \n",
    "    pickle.dump(rwa_raw_data_addon, file) "
   ]
  },
  {
   "cell_type": "code",
   "execution_count": 46,
   "id": "1e165c6f",
   "metadata": {},
   "outputs": [],
   "source": [
    "#Save an excel copy\n",
    "\n",
    "rwa_raw_data_addon.to_excel(Output_dir + r'\\EQB_Corp_rwa_addon.xlsx')  #20250406 George added"
   ]
  }
 ],
 "metadata": {
  "kernelspec": {
   "display_name": "Commercial_IFRS9_PD_2024Dev",
   "language": "python",
   "name": "python3"
  },
  "language_info": {
   "codemirror_mode": {
    "name": "ipython",
    "version": 3
   },
   "file_extension": ".py",
   "mimetype": "text/x-python",
   "name": "python",
   "nbconvert_exporter": "python",
   "pygments_lexer": "ipython3",
   "version": "3.10.9"
  }
 },
 "nbformat": 4,
 "nbformat_minor": 5
}
