{
 "cells": [
  {
   "cell_type": "markdown",
   "id": "b18b7ff4",
   "metadata": {},
   "source": [
    "# Import Package"
   ]
  },
  {
   "cell_type": "code",
   "execution_count": 1,
   "id": "5f46fdf8-effa-48f5-99f0-ee81fb3836a9",
   "metadata": {},
   "outputs": [],
   "source": [
    "import sys\n",
    " \n",
    "# appending a path\n",
    "sys.path.append('')\n",
    " \n",
    "import os\n",
    "import pandas as pd\n",
    "import numpy as np\n",
    "import pickle\n",
    "# import SFR_PD_Recalibration_2023_Lib as tool\n",
    "# import Concentra_SFR_Fit_for_Use_2024_Lib as lib\n",
    "from matplotlib import pyplot as plt\n",
    "import math\n",
    "\n",
    "import Lib_RWA as Lib_RWA\n",
    "\n",
    "del sys.modules['Lib_RWA']  # Remove the module from sys.modules to force a reload\n",
    "\n",
    "import Lib_RWA as Lib_RWA"
   ]
  },
  {
   "cell_type": "code",
   "execution_count": 2,
   "id": "f99f6997",
   "metadata": {},
   "outputs": [
    {
     "name": "stderr",
     "output_type": "stream",
     "text": [
      "C:\\Users\\georgez\\AppData\\Local\\Temp\\ipykernel_24240\\3764690850.py:1: DeprecationWarning: Importing display from IPython.core.display is deprecated since IPython 7.14, please import from IPython display\n",
      "  from IPython.core.display import display, HTML\n"
     ]
    },
    {
     "data": {
      "text/html": [
       "<style>div.output_scroll { height: 44em; }</style>"
      ],
      "text/plain": [
       "<IPython.core.display.HTML object>"
      ]
     },
     "metadata": {},
     "output_type": "display_data"
    },
    {
     "data": {
      "text/html": [
       "<style>.container { width:100% !important; }</style>"
      ],
      "text/plain": [
       "<IPython.core.display.HTML object>"
      ]
     },
     "metadata": {},
     "output_type": "display_data"
    },
    {
     "data": {
      "text/html": [
       "<style>.container { width:100% !important; }</style>"
      ],
      "text/plain": [
       "<IPython.core.display.HTML object>"
      ]
     },
     "metadata": {},
     "output_type": "display_data"
    }
   ],
   "source": [
    "from IPython.core.display import display, HTML\n",
    "display(HTML(\"<style>div.output_scroll { height: 44em; }</style>\"))\n",
    "from IPython.display import display, HTML\n",
    "display(HTML(\"<style>.container { width:100% !important; }</style>\"))\n",
    "display(HTML(\"<style>.container { width:100% !important; }</style>\"))"
   ]
  },
  {
   "cell_type": "code",
   "execution_count": 3,
   "id": "686f60be-a81f-4214-a91c-123102d16812",
   "metadata": {
    "tags": []
   },
   "outputs": [],
   "source": [
    "pd.set_option('display.max_rows', 500)\n",
    "pd.set_option('display.max_columns', 500)\n",
    "pd.set_option('display.width', 1000)"
   ]
  },
  {
   "cell_type": "markdown",
   "id": "7bdbc52f",
   "metadata": {},
   "source": [
    "# Inputs"
   ]
  },
  {
   "cell_type": "code",
   "execution_count": 4,
   "id": "34729f76-097e-45ae-ac7c-05e085a0a42d",
   "metadata": {},
   "outputs": [],
   "source": [
    "# snapshot_num = 202212 # 20250412 George commented out\n",
    "# snapshot = str(snapshot_num) # 20250412 George commented out\n",
    "# snapshot_date = '2022-12-31' # 20250412 George commented out\n",
    "\n",
    "snapshot_num = 202412 # 20250412 George added\n",
    "snapshot = str(snapshot_num) # 20250412 George added\n",
    "snapshot_date = '2024-12-31' # 20250412 George added\n",
    "\n",
    "\n",
    "#CAR 2023 Ch5 prescribed\n",
    "correlation_residential_mortgages = 0.15\n",
    "correlation_residential_mortgages_rental = 0.22\n",
    "\n",
    "CMHC_pd = 0.0001\n",
    "CMHC_lgd = 0.11 #according to the newly developed Sovereign LGD model\n",
    "\n",
    "lgd_gen_floor = 0.1 #general floor by CAR 2023\n"
   ]
  },
  {
   "cell_type": "markdown",
   "id": "92628b98",
   "metadata": {},
   "source": [
    "# Set Folders"
   ]
  },
  {
   "cell_type": "code",
   "execution_count": 5,
   "id": "411f9eaa",
   "metadata": {},
   "outputs": [],
   "source": [
    "# Get current working directory\n",
    "\n",
    "current_dir = os.getcwd()  # 20250403 George added\n",
    "\n",
    "# code_dir= \"C:\\\\Users\" +'\\\\' + username + '\\\\' + \"Equitable Bank\\\\EQB-Concentra Fit for Use - Fit_for_Use Development - Fit_for_Use Development\\\\RWA\\\\code\" # 20250403 George commented out Francesca/Joseph's code\n",
    "\n",
    "code_dir = current_dir # 20250403 George added\n",
    "\n",
    "if int(snapshot_num) == 202412:\n",
    "    input_dir = code_dir + '\\\\..\\\\' + \"Inputs\" # 20250406 George added\n",
    "    Output_dir = code_dir + '\\\\..\\\\' + \"Outputs\" #20250406 George added\n",
    "\n",
    "if int(snapshot_num) == 202212:\n",
    "    input_dir = code_dir + '\\\\..\\\\' + \"Dec. 2022 RWA Inputs\" #20250410 George added\n",
    "    Output_dir = code_dir + '\\\\..\\\\' + \"Replicated Dec 2022 Outputs\" #20250410 George added"
   ]
  },
  {
   "cell_type": "markdown",
   "id": "1fba4bc2",
   "metadata": {},
   "source": [
    "# Load Corporate Loan Data"
   ]
  },
  {
   "cell_type": "code",
   "execution_count": 6,
   "id": "9d9c3959",
   "metadata": {},
   "outputs": [],
   "source": [
    "# Load Corporate_Loans_Breakdown.xlsx, sheet = Corp_Loans\n",
    "\n",
    "Corp_Loans = pd.read_excel(Output_dir + '\\\\' + 'Corporate_Loans_Breakdown.xlsx', sheet_name='Corp_Loans')"
   ]
  },
  {
   "cell_type": "code",
   "execution_count": 14,
   "id": "f2955eb6",
   "metadata": {},
   "outputs": [
    {
     "ename": "KeyError",
     "evalue": "'Remaining_Term'",
     "output_type": "error",
     "traceback": [
      "\u001b[1;31m---------------------------------------------------------------------------\u001b[0m",
      "\u001b[1;31mKeyError\u001b[0m                                  Traceback (most recent call last)",
      "File \u001b[1;32mc:\\Users\\georgez\\.conda\\envs\\Commercial_IFRS9_PD_2024Dev\\lib\\site-packages\\pandas\\core\\indexes\\base.py:3802\u001b[0m, in \u001b[0;36mIndex.get_loc\u001b[1;34m(self, key, method, tolerance)\u001b[0m\n\u001b[0;32m   3801\u001b[0m \u001b[38;5;28;01mtry\u001b[39;00m:\n\u001b[1;32m-> 3802\u001b[0m     \u001b[38;5;28;01mreturn\u001b[39;00m \u001b[38;5;28;43mself\u001b[39;49m\u001b[38;5;241;43m.\u001b[39;49m\u001b[43m_engine\u001b[49m\u001b[38;5;241;43m.\u001b[39;49m\u001b[43mget_loc\u001b[49m\u001b[43m(\u001b[49m\u001b[43mcasted_key\u001b[49m\u001b[43m)\u001b[49m\n\u001b[0;32m   3803\u001b[0m \u001b[38;5;28;01mexcept\u001b[39;00m \u001b[38;5;167;01mKeyError\u001b[39;00m \u001b[38;5;28;01mas\u001b[39;00m err:\n",
      "File \u001b[1;32mc:\\Users\\georgez\\.conda\\envs\\Commercial_IFRS9_PD_2024Dev\\lib\\site-packages\\pandas\\_libs\\index.pyx:138\u001b[0m, in \u001b[0;36mpandas._libs.index.IndexEngine.get_loc\u001b[1;34m()\u001b[0m\n",
      "File \u001b[1;32mc:\\Users\\georgez\\.conda\\envs\\Commercial_IFRS9_PD_2024Dev\\lib\\site-packages\\pandas\\_libs\\index.pyx:165\u001b[0m, in \u001b[0;36mpandas._libs.index.IndexEngine.get_loc\u001b[1;34m()\u001b[0m\n",
      "File \u001b[1;32mpandas\\_libs\\hashtable_class_helper.pxi:5745\u001b[0m, in \u001b[0;36mpandas._libs.hashtable.PyObjectHashTable.get_item\u001b[1;34m()\u001b[0m\n",
      "File \u001b[1;32mpandas\\_libs\\hashtable_class_helper.pxi:5753\u001b[0m, in \u001b[0;36mpandas._libs.hashtable.PyObjectHashTable.get_item\u001b[1;34m()\u001b[0m\n",
      "\u001b[1;31mKeyError\u001b[0m: 'Remaining_Term'",
      "\nThe above exception was the direct cause of the following exception:\n",
      "\u001b[1;31mKeyError\u001b[0m                                  Traceback (most recent call last)",
      "Cell \u001b[1;32mIn[14], line 3\u001b[0m\n\u001b[0;32m      1\u001b[0m \u001b[38;5;66;03m# describe Remainging_Term\u001b[39;00m\n\u001b[1;32m----> 3\u001b[0m \u001b[43mCorp_Loans\u001b[49m\u001b[43m[\u001b[49m\u001b[38;5;124;43m'\u001b[39;49m\u001b[38;5;124;43mRemaining_Term\u001b[39;49m\u001b[38;5;124;43m'\u001b[39;49m\u001b[43m]\u001b[49m\u001b[38;5;241m.\u001b[39mdescribe()\n",
      "File \u001b[1;32mc:\\Users\\georgez\\.conda\\envs\\Commercial_IFRS9_PD_2024Dev\\lib\\site-packages\\pandas\\core\\frame.py:3807\u001b[0m, in \u001b[0;36mDataFrame.__getitem__\u001b[1;34m(self, key)\u001b[0m\n\u001b[0;32m   3805\u001b[0m \u001b[38;5;28;01mif\u001b[39;00m \u001b[38;5;28mself\u001b[39m\u001b[38;5;241m.\u001b[39mcolumns\u001b[38;5;241m.\u001b[39mnlevels \u001b[38;5;241m>\u001b[39m \u001b[38;5;241m1\u001b[39m:\n\u001b[0;32m   3806\u001b[0m     \u001b[38;5;28;01mreturn\u001b[39;00m \u001b[38;5;28mself\u001b[39m\u001b[38;5;241m.\u001b[39m_getitem_multilevel(key)\n\u001b[1;32m-> 3807\u001b[0m indexer \u001b[38;5;241m=\u001b[39m \u001b[38;5;28;43mself\u001b[39;49m\u001b[38;5;241;43m.\u001b[39;49m\u001b[43mcolumns\u001b[49m\u001b[38;5;241;43m.\u001b[39;49m\u001b[43mget_loc\u001b[49m\u001b[43m(\u001b[49m\u001b[43mkey\u001b[49m\u001b[43m)\u001b[49m\n\u001b[0;32m   3808\u001b[0m \u001b[38;5;28;01mif\u001b[39;00m is_integer(indexer):\n\u001b[0;32m   3809\u001b[0m     indexer \u001b[38;5;241m=\u001b[39m [indexer]\n",
      "File \u001b[1;32mc:\\Users\\georgez\\.conda\\envs\\Commercial_IFRS9_PD_2024Dev\\lib\\site-packages\\pandas\\core\\indexes\\base.py:3804\u001b[0m, in \u001b[0;36mIndex.get_loc\u001b[1;34m(self, key, method, tolerance)\u001b[0m\n\u001b[0;32m   3802\u001b[0m     \u001b[38;5;28;01mreturn\u001b[39;00m \u001b[38;5;28mself\u001b[39m\u001b[38;5;241m.\u001b[39m_engine\u001b[38;5;241m.\u001b[39mget_loc(casted_key)\n\u001b[0;32m   3803\u001b[0m \u001b[38;5;28;01mexcept\u001b[39;00m \u001b[38;5;167;01mKeyError\u001b[39;00m \u001b[38;5;28;01mas\u001b[39;00m err:\n\u001b[1;32m-> 3804\u001b[0m     \u001b[38;5;28;01mraise\u001b[39;00m \u001b[38;5;167;01mKeyError\u001b[39;00m(key) \u001b[38;5;28;01mfrom\u001b[39;00m \u001b[38;5;21;01merr\u001b[39;00m\n\u001b[0;32m   3805\u001b[0m \u001b[38;5;28;01mexcept\u001b[39;00m \u001b[38;5;167;01mTypeError\u001b[39;00m:\n\u001b[0;32m   3806\u001b[0m     \u001b[38;5;66;03m# If we have a listlike key, _check_indexing_error will raise\u001b[39;00m\n\u001b[0;32m   3807\u001b[0m     \u001b[38;5;66;03m#  InvalidIndexError. Otherwise we fall through and re-raise\u001b[39;00m\n\u001b[0;32m   3808\u001b[0m     \u001b[38;5;66;03m#  the TypeError.\u001b[39;00m\n\u001b[0;32m   3809\u001b[0m     \u001b[38;5;28mself\u001b[39m\u001b[38;5;241m.\u001b[39m_check_indexing_error(key)\n",
      "\u001b[1;31mKeyError\u001b[0m: 'Remaining_Term'"
     ]
    }
   ],
   "source": [
    "# describe Remainging_Term\n",
    "\n",
    "Corp_Loans['Remaining_Term'].describe()"
   ]
  },
  {
   "cell_type": "code",
   "execution_count": null,
   "id": "92af9db1",
   "metadata": {},
   "outputs": [],
   "source": [
    "# Set rwa_data as a copy\n",
    "rwa_data = Corp_Loans.copy()\n",
    "\n"
   ]
  },
  {
   "cell_type": "markdown",
   "id": "d8baf7c3",
   "metadata": {},
   "source": [
    "# Add Column Insured_class"
   ]
  },
  {
   "cell_type": "code",
   "execution_count": null,
   "id": "e0b65088",
   "metadata": {},
   "outputs": [],
   "source": [
    "# if Corporate_Applicant_Ind has only one value 1, then add a column Insured_class with value \"Uninsured\"\n",
    "\n",
    "if rwa_data['Corporate_Applicant_Ind'].nunique() == 1 and rwa_data['Corporate_Applicant_Ind'].iloc[0] == 1:\n",
    "    rwa_data['Insured_class'] = 'Uninsured'"
   ]
  },
  {
   "cell_type": "markdown",
   "id": "bd3a8a63",
   "metadata": {},
   "source": [
    "# Add Column corr_uninsured"
   ]
  },
  {
   "cell_type": "code",
   "execution_count": null,
   "id": "fd30c12d-6a90-4a46-a062-8a446fa74d4d",
   "metadata": {
    "tags": []
   },
   "outputs": [],
   "source": [
    "# rwa_data['corr_uninsured'] =rwa_data['Occupancy_Status'].map(lambda x:0.22 if x in ['Rented','Unknown'] else 0.15) # 20250412 George commented out\n",
    "rwa_data['corr_uninsured'] =rwa_data['Occupancy'].map(lambda x:0.15 if x in ['owner occupied','Owner Occupied','Owner_Occupied','owner_occupied'] else 0.22) # 20250412 George added"
   ]
  },
  {
   "cell_type": "code",
   "execution_count": 61,
   "id": "8af902cb-a837-4473-99c4-35cd8a4a6304",
   "metadata": {
    "tags": []
   },
   "outputs": [
    {
     "data": {
      "text/plain": [
       "array(['Mortgage_Number', 'Snapshot_Date', 'PD_Pre_MOC',\n",
       "       'PD_Post_MOC_Pre_Adj', 'PD_Post_MOC', 'MRS_Bin_PD', 'Insured_Ind',\n",
       "       'Appraisal_Value_v2', 'Combo_LTV_Insured_Ind',\n",
       "       'Combo_Province_Metro_Override_WOE', 'def_90dpd_utp_filldown',\n",
       "       'Concentra_Legacy_Ind', 'Occupancy_Status',\n",
       "       'Original_Loan_to_Value', 'FSA', 'Appraisal_Date_v2',\n",
       "       'Current_Principal_Balance_CB', 'Insurer', 'Original_Loan_Amount',\n",
       "       'Original_Loan_to_Value', 'MRS_Bin_LGD', 'Pred_LGD', 'Mapped_LGD',\n",
       "       'Model_LGD', 'Remaining_Term', 'Insured_class', 'corr_uninsured'],\n",
       "      dtype=object)"
      ]
     },
     "execution_count": 61,
     "metadata": {},
     "output_type": "execute_result"
    }
   ],
   "source": [
    "rwa_data.columns.values"
   ]
  },
  {
   "cell_type": "markdown",
   "id": "e38cba6f",
   "metadata": {},
   "source": [
    "# Add Other columns "
   ]
  },
  {
   "cell_type": "code",
   "execution_count": null,
   "id": "7d1412e4-fc8f-40b5-8520-d2ecc7458632",
   "metadata": {
    "tags": []
   },
   "outputs": [],
   "source": [
    "# dt_adjust={1:0.016497,2:0.040137,3:0.104959,4:0.180642}   #20250412 George commented out the numbers are not the latest and this will not be used in the final result\n",
    "# rwa_data['LGD_DT_Adjusted']=rwa_data['MRS_Bin_LGD'].map(dt_adjust) #20250412 George commented out the numbers are not the latest and this will not be used in the final result\n",
    "\n",
    "# if LGD_DT_Adjusted is not in the columns, add it as NaN\n",
    "\n",
    "if 'LGD_DT_Adjusted' not in rwa_data.columns: # 20250412 George added\n",
    "    rwa_data['LGD_DT_Adjusted'] = np.nan  # 20250412 George added, the numbers are not the latest and this will not be used in the final result\n",
    "\n",
    "rwa_data['Advance_Amount'] = rwa_data.loc[:,'AdvanceAmout_EQB_Exp']\n",
    "rwa_data['Years_to_maturity'] = rwa_data.loc[:,'Remaining_Term']/12\n",
    "rwa_data['EAD'] = rwa_data.loc[:,'RemainingPrincipal_Excl_Partner']"
   ]
  },
  {
   "cell_type": "markdown",
   "id": "98a53144",
   "metadata": {},
   "source": [
    "# RWA with 0 Addon"
   ]
  },
  {
   "cell_type": "code",
   "execution_count": 63,
   "id": "c1a12257-fdc6-49ff-948d-8e2117c9e3c7",
   "metadata": {},
   "outputs": [],
   "source": [
    "# Force Addon to be 0\n",
    "\n",
    "rwa_raw_data_5 = rwa_data.copy()\n",
    "rwa_raw_data_5['AddOn']=0\n"
   ]
  },
  {
   "cell_type": "code",
   "execution_count": null,
   "id": "c533b880-d030-4329-8505-e194f93035e7",
   "metadata": {},
   "outputs": [
    {
     "name": "stdout",
     "output_type": "stream",
     "text": [
      "0\n",
      "1\n",
      "2\n"
     ]
    }
   ],
   "source": [
    "# Run RWA calculation function\n",
    "\n",
    "[df_out, rwa_by_Insured_class, rwa_by_MRS_Bin, res_data]  = Lib_RWA.rwa_calculation(rwa_raw_data_5, lgd_gen_floor, CMHC_lgd, CMHC_pd)\n",
    "\n"
   ]
  },
  {
   "cell_type": "code",
   "execution_count": null,
   "id": "f674fbd8-088c-44df-abb5-7819f702ea69",
   "metadata": {},
   "outputs": [],
   "source": [
    "# Save Data\n",
    "     \n",
    "with pd.ExcelWriter(\n",
    "   Output_dir + '\\concentra_rwa_addon_zero.xlsx') as writer: #20250406 George added\n",
    "          \n",
    "     res_data.to_excel(writer, sheet_name=\"RWA_Data\")"
   ]
  },
  {
   "cell_type": "markdown",
   "id": "e5d3485a",
   "metadata": {},
   "source": [
    "# Borrow Add on Impact from EQB"
   ]
  },
  {
   "cell_type": "code",
   "execution_count": 67,
   "id": "0dd010e8-d095-439e-8618-ac86fe881e30",
   "metadata": {
    "tags": []
   },
   "outputs": [],
   "source": [
    "# We need to add a cross table of lgd_bins and PD bins for rwa with add-on. However, we don't have account level addon info. therefore we take the impact from EQB at the Combo_LTV_Insured_Ind X Combo_Province_Metro_Override_WOE level\n",
    "\n",
    "# addon_impact =pd.read_excel(r\"C:\\Users\\francescav\\OneDrive - Equitable Bank\\EQB-Concentra Fit for Use - Fit_for_Use Development - Fit_for_Use Development\\RWA\\code\\Outputs\\addon_impact.xlsx\")  # 20250406 George commented out Francesca's code\n",
    "\n",
    "addon_impact =pd.read_excel(Output_dir+r\"\\addon_impact.xlsx\") # 20250406 George added\n",
    "\n",
    "rwa_raw_data = res_data.copy() # 20250411 George added because a new res_data is created in the above function"
   ]
  },
  {
   "cell_type": "code",
   "execution_count": 68,
   "id": "5970bbba-c085-4794-984b-649e313c637d",
   "metadata": {},
   "outputs": [
    {
     "data": {
      "text/plain": [
       " 0.165650    11\n",
       "-0.389936    10\n",
       " 0.253031     9\n",
       "-0.161658     8\n",
       "Name: Combo_Province_Metro_Override_WOE, dtype: int64"
      ]
     },
     "execution_count": 68,
     "metadata": {},
     "output_type": "execute_result"
    }
   ],
   "source": [
    "# 20250403 - Francesca Add on already has mapped values !\n",
    "addon_impact.Combo_Province_Metro_Override_WOE.value_counts()"
   ]
  },
  {
   "cell_type": "code",
   "execution_count": 69,
   "id": "60b3d9d8-0b96-4c5a-8192-9f4323cfb3c5",
   "metadata": {},
   "outputs": [],
   "source": [
    "addon_impact.Combo_Province_Metro_Override_WOE.fillna(0, inplace=True)\n",
    "addon_impact.Combo_Province_Metro_Override_WOE =addon_impact.Combo_Province_Metro_Override_WOE.round(8)"
   ]
  },
  {
   "cell_type": "code",
   "execution_count": 70,
   "id": "952a3935-54de-4050-ba77-f9d603d10d1b",
   "metadata": {},
   "outputs": [],
   "source": [
    "addon_impact.rename(columns={'impact':'addon_impact'},inplace=True)"
   ]
  },
  {
   "cell_type": "code",
   "execution_count": 71,
   "id": "d643f867-ae4e-4c60-901d-79b317d15733",
   "metadata": {
    "tags": []
   },
   "outputs": [],
   "source": [
    "#process to make sure the merge works;\n",
    "rwa_raw_data.Combo_Province_Metro_Override_WOE=rwa_raw_data.Combo_Province_Metro_Override_WOE.round(6).fillna(0)\n",
    "addon_impact.Combo_Province_Metro_Override_WOE = addon_impact.Combo_Province_Metro_Override_WOE.round(6).fillna(0)\n",
    "addon_impact.Combo_LTV_Insured_Ind=addon_impact.Combo_LTV_Insured_Ind.fillna('')"
   ]
  },
  {
   "cell_type": "code",
   "execution_count": 72,
   "id": "542a74d2-b50f-4d91-b1b7-0c3aa6368046",
   "metadata": {
    "tags": []
   },
   "outputs": [],
   "source": [
    "rwa_raw_data_addon=rwa_raw_data.merge(addon_impact[['Combo_LTV_Insured_Ind','Combo_Province_Metro_Override_WOE','addon_impact']], on=['Combo_LTV_Insured_Ind','Combo_Province_Metro_Override_WOE'],how='left')"
   ]
  },
  {
   "cell_type": "code",
   "execution_count": 73,
   "id": "475c9295-da94-4f2c-8785-e6869ad83ece",
   "metadata": {
    "tags": []
   },
   "outputs": [],
   "source": [
    "rwa_raw_data_addon.addon_impact = rwa_raw_data_addon.addon_impact.fillna(1)"
   ]
  },
  {
   "cell_type": "code",
   "execution_count": 74,
   "id": "c1ce310b-10cf-43c2-b181-d03d314be4af",
   "metadata": {
    "tags": []
   },
   "outputs": [],
   "source": [
    "rwa_raw_data_addon['RWA_AddOn']=rwa_raw_data_addon['RWA_new']*rwa_raw_data_addon['addon_impact']"
   ]
  },
  {
   "cell_type": "markdown",
   "id": "e3a57efb",
   "metadata": {},
   "source": [
    "# Save Data"
   ]
  },
  {
   "cell_type": "code",
   "execution_count": 75,
   "id": "b630d4fe",
   "metadata": {},
   "outputs": [],
   "source": [
    "\n",
    "#with open(r'C:\\Users\\jasonz\\OneDrive - Equitable Bank\\EQB-Concentra Fit for Use - Fit_for_Use Development - Fit_for_Use Development\\RWA\\code\\Concentra_RWA_202410.pkl', 'wb') as file: \n",
    "      \n",
    "    # A new file will be created \n",
    "    #pickle.dump(rwa_raw_data_addon, file) \n",
    "\n",
    "# with open(r'C:\\Users\\francescav\\OneDrive - Equitable Bank\\EQB-Concentra Fit for Use - Fit_for_Use Development - Fit_for_Use Development\\RWA\\code\\Outputs\\Concentra_RWA_202412.pkl', 'wb') as file:   # 20250406 George commented out Francesca's code\n",
    "\n",
    "with open( Output_dir +r'\\concentra_rwa_addon.pkl', 'wb') as file: # 20250406 George added\n",
    "\n",
    "    # A new file will be created \n",
    "    pickle.dump(rwa_raw_data_addon, file) "
   ]
  },
  {
   "cell_type": "code",
   "execution_count": 76,
   "id": "1e165c6f",
   "metadata": {},
   "outputs": [],
   "source": [
    "#Save an excel copy\n",
    "\n",
    "rwa_raw_data_addon.to_excel(Output_dir + r'\\concentra_rwa_addon.xlsx')  #20250406 George added"
   ]
  }
 ],
 "metadata": {
  "kernelspec": {
   "display_name": "Commercial_IFRS9_PD_2024Dev",
   "language": "python",
   "name": "python3"
  },
  "language_info": {
   "codemirror_mode": {
    "name": "ipython",
    "version": 3
   },
   "file_extension": ".py",
   "mimetype": "text/x-python",
   "name": "python",
   "nbconvert_exporter": "python",
   "pygments_lexer": "ipython3",
   "version": "3.10.9"
  }
 },
 "nbformat": 4,
 "nbformat_minor": 5
}
