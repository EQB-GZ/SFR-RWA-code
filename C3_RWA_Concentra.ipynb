{
 "cells": [
  {
   "cell_type": "markdown",
   "id": "b18b7ff4",
   "metadata": {},
   "source": [
    "# Import Package"
   ]
  },
  {
   "cell_type": "code",
   "execution_count": 44,
   "id": "5f46fdf8-effa-48f5-99f0-ee81fb3836a9",
   "metadata": {},
   "outputs": [],
   "source": [
    "import sys\n",
    " \n",
    "# appending a path\n",
    "sys.path.append('')\n",
    " \n",
    "import os\n",
    "import pandas as pd\n",
    "import numpy as np\n",
    "import pickle\n",
    "# import SFR_PD_Recalibration_2023_Lib as tool\n",
    "# import Concentra_SFR_Fit_for_Use_2024_Lib as lib\n",
    "from matplotlib import pyplot as plt\n",
    "import math\n",
    "\n",
    "import Lib_RWA as Lib_RWA\n",
    "\n",
    "del sys.modules['Lib_RWA']  # Remove the module from sys.modules to force a reload\n",
    "\n",
    "import Lib_RWA as Lib_RWA"
   ]
  },
  {
   "cell_type": "code",
   "execution_count": 45,
   "id": "f99f6997",
   "metadata": {},
   "outputs": [
    {
     "name": "stderr",
     "output_type": "stream",
     "text": [
      "C:\\Users\\georgez\\AppData\\Local\\Temp\\ipykernel_11332\\3764690850.py:1: DeprecationWarning: Importing display from IPython.core.display is deprecated since IPython 7.14, please import from IPython display\n",
      "  from IPython.core.display import display, HTML\n"
     ]
    },
    {
     "data": {
      "text/html": [
       "<style>div.output_scroll { height: 44em; }</style>"
      ],
      "text/plain": [
       "<IPython.core.display.HTML object>"
      ]
     },
     "metadata": {},
     "output_type": "display_data"
    },
    {
     "data": {
      "text/html": [
       "<style>.container { width:100% !important; }</style>"
      ],
      "text/plain": [
       "<IPython.core.display.HTML object>"
      ]
     },
     "metadata": {},
     "output_type": "display_data"
    },
    {
     "data": {
      "text/html": [
       "<style>.container { width:100% !important; }</style>"
      ],
      "text/plain": [
       "<IPython.core.display.HTML object>"
      ]
     },
     "metadata": {},
     "output_type": "display_data"
    }
   ],
   "source": [
    "from IPython.core.display import display, HTML\n",
    "display(HTML(\"<style>div.output_scroll { height: 44em; }</style>\"))\n",
    "from IPython.display import display, HTML\n",
    "display(HTML(\"<style>.container { width:100% !important; }</style>\"))\n",
    "display(HTML(\"<style>.container { width:100% !important; }</style>\"))"
   ]
  },
  {
   "cell_type": "code",
   "execution_count": 46,
   "id": "686f60be-a81f-4214-a91c-123102d16812",
   "metadata": {
    "tags": []
   },
   "outputs": [],
   "source": [
    "pd.set_option('display.max_rows', 500)\n",
    "pd.set_option('display.max_columns', 500)\n",
    "pd.set_option('display.width', 1000)"
   ]
  },
  {
   "cell_type": "markdown",
   "id": "7bdbc52f",
   "metadata": {},
   "source": [
    "# Inputs"
   ]
  },
  {
   "cell_type": "code",
   "execution_count": 47,
   "id": "34729f76-097e-45ae-ac7c-05e085a0a42d",
   "metadata": {},
   "outputs": [],
   "source": [
    "# snapshot_num = 202212 # 20250412 George commented out\n",
    "# snapshot = str(snapshot_num) # 20250412 George commented out\n",
    "# snapshot_date = '2022-12-31' # 20250412 George commented out\n",
    "\n",
    "snapshot_num = 202412 # 20250412 George added\n",
    "snapshot = str(snapshot_num) # 20250412 George added\n",
    "snapshot_date = '2024-12-31' # 20250412 George added\n",
    "\n",
    "\n",
    "#CAR 2023 Ch5 prescribed\n",
    "correlation_residential_mortgages = 0.15\n",
    "correlation_residential_mortgages_rental = 0.22\n",
    "\n",
    "CMHC_pd = 0.0001\n",
    "CMHC_lgd = 0.11 #according to the newly developed Sovereign LGD model\n",
    "\n",
    "lgd_gen_floor = 0.1 #general floor by CAR 2023\n"
   ]
  },
  {
   "cell_type": "code",
   "execution_count": 48,
   "id": "517f5ef0",
   "metadata": {},
   "outputs": [],
   "source": [
    "# Columns to Keep\n",
    "\n",
    "PD_Cols_to_Keep = ['Mortgage_Number','Snapshot_Date','PD_Pre_MOC','PD_Post_MOC_Pre_Adj','PD_Post_MOC','MRS_Bin_PD','Insured_Ind','Appraisal_Value_v2', 'Concentra_Legacy_Ind', 'Occupancy_Status','Original_Loan_to_Value', 'FSA','Appraisal_Date_v2','Current_Principal_Balance_CB','Insurer','Original_Loan_Amount','Combo_Province_Metro_Override','Combo_Province_Metro_Override_WOE', 'Prior_24_Worse_Delinquent_Status_FMT_Adj', 'Prior_24_Worse_Delinquent_Status_FMT_Adj_WOE','Beacon_Avg_App_CoApp','Beacon_Avg_App_CoApp_WOE','BF_LTV_Tot_Exp_FSA_Dw_WF','Combo_LTV_Insured_Ind','Combo_LTV_Insured_Ind_WOE']\n",
    "\n",
    "\n",
    "LGD_Cols_to_Keep =['Mortgage_Number','MRS_Bin','Pred_LGD','Mapped_LGD','Final_LGD','Remaining_Term', 'BF_Appr_Prov_Dw','Appraisal_Bin_WOE', 'Occupancy', 'Occupancy_WOE', 'Province_Foreclosure', 'Province_Foreclosure_WOE', 'BF_LTV_Incl_Parter_Incl_HELOC_FSA_Dw','LTV_Bin_WOE']\n"
   ]
  },
  {
   "cell_type": "markdown",
   "id": "92628b98",
   "metadata": {},
   "source": [
    "# Set Folders"
   ]
  },
  {
   "cell_type": "code",
   "execution_count": 49,
   "id": "411f9eaa",
   "metadata": {},
   "outputs": [],
   "source": [
    "# Get current working directory\n",
    "\n",
    "current_dir = os.getcwd()  # 20250403 George added\n",
    "\n",
    "# code_dir= \"C:\\\\Users\" +'\\\\' + username + '\\\\' + \"Equitable Bank\\\\EQB-Concentra Fit for Use - Fit_for_Use Development - Fit_for_Use Development\\\\RWA\\\\code\" # 20250403 George commented out Francesca/Joseph's code\n",
    "\n",
    "code_dir = current_dir # 20250403 George added\n",
    "\n",
    "if int(snapshot_num) == 202412:\n",
    "    input_dir = code_dir + '\\\\..\\\\' + \"Inputs\" # 20250406 George added\n",
    "    Output_dir = code_dir + '\\\\..\\\\' + \"Outputs\" #20250406 George added\n",
    "\n",
    "if int(snapshot_num) == 202212:\n",
    "    input_dir = code_dir + '\\\\..\\\\' + \"Dec. 2022 RWA Inputs\" #20250410 George added\n",
    "    Output_dir = code_dir + '\\\\..\\\\' + \"Replicated Dec 2022 Outputs\" #20250410 George added"
   ]
  },
  {
   "cell_type": "markdown",
   "id": "7a7a3bbb",
   "metadata": {},
   "source": [
    "# Load PD Data"
   ]
  },
  {
   "cell_type": "code",
   "execution_count": 50,
   "id": "70382648-dd8e-4b0a-96cd-75b069bbbd4c",
   "metadata": {},
   "outputs": [
    {
     "name": "stdout",
     "output_type": "stream",
     "text": [
      "**************Before Renaming and add columns**************\n",
      "['AIRB_scope_ind', 'Appraisal_Date_v2', 'Appraisal_Value_v2', 'Appraisal_YYYYMM', 'BF_LTV_Tot_Exp_FSA_Dw_WF', 'Balance_Total', 'Beacon_Avg_App_CoApp', 'Beacon_Avg_App_CoApp_Orig', 'Beacon_Avg_App_CoApp_WOE', 'Beacon_Score_Current', 'Brookfield_Dwelling', 'City', 'Combo_LTV_Insured_Ind', 'Combo_LTV_Insured_Ind_WOE', 'Combo_Province_Metro_Override', 'Combo_Province_Metro_Override_WOE', 'Concentra_Legacy_Ind', 'Concentra_ind', 'Current_Principal_Balance_CB', 'Days_in_Arrears', 'Delinquency_Status_Adj', 'Dwelling_Type', 'FSA', 'Foreclosure', 'Funded_Date', 'Inception_date', 'Insured_Ind', 'Insurer', 'IsREO', 'Loan_Number', 'MRS_Bin_PD', 'Metro_Region_BF_FMT', 'Mortgage_Number', 'Nb_entities_per_loan', 'Occupancy_Status', 'Original_Loan_Amount', 'Original_Loan_to_Value', 'PD_Post_MOC', 'PD_Pre_MOC', 'PD_scoring', 'Prior_24_Worse_Delinquent_Status', 'Prior_24_Worse_Delinquent_Status_FMT_Adj', 'Prior_24_Worse_Delinquent_Status_FMT_Adj_WOE', 'Province', 'Repl_Origination_Beacon_ind', 'SL_YYYYMM', 'Security_PostalCode', 'Snapshot_Date', 'Tenure_Code', 'entity_skey', 'funding_date', 'islua_loan', 'lender_name', 'loan_skey', 'loan_type', 'log_odds', 'product_type', 'reject_code', 'role_type', 'score_code', 'score_date', 'score_sequence', 'score_type', 'sl_date', 'source_name', 'source_system', 'source_table']\n"
     ]
    }
   ],
   "source": [
    "# Read PD Data\n",
    "\n",
    "new_pd_data = pd.read_parquet(input_dir+ '\\Concentra_PD_Scoring_2020-12-31_to_2024-12-31_wInsurer (from Francesca 20250411).parquet')  # 20250406 George added\n",
    "\n",
    "\n",
    "# print columns in alphabetical order in the new_pd_data dataframe #20250402 George added\n",
    "\n",
    "print('**************Before Renaming and add columns**************') #20250402 George added\n",
    "\n",
    "print(sorted(new_pd_data.columns)) #20250402 George added\n",
    "\n",
    "\n",
    "\n"
   ]
  },
  {
   "cell_type": "code",
   "execution_count": 51,
   "id": "6e81bb82",
   "metadata": {},
   "outputs": [
    {
     "name": "stdout",
     "output_type": "stream",
     "text": [
      "*************** Checking Deault Loans*****************\n",
      "  MRS_Bin_PD Mortgage_Number PD_Post_MOC          \n",
      "                     nunique         min       max\n",
      "0        1.0           23096    0.002228  0.002228\n",
      "1        2.0           15190    0.003622  0.003622\n",
      "2        3.0            8616    0.007377  0.007377\n",
      "3        4.0            5609    0.011499  0.011499\n",
      "4        5.0            4817    0.019067  0.019067\n",
      "5        6.0            4892    0.034554  0.034554\n",
      "6        7.0            1650    0.107857  0.107857\n",
      "7        8.0            1140    0.629118  0.629118\n",
      "8        9.0             474    1.000000  1.000000\n"
     ]
    }
   ],
   "source": [
    "# Group by MRS_Bin, count distinct Mortgage_Number and min and max of PD_Post_MOC #20250402 George added\n",
    "print('*************** Checking Deault Loans*****************') #20250402 George added\n",
    "print(new_pd_data.groupby(['MRS_Bin_PD'], as_index=False).agg({'Mortgage_Number': pd.Series.nunique, 'PD_Post_MOC': [min, max]})) #20250402 George added"
   ]
  },
  {
   "cell_type": "code",
   "execution_count": 52,
   "id": "91feaec8",
   "metadata": {},
   "outputs": [],
   "source": [
    "# # Remove Defaults\n",
    "\n",
    "\n",
    "# # Remove rows with PD_Post_MOC <=0 or >=1 (defaults) #20250402 George added\n",
    "\n",
    "# new_pd_data = new_pd_data.loc[(new_pd_data['PD_Post_MOC'] > 0) & (new_pd_data['PD_Post_MOC'] < 1)] #20250402 George added\n",
    "\n",
    "# # Group by MRS_Bin, count distinct Loan_Number and min and max of PD_Post_MOC #20250402 George added\n",
    "\n",
    "# print('***************After Removing Deault Loans*****************') #20250402 George added\n",
    "\n",
    "# print(new_pd_data.groupby(['MRS_Bin_PD'], as_index=False).agg({'Mortgage_Number': pd.Series.nunique, 'PD_Post_MOC': [min, max]})) #20250402 George added"
   ]
  },
  {
   "cell_type": "code",
   "execution_count": 53,
   "id": "140ce705",
   "metadata": {},
   "outputs": [
    {
     "name": "stdout",
     "output_type": "stream",
     "text": [
      "***************Shape of new_pd_data*****************\n",
      "(1076473, 67)\n",
      "***************Count of islua_loan, loan_type, product_type and source_name*****************\n"
     ]
    },
    {
     "name": "stdout",
     "output_type": "stream",
     "text": [
      "   islua_loan    loan_type product_type              source_name  Mortgage_Number\n",
      "0       False  residential        alt-a                     cmls              815\n",
      "1       False  residential        alt-a  community trust company              223\n",
      "2       False  residential        alt-a           first national             8557\n",
      "3       False  residential        alt-a                     mcap             3066\n",
      "4       False  residential        prime      energy credit union               59\n",
      "5       False  residential        prime           first national             7722\n",
      "6       False  residential        prime   frontline credit union               42\n",
      "7       False  residential        prime                     mcap            15139\n",
      "8       False  residential        prime        pace credit union               63\n"
     ]
    }
   ],
   "source": [
    "# print shape of new_pd_data #20250402 George added\n",
    "\n",
    "print('***************Shape of new_pd_data*****************') #20250402 George added\n",
    "\n",
    "print(new_pd_data.shape) #20250402 George added\n",
    "\n",
    "\n",
    "# count values of islua_loan, loan_type, product_type and source_name\n",
    "\n",
    "print('***************Count of islua_loan, loan_type, product_type and source_name*****************') #20250402 George added\n",
    "\n",
    "print(new_pd_data.groupby(['islua_loan','loan_type', 'product_type', 'source_name'], as_index=False).agg({'Mortgage_Number': pd.Series.nunique})) #20250402 George added"
   ]
  },
  {
   "cell_type": "code",
   "execution_count": 54,
   "id": "279e9c39",
   "metadata": {},
   "outputs": [
    {
     "name": "stdout",
     "output_type": "stream",
     "text": [
      "***************Count of exclude_ind*****************\n",
      "  exclude_ind Mortgage_Number PD_Post_MOC     \n",
      "                      nunique         min  max\n",
      "0           0           35285    0.002228  1.0\n",
      "1           1             698    0.002228  1.0\n"
     ]
    }
   ],
   "source": [
    "# Exclude Loans\n",
    "#  If islua_loan!=1 AND loan_type = 'residential' AND Balance_CB > 0 AND product_type NOT IN ('heloc','bridge financing') AND source_name IN ('mcap','first national','cmls') THEN exclude_ind = 0, else exclude_ind = 1 #20250402 George added\n",
    "\n",
    "new_pd_data['exclude_ind'] = np.where(\n",
    "    (new_pd_data['islua_loan'] != 1) &\n",
    "    (new_pd_data['loan_type'] == 'residential') &\n",
    "    (new_pd_data['Current_Principal_Balance_CB'] > 0) &\n",
    "    (~new_pd_data['product_type'].isin(['heloc', 'bridge financing'])) &\n",
    "    (new_pd_data['source_name'].isin(['mcap', 'first national', 'cmls'])),\n",
    "    0,\n",
    "    1\n",
    ") #20250402 George added\n",
    "\n",
    "# Group by exclude_ind, count distinct Loan_Number and min and max of PD_Post_MOC #20250402 George added\n",
    "\n",
    "print('***************Count of exclude_ind*****************') #20250402 George added\n",
    "\n",
    "print(new_pd_data.groupby(['exclude_ind'], as_index=False).agg({'Mortgage_Number': pd.Series.nunique, 'PD_Post_MOC': [min, max]})) #20250402 George added"
   ]
  },
  {
   "cell_type": "code",
   "execution_count": 55,
   "id": "54771ad0-c090-4ef1-9c75-99e27c4014e5",
   "metadata": {
    "scrolled": true,
    "tags": []
   },
   "outputs": [
    {
     "name": "stdout",
     "output_type": "stream",
     "text": [
      "**************AFter Renaming and add columns**************\n",
      "['AIRB_scope_ind', 'Appraisal_Date_v2', 'Appraisal_Value_v2', 'Appraisal_YYYYMM', 'BF_LTV_Tot_Exp_FSA_Dw_WF', 'Balance_Total', 'Beacon_Avg_App_CoApp', 'Beacon_Avg_App_CoApp_Orig', 'Beacon_Avg_App_CoApp_WOE', 'Beacon_Score_Current', 'Brookfield_Dwelling', 'City', 'Combo_LTV_Insured_Ind', 'Combo_LTV_Insured_Ind_WOE', 'Combo_Province_Metro_Override', 'Combo_Province_Metro_Override_WOE', 'Concentra_Legacy_Ind', 'Concentra_ind', 'Current_Principal_Balance_CB', 'Days_in_Arrears', 'Delinquency_Status_Adj', 'Dwelling_Type', 'FSA', 'Foreclosure', 'Funded_Date', 'Inception_date', 'Insured_Ind', 'Insurer', 'IsREO', 'Loan_Number', 'MRS_Bin_PD', 'Metro_Region_BF_FMT', 'Mortgage_Number', 'Nb_entities_per_loan', 'Occupancy_Status', 'Original_Loan_Amount', 'Original_Loan_to_Value', 'PD_Post_MOC', 'PD_Post_MOC_Pre_Adj', 'PD_Pre_MOC', 'PD_scoring', 'Prior_24_Worse_Delinquent_Status', 'Prior_24_Worse_Delinquent_Status_FMT_Adj', 'Prior_24_Worse_Delinquent_Status_FMT_Adj_WOE', 'Province', 'Repl_Origination_Beacon_ind', 'SL_YYYYMM', 'Security_PostalCode', 'Snapshot_Date', 'Tenure_Code', 'def_90dpd_utp_filldown', 'entity_skey', 'exclude_ind', 'funding_date', 'islua_loan', 'lender_name', 'loan_skey', 'loan_type', 'log_odds', 'product_type', 'reject_code', 'role_type', 'score_code', 'score_date', 'score_sequence', 'score_type', 'sl_date', 'source_name', 'source_system', 'source_table']\n"
     ]
    }
   ],
   "source": [
    "# Rename columns:  SL_Date -> Snapshot_Date, AIRB_PD_Risk_Rating -> MRS_Bin, Apprisal_Value -> Appraisal_Value_v2, Appraisla_Date -> Appraisal_Date_v2, occupancy_status -> Occupancy_Status, Balance_CB to Current_Principal_Balance_CB, \n",
    "\n",
    "# new_pd_data.rename(columns={'SL_Date':'Snapshot_Date', 'AIRB_PD_Risk_Rating':'MRS_Bin', 'Appraisal_Value':'Appraisal_Value_v2', 'Appraisal_Date':'Appraisal_Date_v2', 'occupancy_status':'Occupancy_Status', 'Balance_CB':'Current_Principal_Balance_CB'}, inplace=True)\n",
    "\n",
    "# If columns PD_Post_MOC_Pre_Adj,def_90dpd_utp_filldown, exclude_ind  are missing, add them as NaN\n",
    "\n",
    "if 'PD_Post_MOC_Pre_Adj' not in new_pd_data.columns: # 20250412 George added\n",
    "\n",
    "    new_pd_data['PD_Post_MOC_Pre_Adj'] = np.nan  # 20250412 George added\n",
    "\n",
    "if 'def_90dpd_utp_filldown' not in new_pd_data.columns: # 20250412 George added\n",
    "\n",
    "    new_pd_data['def_90dpd_utp_filldown'] = np.nan  # 20250412 George added\n",
    "\n",
    "if 'exclude_ind' not in new_pd_data.columns: # 20250412 George added\n",
    "\n",
    "    new_pd_data['exclude_ind'] = 0  # 20250412 George added\n",
    "\n",
    "# print columns in alphabetical order in the new_pd_data dataframe #20250402 George added\n",
    "print('**************AFter Renaming and add columns**************') #20250402 George added\n",
    "\n",
    "print(sorted(new_pd_data.columns)) #20250402 George added"
   ]
  },
  {
   "cell_type": "code",
   "execution_count": 56,
   "id": "2dcc954c-ef61-4695-b8de-c03f4c930188",
   "metadata": {},
   "outputs": [],
   "source": [
    "# Filter snapshot, exclusion and keep columns\n",
    "new_pd_data_red = new_pd_data.loc[(new_pd_data['Snapshot_Date'] == snapshot_date)&(new_pd_data['PD_Post_MOC'].notna())&(new_pd_data['exclude_ind']==0),PD_Cols_to_Keep].rename(columns={'MRS_Bin':'MRS_Bin_PD'})\n",
    "\n",
    "# change Mortgage_Number to string because later maturity data has Mortgage_Number as string (some Mortgage number in maturity starts with C as a string)\n",
    "\n",
    "new_pd_data_red['Mortgage_Number'] = new_pd_data_red['Mortgage_Number'].astype(str) # 20250412 George added"
   ]
  },
  {
   "cell_type": "code",
   "execution_count": 57,
   "id": "9e591522-abdd-4713-a414-1a77a03ccd67",
   "metadata": {
    "tags": []
   },
   "outputs": [
    {
     "data": {
      "text/plain": [
       "PD_Pre_MOC  PD_Post_MOC_Pre_Adj  PD_Post_MOC  MRS_Bin_PD\n",
       "0.001538    NaN                  0.002228     1.0           10644\n",
       "0.002667    NaN                  0.003622     2.0            3720\n",
       "0.005465    NaN                  0.007377     3.0            1407\n",
       "0.008601    NaN                  0.011499     4.0             784\n",
       "0.014295    NaN                  0.019067     5.0             367\n",
       "0.026508    NaN                  0.034554     6.0             307\n",
       "0.081517    NaN                  0.107857     7.0             322\n",
       "0.477554    NaN                  0.629118     8.0             104\n",
       "NaN         NaN                  1.000000     9.0              80\n",
       "dtype: int64"
      ]
     },
     "execution_count": 57,
     "metadata": {},
     "output_type": "execute_result"
    }
   ],
   "source": [
    "new_pd_data_red.groupby(['PD_Pre_MOC','PD_Post_MOC_Pre_Adj','PD_Post_MOC','MRS_Bin_PD'],dropna=False).size()"
   ]
  },
  {
   "cell_type": "code",
   "execution_count": 58,
   "id": "609e53e6-7ffd-4dee-a247-1e520fe99176",
   "metadata": {
    "tags": []
   },
   "outputs": [
    {
     "data": {
      "text/plain": [
       "0.0    15977\n",
       "1.0     1758\n",
       "Name: Concentra_Legacy_Ind, dtype: int64"
      ]
     },
     "execution_count": 58,
     "metadata": {},
     "output_type": "execute_result"
    }
   ],
   "source": [
    "new_pd_data_red.Concentra_Legacy_Ind.value_counts()"
   ]
  },
  {
   "cell_type": "code",
   "execution_count": 59,
   "id": "683cfa12-d657-40dc-89b5-d94868e59539",
   "metadata": {
    "tags": []
   },
   "outputs": [],
   "source": [
    "# maturity.Mortgage_Number=maturity.Mortgage_Number.str.lstrip('0')  # Again, the remaining_term is not used as this is old data strategy"
   ]
  },
  {
   "cell_type": "markdown",
   "id": "56006178",
   "metadata": {},
   "source": [
    "# Load LGD Data"
   ]
  },
  {
   "cell_type": "code",
   "execution_count": 60,
   "id": "4c26a5b5-92c9-47df-8abc-e11f8e0a556c",
   "metadata": {
    "tags": []
   },
   "outputs": [],
   "source": [
    "# new_lgd_data = pd.read_pickle(r\"C:\\Users\\jasonz\\OneDrive - Equitable Bank\\Fit_for_Use Development\\git_repos_MD\\abhignanp\\tempResults\\Concentra_LGD_AllScored_Data.pkl\") # 20250412 George commented out\n",
    "\n",
    "new_lgd_data = pd.read_parquet(input_dir + '\\Concentra_LGD_Scoring_2020-12-31_to_2024-12-31 (from Francesca 20250411).parquet')  # 20250406 George added\n",
    "\n",
    "\n",
    "# change Mortgage_Number to string because later maturity data has Mortgage_Number as string (some Mortgage number in maturity starts with C as a string)\n",
    "\n",
    "new_lgd_data['Mortgage_Number'] = new_lgd_data['Mortgage_Number'].astype(str) # 20250412 George added\n",
    "\n",
    "new_lgd_data.loc[new_lgd_data['Remaining_Term']<0,'Remaining_Term']=0  #pasting Francesca's code to clean up Remaining_Term # 20250411 George added"
   ]
  },
  {
   "cell_type": "code",
   "execution_count": 61,
   "id": "7e19eb42",
   "metadata": {},
   "outputs": [
    {
     "name": "stdout",
     "output_type": "stream",
     "text": [
      "***************Snapshot_Date in new_lgd_data*****************\n",
      "2020-12-31 00:00:00\n",
      "2024-12-31 00:00:00\n"
     ]
    }
   ],
   "source": [
    "# print min and max of Snapshot_Date in new_lgd_data #20250411 George added\n",
    "\n",
    "print('***************Snapshot_Date in new_lgd_data*****************') #20250411 George added\n",
    "\n",
    "print(new_lgd_data['Snapshot_Date'].min()) #20250411 George added\n",
    "\n",
    "print(new_lgd_data['Snapshot_Date'].max()) #20250411 George added"
   ]
  },
  {
   "cell_type": "code",
   "execution_count": 62,
   "id": "7a208565",
   "metadata": {},
   "outputs": [
    {
     "name": "stdout",
     "output_type": "stream",
     "text": [
      "***************Count of Snapshot_Date in new_lgd_data*****************\n",
      "  Snapshot_Date  Mortgage_Number\n",
      "0    2024-12-31            17847\n"
     ]
    }
   ],
   "source": [
    "# Filter LGD Data to have Snapshot_Date = snapshot_date\n",
    "\n",
    "new_lgd_data_red = new_lgd_data.loc[new_lgd_data['Snapshot_Date'] == snapshot_date]\n",
    "\n",
    "# count values by Snapshot_Date\n",
    "\n",
    "print('***************Count of Snapshot_Date in new_lgd_data*****************') \n",
    "\n",
    "print(new_lgd_data_red.groupby(['Snapshot_Date'], as_index=False).agg({'Mortgage_Number': pd.Series.nunique})) "
   ]
  },
  {
   "cell_type": "markdown",
   "id": "3b60cdaa",
   "metadata": {},
   "source": [
    "# Merge PD and LGD Data"
   ]
  },
  {
   "cell_type": "code",
   "execution_count": 63,
   "id": "2397c2ab-56ec-491b-ac71-8587d3274591",
   "metadata": {
    "tags": []
   },
   "outputs": [],
   "source": [
    "rwa_data=new_pd_data_red.merge(new_lgd_data_red[LGD_Cols_to_Keep].rename(columns={'MRS_Bin':'MRS_Bin_LGD','Final_LGD':'Model_LGD'}), on ='Mortgage_Number', how='outer')"
   ]
  },
  {
   "cell_type": "code",
   "execution_count": 64,
   "id": "851aafaa-a665-4c67-a3ec-972aee6768b3",
   "metadata": {},
   "outputs": [
    {
     "data": {
      "text/plain": [
       "count    17847.000000\n",
       "mean        17.044994\n",
       "std         13.077753\n",
       "min          0.000000\n",
       "25%          7.000000\n",
       "50%         13.000000\n",
       "75%         23.000000\n",
       "max         60.000000\n",
       "Name: Remaining_Term, dtype: float64"
      ]
     },
     "execution_count": 64,
     "metadata": {},
     "output_type": "execute_result"
    }
   ],
   "source": [
    "rwa_data['Remaining_Term'].describe()"
   ]
  },
  {
   "cell_type": "code",
   "execution_count": 65,
   "id": "ac3bebe6-64cd-4eb0-81d7-5144c389d74b",
   "metadata": {},
   "outputs": [
    {
     "data": {
      "text/plain": [
       "Conventional       6681\n",
       "Canada Guaranty    5847\n",
       "CMHC               5207\n",
       "NaN                 112\n",
       "Name: Insurer, dtype: int64"
      ]
     },
     "execution_count": 65,
     "metadata": {},
     "output_type": "execute_result"
    }
   ],
   "source": [
    "rwa_data.Insurer.value_counts(dropna= False) # 20250403 FRAN added to verify below is correct - modified Cmhc: CMHC"
   ]
  },
  {
   "cell_type": "markdown",
   "id": "26c9b27f",
   "metadata": {},
   "source": [
    "# Map Insurer to Insured_class"
   ]
  },
  {
   "cell_type": "code",
   "execution_count": 66,
   "id": "fd30c12d-6a90-4a46-a062-8a446fa74d4d",
   "metadata": {
    "tags": []
   },
   "outputs": [
    {
     "name": "stdout",
     "output_type": "stream",
     "text": [
      "***************Count of Insured_class in rwa_data*****************\n",
      "Uninsured    6793\n",
      "CG           5847\n",
      "CMHC         5207\n",
      "Name: Insured_class, dtype: int64\n"
     ]
    }
   ],
   "source": [
    "insured_class = {'Sagen':'Sagen', 'Conventional':'Uninsured', 'Canada Guaranty':'CG', 'CMHC Portfolio':'CMHC',\n",
    "       'Cmhc':'CMHC', 'Sagen Portfolio':'Sagen', 'Canada Guaranty Portfolio':'CG'}\n",
    "\n",
    "# if Insurer is one of the keys in the dictionary, then assign the value to the Insured_class column, otherwise assign the original value of Insurer to the Insured_class column\n",
    "\n",
    "rwa_data['Insured_class'] = rwa_data['Insurer'].apply(lambda x: insured_class[x] if x in insured_class else x) # 20250411 George added\n",
    "\n",
    "# rwa_data['Insured_class']= rwa_data['Insurer'].map(insured_class) # 20250411 George commented out because CMHC was not in the dictionary and changed to missing if not in the dictionary\n",
    "\n",
    "# assign missing values in Insured_class to Uninsured # 20250411 George added\n",
    "\n",
    "rwa_data['Insured_class'].fillna('Uninsured', inplace=True) # 20250411 George added\n",
    "\n",
    "\n",
    "# value counts Insured_class\n",
    "\n",
    "print('***************Count of Insured_class in rwa_data*****************') \n",
    "\n",
    "print(rwa_data['Insured_class'].value_counts(dropna= False)) "
   ]
  },
  {
   "cell_type": "code",
   "execution_count": 67,
   "id": "2ce19eaa",
   "metadata": {},
   "outputs": [],
   "source": [
    "\n",
    "# corr_uninsured\n",
    "rwa_data['corr_uninsured'] =rwa_data['Occupancy_Status'].map(lambda x:0.15 if x in ['owner occupied','Owner Occupied','Owner_Occupied','owner_occupied'] else 0.22) # 20250412 George added"
   ]
  },
  {
   "cell_type": "code",
   "execution_count": 68,
   "id": "8af902cb-a837-4473-99c4-35cd8a4a6304",
   "metadata": {
    "tags": []
   },
   "outputs": [
    {
     "data": {
      "text/plain": [
       "array(['Mortgage_Number', 'Snapshot_Date', 'PD_Pre_MOC',\n",
       "       'PD_Post_MOC_Pre_Adj', 'PD_Post_MOC', 'MRS_Bin_PD', 'Insured_Ind',\n",
       "       'Appraisal_Value_v2', 'Concentra_Legacy_Ind', 'Occupancy_Status',\n",
       "       'Original_Loan_to_Value', 'FSA', 'Appraisal_Date_v2',\n",
       "       'Current_Principal_Balance_CB', 'Insurer', 'Original_Loan_Amount',\n",
       "       'Combo_Province_Metro_Override',\n",
       "       'Combo_Province_Metro_Override_WOE',\n",
       "       'Prior_24_Worse_Delinquent_Status_FMT_Adj',\n",
       "       'Prior_24_Worse_Delinquent_Status_FMT_Adj_WOE',\n",
       "       'Beacon_Avg_App_CoApp', 'Beacon_Avg_App_CoApp_WOE',\n",
       "       'BF_LTV_Tot_Exp_FSA_Dw_WF', 'Combo_LTV_Insured_Ind',\n",
       "       'Combo_LTV_Insured_Ind_WOE', 'MRS_Bin_LGD', 'Pred_LGD',\n",
       "       'Mapped_LGD', 'Model_LGD', 'Remaining_Term', 'BF_Appr_Prov_Dw',\n",
       "       'Appraisal_Bin_WOE', 'Occupancy', 'Occupancy_WOE',\n",
       "       'Province_Foreclosure', 'Province_Foreclosure_WOE',\n",
       "       'BF_LTV_Incl_Parter_Incl_HELOC_FSA_Dw', 'LTV_Bin_WOE',\n",
       "       'Insured_class', 'corr_uninsured'], dtype=object)"
      ]
     },
     "execution_count": 68,
     "metadata": {},
     "output_type": "execute_result"
    }
   ],
   "source": [
    "rwa_data.columns.values"
   ]
  },
  {
   "cell_type": "markdown",
   "id": "e38cba6f",
   "metadata": {},
   "source": [
    "# Add Other columns "
   ]
  },
  {
   "cell_type": "code",
   "execution_count": 69,
   "id": "7d1412e4-fc8f-40b5-8520-d2ecc7458632",
   "metadata": {
    "tags": []
   },
   "outputs": [],
   "source": [
    "\n",
    "# if LGD_DT_Adjusted is not in the columns, add it as NaN\n",
    "\n",
    "if 'LGD_DT_Adjusted' not in rwa_data.columns: # 20250412 George added\n",
    "    rwa_data['LGD_DT_Adjusted'] = np.nan  # 20250412 George added, the numbers are not the latest and this will not be used in the final result\n",
    "\n",
    "rwa_data['Segment_Avg_LGD'] = rwa_data.loc[:,'Mapped_LGD']\n",
    "rwa_data['Base_Line_LGD'] =rwa_data.loc[:,'Mapped_LGD']\n",
    "rwa_data['Advance_Amount'] = rwa_data.loc[:,'Original_Loan_Amount']\n",
    "rwa_data['Years_to_maturity'] = rwa_data.loc[:,'Remaining_Term']/12\n",
    "rwa_data['EAD'] = rwa_data.loc[:,'Current_Principal_Balance_CB']"
   ]
  },
  {
   "cell_type": "markdown",
   "id": "98a53144",
   "metadata": {},
   "source": [
    "# RWA with 0 Addon"
   ]
  },
  {
   "cell_type": "code",
   "execution_count": 70,
   "id": "c1a12257-fdc6-49ff-948d-8e2117c9e3c7",
   "metadata": {},
   "outputs": [],
   "source": [
    "# Force Addon to be 0\n",
    "\n",
    "rwa_raw_data_5 = rwa_data.copy()\n",
    "rwa_raw_data_5['AddOn']=0\n"
   ]
  },
  {
   "cell_type": "code",
   "execution_count": 71,
   "id": "c533b880-d030-4329-8505-e194f93035e7",
   "metadata": {},
   "outputs": [
    {
     "name": "stdout",
     "output_type": "stream",
     "text": [
      "0\n",
      "1\n",
      "2\n"
     ]
    }
   ],
   "source": [
    "# Run RWA calculation function\n",
    "\n",
    "[df_out, rwa_by_Insured_class, rwa_by_MRS_Bin, res_data]  = Lib_RWA.rwa_calculation(rwa_raw_data_5, lgd_gen_floor, CMHC_lgd, CMHC_pd)\n",
    "\n"
   ]
  },
  {
   "cell_type": "code",
   "execution_count": 72,
   "id": "2da65696",
   "metadata": {},
   "outputs": [
    {
     "name": "stdout",
     "output_type": "stream",
     "text": [
      "***************Columns of res_data in alphabetical order*****************\n",
      "['AddOn', 'Advance_Amount', 'Appraisal_Bin_WOE', 'Appraisal_Date_v2', 'Appraisal_Value_v2', 'BF_Appr_Prov_Dw', 'BF_LTV_Incl_Parter_Incl_HELOC_FSA_Dw', 'BF_LTV_Tot_Exp_FSA_Dw_WF', 'Base_Line_LGD', 'Beacon_Avg_App_CoApp', 'Beacon_Avg_App_CoApp_WOE', 'CalibratedPD', 'Combo_LTV_Insured_Ind', 'Combo_LTV_Insured_Ind_WOE', 'Combo_Province_Metro_Override', 'Combo_Province_Metro_Override_WOE', 'Concentra_Legacy_Ind', 'Current_Principal_Balance_CB', 'DLGD_floor', 'EAD', 'EAD_DLGD_Modified', 'EAD_Post_CRM', 'FSA', 'Final_LGD', 'Insured_Ind', 'Insured_class', 'Insurer', 'LGD_Before_Floors', 'LGD_DT_Adjusted', 'LTV_Bin_WOE', 'MRS_Bin_LGD', 'MRS_Bin_PD', 'Mapped_LGD', 'Maturity_adj', 'Model_LGD_Modified', 'Mortgage_Number', 'OSFI_LGD_floor', 'Occupancy', 'Occupancy_Status', 'Occupancy_WOE', 'Original_Loan_Amount', 'Original_Loan_to_Value', 'Pre_final_LGD', 'Pred_LGD', 'Prior_24_Worse_Delinquent_Status_FMT_Adj', 'Prior_24_Worse_Delinquent_Status_FMT_Adj_WOE', 'Province_Foreclosure', 'Province_Foreclosure_WOE', 'RWA_new', 'Remaining_Term', 'Segment_Avg_LGD', 'Snapshot_Date', 'Years_to_maturity', 'corr_insured', 'corr_uninsured', 'deductible_amount', 'insured_PMI_ratio', 'risk_weight_insured', 'risk_weight_uninsured']\n"
     ]
    }
   ],
   "source": [
    "# print columns of res_data in alphabetical order\n",
    "\n",
    "print('***************Columns of res_data in alphabetical order*****************') \n",
    "\n",
    "print(sorted(res_data.columns)) "
   ]
  },
  {
   "cell_type": "code",
   "execution_count": 73,
   "id": "46e88b91",
   "metadata": {},
   "outputs": [],
   "source": [
    "# Save Data to pickle file\n",
    "\n",
    "res_data.to_pickle(Output_dir + '\\\\' + 'concentra_rwa_addon_zero.pkl') "
   ]
  },
  {
   "cell_type": "markdown",
   "id": "e5d3485a",
   "metadata": {},
   "source": [
    "# Borrow Add on Impact from EQB"
   ]
  },
  {
   "cell_type": "code",
   "execution_count": 74,
   "id": "0dd010e8-d095-439e-8618-ac86fe881e30",
   "metadata": {
    "tags": []
   },
   "outputs": [],
   "source": [
    "# We need to add a cross table of lgd_bins and PD bins for rwa with add-on. However, we don't have account level addon info. therefore we take the impact from EQB at the Combo_LTV_Insured_Ind X Combo_Province_Metro_Override_WOE level\n",
    "\n",
    "# addon_impact =pd.read_excel(r\"C:\\Users\\francescav\\OneDrive - Equitable Bank\\EQB-Concentra Fit for Use - Fit_for_Use Development - Fit_for_Use Development\\RWA\\code\\Outputs\\addon_impact.xlsx\")  # 20250406 George commented out Francesca's code\n",
    "\n",
    "addon_impact =pd.read_excel(Output_dir+r\"\\addon_impact.xlsx\") # 20250406 George added\n",
    "\n",
    "rwa_raw_data = res_data.copy() # 20250411 George added because a new res_data is created in the above function"
   ]
  },
  {
   "cell_type": "code",
   "execution_count": 75,
   "id": "5970bbba-c085-4794-984b-649e313c637d",
   "metadata": {},
   "outputs": [
    {
     "data": {
      "text/plain": [
       "-0.389936    7\n",
       " 0.165650    7\n",
       "-0.161658    6\n",
       " 0.253031    6\n",
       "Name: Combo_Province_Metro_Override_WOE, dtype: int64"
      ]
     },
     "execution_count": 75,
     "metadata": {},
     "output_type": "execute_result"
    }
   ],
   "source": [
    "# 20250403 - Francesca Add on already has mapped values !\n",
    "addon_impact.Combo_Province_Metro_Override_WOE.value_counts()"
   ]
  },
  {
   "cell_type": "code",
   "execution_count": 76,
   "id": "60b3d9d8-0b96-4c5a-8192-9f4323cfb3c5",
   "metadata": {},
   "outputs": [],
   "source": [
    "addon_impact.Combo_Province_Metro_Override_WOE.fillna(0, inplace=True)\n",
    "addon_impact.Combo_Province_Metro_Override_WOE =addon_impact.Combo_Province_Metro_Override_WOE.round(8)"
   ]
  },
  {
   "cell_type": "code",
   "execution_count": 77,
   "id": "952a3935-54de-4050-ba77-f9d603d10d1b",
   "metadata": {},
   "outputs": [],
   "source": [
    "addon_impact.rename(columns={'impact':'addon_impact'},inplace=True)"
   ]
  },
  {
   "cell_type": "code",
   "execution_count": 78,
   "id": "d643f867-ae4e-4c60-901d-79b317d15733",
   "metadata": {
    "tags": []
   },
   "outputs": [],
   "source": [
    "#process to make sure the merge works;\n",
    "rwa_raw_data.Combo_Province_Metro_Override_WOE=rwa_raw_data.Combo_Province_Metro_Override_WOE.round(6).fillna(0)\n",
    "addon_impact.Combo_Province_Metro_Override_WOE = addon_impact.Combo_Province_Metro_Override_WOE.round(6).fillna(0)\n",
    "addon_impact.Combo_LTV_Insured_Ind=addon_impact.Combo_LTV_Insured_Ind.fillna('')"
   ]
  },
  {
   "cell_type": "code",
   "execution_count": 79,
   "id": "542a74d2-b50f-4d91-b1b7-0c3aa6368046",
   "metadata": {
    "tags": []
   },
   "outputs": [],
   "source": [
    "rwa_raw_data_addon=rwa_raw_data.merge(addon_impact[['Combo_LTV_Insured_Ind','Combo_Province_Metro_Override_WOE','addon_impact']], on=['Combo_LTV_Insured_Ind','Combo_Province_Metro_Override_WOE'],how='left')"
   ]
  },
  {
   "cell_type": "code",
   "execution_count": 80,
   "id": "475c9295-da94-4f2c-8785-e6869ad83ece",
   "metadata": {
    "tags": []
   },
   "outputs": [],
   "source": [
    "rwa_raw_data_addon.addon_impact = rwa_raw_data_addon.addon_impact.fillna(1)"
   ]
  },
  {
   "cell_type": "code",
   "execution_count": 81,
   "id": "c1ce310b-10cf-43c2-b181-d03d314be4af",
   "metadata": {
    "tags": []
   },
   "outputs": [],
   "source": [
    "rwa_raw_data_addon['RWA_AddOn']=rwa_raw_data_addon['RWA_new']*rwa_raw_data_addon['addon_impact']"
   ]
  },
  {
   "cell_type": "markdown",
   "id": "e3a57efb",
   "metadata": {},
   "source": [
    "# Save Data"
   ]
  },
  {
   "cell_type": "code",
   "execution_count": 82,
   "id": "b630d4fe",
   "metadata": {},
   "outputs": [],
   "source": [
    "\n",
    "# Save Data to Pickle\n",
    "\n",
    "with open( Output_dir +r'\\concentra_rwa_addon.pkl', 'wb') as file: # 20250406 George added\n",
    "\n",
    "    # A new file will be created \n",
    "    pickle.dump(rwa_raw_data_addon, file) "
   ]
  },
  {
   "cell_type": "code",
   "execution_count": 83,
   "id": "1e165c6f",
   "metadata": {},
   "outputs": [],
   "source": [
    "# #Save an excel copy\n",
    "\n",
    "# rwa_raw_data_addon.to_excel(Output_dir + r'\\concentra_rwa_addon.xlsx')  #20250406 George added"
   ]
  },
  {
   "cell_type": "code",
   "execution_count": 84,
   "id": "3b5ae0f5",
   "metadata": {},
   "outputs": [
    {
     "name": "stdout",
     "output_type": "stream",
     "text": [
      "***************Shape of rwa_raw_data_addon*****************\n",
      "(17847, 61)\n"
     ]
    }
   ],
   "source": [
    "# print shape of rwa_raw_data_addon\n",
    "\n",
    "print('***************Shape of rwa_raw_data_addon*****************')\n",
    "\n",
    "print(rwa_raw_data_addon.shape)"
   ]
  },
  {
   "cell_type": "markdown",
   "id": "e55d61f1",
   "metadata": {},
   "source": [
    "# Sanity Check Outputs"
   ]
  },
  {
   "cell_type": "code",
   "execution_count": 85,
   "id": "ea71f90c",
   "metadata": {},
   "outputs": [
    {
     "name": "stdout",
     "output_type": "stream",
     "text": [
      "Snapshot date: 2024-12-31\n",
      "Shape of rwa_raw_data_addon: (17847, 61)\n",
      "***************Group by Insured_Indicator*****************\n",
      "  Insured_class  Mortgage_Number           EAD       RWA_new  RWA_Ratio\n",
      "0            CG           5847.0  1.379561e+09  1.126858e+08   0.081682\n",
      "1          CMHC           5207.0  9.126017e+08  1.029814e+07   0.011284\n",
      "2     Uninsured           6793.0  3.152755e+09  5.598746e+08   0.177583\n",
      "3         Total          17847.0  5.444918e+09  6.828585e+08   0.125412\n",
      "['AddOn', 'Advance_Amount', 'Appraisal_Bin_WOE', 'Appraisal_Date_v2', 'Appraisal_Value_v2', 'BF_Appr_Prov_Dw', 'BF_LTV_Incl_Parter_Incl_HELOC_FSA_Dw', 'BF_LTV_Tot_Exp_FSA_Dw_WF', 'Base_Line_LGD', 'Beacon_Avg_App_CoApp', 'Beacon_Avg_App_CoApp_WOE', 'CalibratedPD', 'Combo_LTV_Insured_Ind', 'Combo_LTV_Insured_Ind_WOE', 'Combo_Province_Metro_Override', 'Combo_Province_Metro_Override_WOE', 'Concentra_Legacy_Ind', 'Current_Principal_Balance_CB', 'DLGD_floor', 'EAD', 'EAD_DLGD_Modified', 'EAD_Post_CRM', 'FSA', 'Final_LGD', 'Insured_Ind', 'Insured_class', 'Insurer', 'LGD_Before_Floors', 'LGD_DT_Adjusted', 'LTV_Bin_WOE', 'MRS_Bin_LGD', 'MRS_Bin_PD', 'Mapped_LGD', 'Maturity_adj', 'Model_LGD_Modified', 'Mortgage_Number', 'OSFI_LGD_floor', 'Occupancy', 'Occupancy_Status', 'Occupancy_WOE', 'Original_Loan_Amount', 'Original_Loan_to_Value', 'Pre_final_LGD', 'Pred_LGD', 'Prior_24_Worse_Delinquent_Status_FMT_Adj', 'Prior_24_Worse_Delinquent_Status_FMT_Adj_WOE', 'Province_Foreclosure', 'Province_Foreclosure_WOE', 'RWA_AddOn', 'RWA_new', 'Remaining_Term', 'Segment_Avg_LGD', 'Snapshot_Date', 'Years_to_maturity', 'addon_impact', 'corr_insured', 'corr_uninsured', 'deductible_amount', 'insured_PMI_ratio', 'risk_weight_insured', 'risk_weight_uninsured']\n"
     ]
    },
    {
     "name": "stderr",
     "output_type": "stream",
     "text": [
      "C:\\Users\\georgez\\AppData\\Local\\Temp\\ipykernel_11332\\1054344831.py:17: FutureWarning: The frame.append method is deprecated and will be removed from pandas in a future version. Use pandas.concat instead.\n",
      "  Sumry = Sumry.append(Sumry.sum(numeric_only=True), ignore_index=True) #20250403 George added\n"
     ]
    }
   ],
   "source": [
    "# print snapshot date \n",
    "\n",
    "print('Snapshot date: ' + snapshot_date) #20250403 George added\n",
    "\n",
    "# print the shape of rwa_raw_data_addon\n",
    "\n",
    "print('Shape of rwa_raw_data_addon: ' + str(rwa_raw_data_addon.shape)) #20250403 George added\n",
    "\n",
    "# Group by Insured_Indicator, count number of Mortgage_Number, sum of EAD and RWA_new\n",
    "\n",
    "print('***************Group by Insured_Indicator*****************') #20250403 George added\n",
    "\n",
    "Sumry = rwa_raw_data_addon.groupby(['Insured_class'], as_index=False).agg({'Mortgage_Number': pd.Series.nunique, 'EAD': sum, 'RWA_new': sum}) #20250403 George added\n",
    "\n",
    "# Add a total row to Sumry\n",
    "\n",
    "Sumry = Sumry.append(Sumry.sum(numeric_only=True), ignore_index=True) #20250403 George added\n",
    "Sumry.at[Sumry.index[-1], 'Insured_class'] = 'Total' #20250403 George added\n",
    "\n",
    "# Add a column RWA_Ratio as the ratio of RWA_new and EAD\n",
    "\n",
    "Sumry['RWA_Ratio'] = Sumry['RWA_new'] / Sumry['EAD'] #20250403 George added\n",
    "\n",
    "# print the summary\n",
    "\n",
    "print(Sumry) #20250403 George added\n",
    "\n",
    "# print columns in alphabetical ored\n",
    "\n",
    "print(sorted(rwa_raw_data_addon.columns)) #20250403 George added"
   ]
  }
 ],
 "metadata": {
  "kernelspec": {
   "display_name": "Commercial_IFRS9_PD_2024Dev",
   "language": "python",
   "name": "python3"
  },
  "language_info": {
   "codemirror_mode": {
    "name": "ipython",
    "version": 3
   },
   "file_extension": ".py",
   "mimetype": "text/x-python",
   "name": "python",
   "nbconvert_exporter": "python",
   "pygments_lexer": "ipython3",
   "version": "3.10.9"
  }
 },
 "nbformat": 4,
 "nbformat_minor": 5
}
