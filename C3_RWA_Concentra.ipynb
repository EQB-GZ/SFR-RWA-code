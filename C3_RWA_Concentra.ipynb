{
 "cells": [
  {
   "cell_type": "markdown",
   "id": "b18b7ff4",
   "metadata": {},
   "source": [
    "# Import Package"
   ]
  },
  {
   "cell_type": "code",
   "execution_count": 39,
   "id": "5f46fdf8-effa-48f5-99f0-ee81fb3836a9",
   "metadata": {},
   "outputs": [],
   "source": [
    "import sys\n",
    " \n",
    "# appending a path\n",
    "sys.path.append('')\n",
    " \n",
    "import os\n",
    "import pandas as pd\n",
    "import numpy as np\n",
    "import pickle\n",
    "# import SFR_PD_Recalibration_2023_Lib as tool\n",
    "# import Concentra_SFR_Fit_for_Use_2024_Lib as lib\n",
    "from matplotlib import pyplot as plt\n",
    "import math\n",
    "\n",
    "import Lib_RWA as Lib_RWA\n",
    "\n",
    "del sys.modules['Lib_RWA']  # Remove the module from sys.modules to force a reload\n",
    "\n",
    "import Lib_RWA as Lib_RWA"
   ]
  },
  {
   "cell_type": "code",
   "execution_count": 40,
   "id": "f99f6997",
   "metadata": {},
   "outputs": [
    {
     "name": "stderr",
     "output_type": "stream",
     "text": [
      "C:\\Users\\georgez\\AppData\\Local\\Temp\\ipykernel_18784\\3764690850.py:1: DeprecationWarning: Importing display from IPython.core.display is deprecated since IPython 7.14, please import from IPython display\n",
      "  from IPython.core.display import display, HTML\n"
     ]
    },
    {
     "data": {
      "text/html": [
       "<style>div.output_scroll { height: 44em; }</style>"
      ],
      "text/plain": [
       "<IPython.core.display.HTML object>"
      ]
     },
     "metadata": {},
     "output_type": "display_data"
    },
    {
     "data": {
      "text/html": [
       "<style>.container { width:100% !important; }</style>"
      ],
      "text/plain": [
       "<IPython.core.display.HTML object>"
      ]
     },
     "metadata": {},
     "output_type": "display_data"
    },
    {
     "data": {
      "text/html": [
       "<style>.container { width:100% !important; }</style>"
      ],
      "text/plain": [
       "<IPython.core.display.HTML object>"
      ]
     },
     "metadata": {},
     "output_type": "display_data"
    }
   ],
   "source": [
    "from IPython.core.display import display, HTML\n",
    "display(HTML(\"<style>div.output_scroll { height: 44em; }</style>\"))\n",
    "from IPython.display import display, HTML\n",
    "display(HTML(\"<style>.container { width:100% !important; }</style>\"))\n",
    "display(HTML(\"<style>.container { width:100% !important; }</style>\"))"
   ]
  },
  {
   "cell_type": "code",
   "execution_count": 41,
   "id": "686f60be-a81f-4214-a91c-123102d16812",
   "metadata": {
    "tags": []
   },
   "outputs": [],
   "source": [
    "pd.set_option('display.max_rows', 500)\n",
    "pd.set_option('display.max_columns', 500)\n",
    "pd.set_option('display.width', 1000)"
   ]
  },
  {
   "cell_type": "markdown",
   "id": "7bdbc52f",
   "metadata": {},
   "source": [
    "# Inputs"
   ]
  },
  {
   "cell_type": "code",
   "execution_count": 42,
   "id": "34729f76-097e-45ae-ac7c-05e085a0a42d",
   "metadata": {},
   "outputs": [],
   "source": [
    "snapshot_num = 202212 # 20250412 George commented out\n",
    "snapshot = str(snapshot_num) # 20250412 George commented out\n",
    "snapshot_date = '2022-12-31' # 20250412 George commented out\n",
    "\n",
    "# snapshot_num = 202412 # 20250412 George added\n",
    "# snapshot = str(snapshot_num) # 20250412 George added\n",
    "# snapshot_date = '2024-12-31' # 20250412 George added\n",
    "\n",
    "\n",
    "#CAR 2023 Ch5 prescribed\n",
    "correlation_residential_mortgages = 0.15\n",
    "correlation_residential_mortgages_rental = 0.22\n",
    "\n",
    "CMHC_pd = 0.0001\n",
    "CMHC_lgd = 0.11 #according to the newly developed Sovereign LGD model\n",
    "\n",
    "lgd_gen_floor = 0.1 #general floor by CAR 2023\n"
   ]
  },
  {
   "cell_type": "markdown",
   "id": "92628b98",
   "metadata": {},
   "source": [
    "# Set Folders"
   ]
  },
  {
   "cell_type": "code",
   "execution_count": 43,
   "id": "411f9eaa",
   "metadata": {},
   "outputs": [],
   "source": [
    "# Get current working directory\n",
    "\n",
    "current_dir = os.getcwd()  # 20250403 George added\n",
    "\n",
    "# code_dir= \"C:\\\\Users\" +'\\\\' + username + '\\\\' + \"Equitable Bank\\\\EQB-Concentra Fit for Use - Fit_for_Use Development - Fit_for_Use Development\\\\RWA\\\\code\" # 20250403 George commented out Francesca/Joseph's code\n",
    "\n",
    "code_dir = current_dir # 20250403 George added\n",
    "\n",
    "if int(snapshot_num) == 202412:\n",
    "    input_dir = code_dir + '\\\\..\\\\' + \"Inputs\" # 20250406 George added\n",
    "    Output_dir = code_dir + '\\\\..\\\\' + \"Outputs\" #20250406 George added\n",
    "\n",
    "if int(snapshot_num) == 202212:\n",
    "    input_dir = code_dir + '\\\\..\\\\' + \"Dec. 2022 RWA Inputs\" #20250410 George added\n",
    "    Output_dir = code_dir + '\\\\..\\\\' + \"Replicated Dec 2022 Outputs\" #20250410 George added"
   ]
  },
  {
   "cell_type": "markdown",
   "id": "7a7a3bbb",
   "metadata": {},
   "source": [
    "# Load PD Data"
   ]
  },
  {
   "cell_type": "code",
   "execution_count": 44,
   "id": "70382648-dd8e-4b0a-96cd-75b069bbbd4c",
   "metadata": {},
   "outputs": [
    {
     "name": "stdout",
     "output_type": "stream",
     "text": [
      "**************Before Renaming and add columns**************\n",
      "['AIRB_scope_ind', 'Appraisal_Date_v2', 'Appraisal_Value_v2', 'Appraisal_YYYYMM', 'BF_LTV_Tot_Exp_FSA_Dw_WF', 'Balance_Total', 'Beacon_Avg_App_CoApp', 'Beacon_Avg_App_CoApp_Orig', 'Beacon_Avg_App_CoApp_WOE', 'Beacon_Score_Current', 'Brookfield_Dwelling', 'City', 'Combo_LTV_Insured_Ind', 'Combo_LTV_Insured_Ind_WOE', 'Combo_Province_Metro_Override', 'Combo_Province_Metro_Override_WOE', 'Concentra_Legacy_Ind', 'Concentra_ind', 'Current_Principal_Balance_CB', 'Days_in_Arrears', 'Delinquency_Status_Adj', 'Dwelling_Type', 'FSA', 'Foreclosure', 'Funded_Date', 'Inception_date', 'Insured_Ind', 'Insurer', 'IsREO', 'Loan_Number', 'MRS_Bin_PD', 'Metro_Region_BF_FMT', 'Mortgage_Number', 'Nb_entities_per_loan', 'Occupancy_Status', 'Original_Loan_Amount', 'Original_Loan_to_Value', 'PD_Post_MOC', 'PD_Pre_MOC', 'PD_scoring', 'Prior_24_Worse_Delinquent_Status', 'Prior_24_Worse_Delinquent_Status_FMT_Adj', 'Prior_24_Worse_Delinquent_Status_FMT_Adj_WOE', 'Province', 'Repl_Origination_Beacon_ind', 'SL_YYYYMM', 'Security_PostalCode', 'Snapshot_Date', 'Tenure_Code', 'entity_skey', 'funding_date', 'islua_loan', 'lender_name', 'loan_skey', 'loan_type', 'log_odds', 'product_type', 'reject_code', 'role_type', 'score_code', 'score_date', 'score_sequence', 'score_type', 'sl_date', 'source_name', 'source_system', 'source_table']\n"
     ]
    }
   ],
   "source": [
    "# Read PD Data\n",
    "\n",
    "new_pd_data = pd.read_parquet(input_dir+ '\\Concentra_PD_Scoring_2020-12-31_to_2024-12-31_wInsurer (from Francesca 20250411).parquet')  # 20250406 George added\n",
    "\n",
    "\n",
    "# print columns in alphabetical order in the new_pd_data dataframe #20250402 George added\n",
    "\n",
    "print('**************Before Renaming and add columns**************') #20250402 George added\n",
    "\n",
    "print(sorted(new_pd_data.columns)) #20250402 George added\n",
    "\n",
    "\n",
    "\n"
   ]
  },
  {
   "cell_type": "code",
   "execution_count": 45,
   "id": "91feaec8",
   "metadata": {},
   "outputs": [
    {
     "name": "stdout",
     "output_type": "stream",
     "text": [
      "***************Before Removing Deault Loans*****************\n",
      "  MRS_Bin_PD Mortgage_Number PD_Post_MOC          \n",
      "                     nunique         min       max\n",
      "0        1.0           23096    0.002228  0.002228\n",
      "1        2.0           15190    0.003622  0.003622\n",
      "2        3.0            8616    0.007377  0.007377\n",
      "3        4.0            5609    0.011499  0.011499\n",
      "4        5.0            4817    0.019067  0.019067\n",
      "5        6.0            4892    0.034554  0.034554\n",
      "6        7.0            1650    0.107857  0.107857\n",
      "7        8.0            1140    0.629118  0.629118\n",
      "8        9.0             474    1.000000  1.000000\n",
      "***************After Removing Deault Loans*****************\n",
      "  MRS_Bin_PD Mortgage_Number PD_Post_MOC          \n",
      "                     nunique         min       max\n",
      "0        1.0           23096    0.002228  0.002228\n",
      "1        2.0           15190    0.003622  0.003622\n",
      "2        3.0            8616    0.007377  0.007377\n",
      "3        4.0            5609    0.011499  0.011499\n",
      "4        5.0            4817    0.019067  0.019067\n",
      "5        6.0            4892    0.034554  0.034554\n",
      "6        7.0            1650    0.107857  0.107857\n",
      "7        8.0            1140    0.629118  0.629118\n"
     ]
    }
   ],
   "source": [
    "# Remove Defaults\n",
    "# Group by MRS_Bin, count distinct Mortgage_Number and min and max of PD_Post_MOC #20250402 George added\n",
    "print('***************Before Removing Deault Loans*****************') #20250402 George added\n",
    "print(new_pd_data.groupby(['MRS_Bin_PD'], as_index=False).agg({'Mortgage_Number': pd.Series.nunique, 'PD_Post_MOC': [min, max]})) #20250402 George added\n",
    "\n",
    "# Remove rows with PD_Post_MOC <=0 or >=1 (defaults) #20250402 George added\n",
    "\n",
    "new_pd_data = new_pd_data.loc[(new_pd_data['PD_Post_MOC'] > 0) & (new_pd_data['PD_Post_MOC'] < 1)] #20250402 George added\n",
    "\n",
    "# Group by MRS_Bin, count distinct Loan_Number and min and max of PD_Post_MOC #20250402 George added\n",
    "\n",
    "print('***************After Removing Deault Loans*****************') #20250402 George added\n",
    "\n",
    "print(new_pd_data.groupby(['MRS_Bin_PD'], as_index=False).agg({'Mortgage_Number': pd.Series.nunique, 'PD_Post_MOC': [min, max]})) #20250402 George added"
   ]
  },
  {
   "cell_type": "code",
   "execution_count": 46,
   "id": "140ce705",
   "metadata": {},
   "outputs": [
    {
     "name": "stdout",
     "output_type": "stream",
     "text": [
      "***************Shape of new_pd_data*****************\n",
      "(1073510, 67)\n",
      "***************Count of islua_loan, loan_type, product_type and source_name*****************\n",
      "   islua_loan    loan_type product_type              source_name  Mortgage_Number\n",
      "0       False  residential        alt-a                     cmls              815\n",
      "1       False  residential        alt-a  community trust company              223\n",
      "2       False  residential        alt-a           first national             8555\n",
      "3       False  residential        alt-a                     mcap             3057\n",
      "4       False  residential        prime      energy credit union               59\n",
      "5       False  residential        prime           first national             7713\n",
      "6       False  residential        prime   frontline credit union               42\n",
      "7       False  residential        prime                     mcap            15117\n",
      "8       False  residential        prime        pace credit union               63\n"
     ]
    }
   ],
   "source": [
    "# print shape of new_pd_data #20250402 George added\n",
    "\n",
    "print('***************Shape of new_pd_data*****************') #20250402 George added\n",
    "\n",
    "print(new_pd_data.shape) #20250402 George added\n",
    "\n",
    "\n",
    "# count values of islua_loan, loan_type, product_type and source_name\n",
    "\n",
    "print('***************Count of islua_loan, loan_type, product_type and source_name*****************') #20250402 George added\n",
    "\n",
    "print(new_pd_data.groupby(['islua_loan','loan_type', 'product_type', 'source_name'], as_index=False).agg({'Mortgage_Number': pd.Series.nunique})) #20250402 George added"
   ]
  },
  {
   "cell_type": "code",
   "execution_count": 47,
   "id": "279e9c39",
   "metadata": {},
   "outputs": [
    {
     "name": "stdout",
     "output_type": "stream",
     "text": [
      "***************Count of exclude_ind*****************\n",
      "  exclude_ind Mortgage_Number PD_Post_MOC          \n",
      "                      nunique         min       max\n",
      "0           0           35243    0.002228  0.629118\n",
      "1           1             698    0.002228  0.629118\n"
     ]
    }
   ],
   "source": [
    "# Exclude Loans\n",
    "#  If islua_loan!=1 AND loan_type = 'residential' AND Balance_CB > 0 AND product_type NOT IN ('heloc','bridge financing') AND source_name IN ('mcap','first national','cmls') THEN exclude_ind = 0, else exclude_ind = 1 #20250402 George added\n",
    "\n",
    "new_pd_data['exclude_ind'] = np.where(\n",
    "    (new_pd_data['islua_loan'] != 1) &\n",
    "    (new_pd_data['loan_type'] == 'residential') &\n",
    "    (new_pd_data['Current_Principal_Balance_CB'] > 0) &\n",
    "    (~new_pd_data['product_type'].isin(['heloc', 'bridge financing'])) &\n",
    "    (new_pd_data['source_name'].isin(['mcap', 'first national', 'cmls'])),\n",
    "    0,\n",
    "    1\n",
    ") #20250402 George added\n",
    "\n",
    "# Group by exclude_ind, count distinct Loan_Number and min and max of PD_Post_MOC #20250402 George added\n",
    "\n",
    "print('***************Count of exclude_ind*****************') #20250402 George added\n",
    "\n",
    "print(new_pd_data.groupby(['exclude_ind'], as_index=False).agg({'Mortgage_Number': pd.Series.nunique, 'PD_Post_MOC': [min, max]})) #20250402 George added"
   ]
  },
  {
   "cell_type": "code",
   "execution_count": 48,
   "id": "54771ad0-c090-4ef1-9c75-99e27c4014e5",
   "metadata": {
    "scrolled": true,
    "tags": []
   },
   "outputs": [
    {
     "name": "stdout",
     "output_type": "stream",
     "text": [
      "**************AFter Renaming and add columns**************\n",
      "['AIRB_scope_ind', 'Appraisal_Date_v2', 'Appraisal_Value_v2', 'Appraisal_YYYYMM', 'BF_LTV_Tot_Exp_FSA_Dw_WF', 'Balance_Total', 'Beacon_Avg_App_CoApp', 'Beacon_Avg_App_CoApp_Orig', 'Beacon_Avg_App_CoApp_WOE', 'Beacon_Score_Current', 'Brookfield_Dwelling', 'City', 'Combo_LTV_Insured_Ind', 'Combo_LTV_Insured_Ind_WOE', 'Combo_Province_Metro_Override', 'Combo_Province_Metro_Override_WOE', 'Concentra_Legacy_Ind', 'Concentra_ind', 'Current_Principal_Balance_CB', 'Days_in_Arrears', 'Delinquency_Status_Adj', 'Dwelling_Type', 'FSA', 'Foreclosure', 'Funded_Date', 'Inception_date', 'Insured_Ind', 'Insurer', 'IsREO', 'Loan_Number', 'MRS_Bin_PD', 'Metro_Region_BF_FMT', 'Mortgage_Number', 'Nb_entities_per_loan', 'Occupancy_Status', 'Original_Loan_Amount', 'Original_Loan_to_Value', 'PD_Post_MOC', 'PD_Post_MOC_Pre_Adj', 'PD_Pre_MOC', 'PD_scoring', 'Prior_24_Worse_Delinquent_Status', 'Prior_24_Worse_Delinquent_Status_FMT_Adj', 'Prior_24_Worse_Delinquent_Status_FMT_Adj_WOE', 'Province', 'Repl_Origination_Beacon_ind', 'SL_YYYYMM', 'Security_PostalCode', 'Snapshot_Date', 'Tenure_Code', 'def_90dpd_utp_filldown', 'entity_skey', 'exclude_ind', 'funding_date', 'islua_loan', 'lender_name', 'loan_skey', 'loan_type', 'log_odds', 'product_type', 'reject_code', 'role_type', 'score_code', 'score_date', 'score_sequence', 'score_type', 'sl_date', 'source_name', 'source_system', 'source_table']\n"
     ]
    }
   ],
   "source": [
    "# Rename columns:  SL_Date -> Snapshot_Date, AIRB_PD_Risk_Rating -> MRS_Bin, Apprisal_Value -> Appraisal_Value_v2, Appraisla_Date -> Appraisal_Date_v2, occupancy_status -> Occupancy_Status, Balance_CB to Current_Principal_Balance_CB, \n",
    "\n",
    "# new_pd_data.rename(columns={'SL_Date':'Snapshot_Date', 'AIRB_PD_Risk_Rating':'MRS_Bin', 'Appraisal_Value':'Appraisal_Value_v2', 'Appraisal_Date':'Appraisal_Date_v2', 'occupancy_status':'Occupancy_Status', 'Balance_CB':'Current_Principal_Balance_CB'}, inplace=True)\n",
    "\n",
    "# If columns PD_Post_MOC_Pre_Adj,def_90dpd_utp_filldown, exclude_ind  are missing, add them as NaN\n",
    "\n",
    "if 'PD_Post_MOC_Pre_Adj' not in new_pd_data.columns: # 20250412 George added\n",
    "\n",
    "    new_pd_data['PD_Post_MOC_Pre_Adj'] = np.nan  # 20250412 George added\n",
    "\n",
    "if 'def_90dpd_utp_filldown' not in new_pd_data.columns: # 20250412 George added\n",
    "\n",
    "    new_pd_data['def_90dpd_utp_filldown'] = np.nan  # 20250412 George added\n",
    "\n",
    "if 'exclude_ind' not in new_pd_data.columns: # 20250412 George added\n",
    "\n",
    "    new_pd_data['exclude_ind'] = 0  # 20250412 George added\n",
    "\n",
    "# print columns in alphabetical order in the new_pd_data dataframe #20250402 George added\n",
    "print('**************AFter Renaming and add columns**************') #20250402 George added\n",
    "\n",
    "print(sorted(new_pd_data.columns)) #20250402 George added"
   ]
  },
  {
   "cell_type": "code",
   "execution_count": 49,
   "id": "2dcc954c-ef61-4695-b8de-c03f4c930188",
   "metadata": {},
   "outputs": [],
   "source": [
    "# Filter snapshot, exclusion and keep columns\n",
    "new_pd_data_red = new_pd_data.loc[(new_pd_data['Snapshot_Date'] == snapshot_date)&(new_pd_data['PD_Post_MOC'].notna())&(new_pd_data['exclude_ind']==0),['Mortgage_Number','Snapshot_Date','PD_Pre_MOC','PD_Post_MOC_Pre_Adj','PD_Post_MOC','MRS_Bin_PD','Insured_Ind','Appraisal_Value_v2',\n",
    "                                                             'Combo_LTV_Insured_Ind',  'Combo_Province_Metro_Override_WOE', 'def_90dpd_utp_filldown', 'Concentra_Legacy_Ind', 'Occupancy_Status','Original_Loan_to_Value', 'FSA','Appraisal_Date_v2','Current_Principal_Balance_CB','Insurer','Original_Loan_Amount','Original_Loan_to_Value']].rename(columns={'MRS_Bin':'MRS_Bin_PD'})\n",
    "\n",
    "# change Mortgage_Number to string because later maturity data has Mortgage_Number as string (some Mortgage number in maturity starts with C as a string)\n",
    "\n",
    "new_pd_data_red['Mortgage_Number'] = new_pd_data_red['Mortgage_Number'].astype(str) # 20250412 George added"
   ]
  },
  {
   "cell_type": "code",
   "execution_count": 50,
   "id": "9e591522-abdd-4713-a414-1a77a03ccd67",
   "metadata": {
    "tags": []
   },
   "outputs": [
    {
     "data": {
      "text/plain": [
       "PD_Pre_MOC  PD_Post_MOC_Pre_Adj  PD_Post_MOC  MRS_Bin_PD\n",
       "0.001538    NaN                  0.002228     1.0           12446\n",
       "0.002667    NaN                  0.003622     2.0            4402\n",
       "0.005465    NaN                  0.007377     3.0            1847\n",
       "0.008601    NaN                  0.011499     4.0            1042\n",
       "0.014295    NaN                  0.019067     5.0             602\n",
       "0.026508    NaN                  0.034554     6.0             573\n",
       "0.081517    NaN                  0.107857     7.0             303\n",
       "0.477554    NaN                  0.629118     8.0              74\n",
       "dtype: int64"
      ]
     },
     "execution_count": 50,
     "metadata": {},
     "output_type": "execute_result"
    }
   ],
   "source": [
    "new_pd_data_red.groupby(['PD_Pre_MOC','PD_Post_MOC_Pre_Adj','PD_Post_MOC','MRS_Bin_PD'],dropna=False).size()"
   ]
  },
  {
   "cell_type": "code",
   "execution_count": 51,
   "id": "609e53e6-7ffd-4dee-a247-1e520fe99176",
   "metadata": {
    "tags": []
   },
   "outputs": [
    {
     "data": {
      "text/plain": [
       "0.0    19017\n",
       "1.0     2272\n",
       "Name: Concentra_Legacy_Ind, dtype: int64"
      ]
     },
     "execution_count": 51,
     "metadata": {},
     "output_type": "execute_result"
    }
   ],
   "source": [
    "new_pd_data_red.Concentra_Legacy_Ind.value_counts()"
   ]
  },
  {
   "cell_type": "code",
   "execution_count": 52,
   "id": "63c27900-bcda-40de-b591-4ac90db1281c",
   "metadata": {
    "tags": []
   },
   "outputs": [],
   "source": [
    "# get Maturity - old Data strategy - Francesca did not use this code for Remaining_Term (instead LGD data has that column)\n",
    "# import pyodbc\n",
    "# server = 'EQSQLT01\\RISK'  #Note that python is case sensitive, the server name has to be capital as they actually are\n",
    "# database = 'Concentra'\n",
    "# conn =pyodbc.connect(f'Driver={{SQL Server}}; Server={server};Database={database}')\n",
    "# sql_query_loan = f'''\n",
    "#     SELECT \n",
    "#         Mortgage_Number,\n",
    "#         Remaining_Term\n",
    "#        ,[Maturity_Date]\n",
    "#        ,[Days_in_Arrears]\n",
    "#     FROM \n",
    "#         Concentra.dbo.vw_CN_SFR_Loan_Dataset\n",
    "#     WHERE\n",
    "#         CONVERT(DATETIME, EOMONTH(SL_Date))='{snapshot_date}' and\n",
    "#         IsLUA_Loan != 1 AND\n",
    "#         Loan_Type = 'Residential' AND\n",
    "#         Current_Principal_Balance_CB > 0 AND\n",
    "#         Product_Type NOT IN ('HELOC','Bridge Financing') AND\n",
    "#         Source_Name in ('MCAP','First National','CMLS')\n",
    "# '''\n",
    "\n",
    "# maturity = pd.read_sql_query(sql_query_loan,conn,parse_dates=['Maturity_Date'])"
   ]
  },
  {
   "cell_type": "code",
   "execution_count": 53,
   "id": "683cfa12-d657-40dc-89b5-d94868e59539",
   "metadata": {
    "tags": []
   },
   "outputs": [],
   "source": [
    "# maturity.Mortgage_Number=maturity.Mortgage_Number.str.lstrip('0')  # Again, the remaining_term is not used as this is old data strategy"
   ]
  },
  {
   "cell_type": "markdown",
   "id": "56006178",
   "metadata": {},
   "source": [
    "# Load LGD Data"
   ]
  },
  {
   "cell_type": "code",
   "execution_count": 54,
   "id": "4c26a5b5-92c9-47df-8abc-e11f8e0a556c",
   "metadata": {
    "tags": []
   },
   "outputs": [],
   "source": [
    "# new_lgd_data = pd.read_pickle(r\"C:\\Users\\jasonz\\OneDrive - Equitable Bank\\Fit_for_Use Development\\git_repos_MD\\abhignanp\\tempResults\\Concentra_LGD_AllScored_Data.pkl\") # 20250412 George commented out\n",
    "\n",
    "new_lgd_data = pd.read_parquet(input_dir + '\\Concentra_LGD_Scoring_2020-12-31_to_2024-12-31 (from Francesca 20250411).parquet')  # 20250406 George added\n",
    "\n",
    "\n",
    "# change Mortgage_Number to string because later maturity data has Mortgage_Number as string (some Mortgage number in maturity starts with C as a string)\n",
    "\n",
    "new_lgd_data['Mortgage_Number'] = new_lgd_data['Mortgage_Number'].astype(str) # 20250412 George added\n",
    "\n",
    "new_lgd_data.loc[new_lgd_data['Remaining_Term']<0,'Remaining_Term']=0  #pasting Francesca's code to clean up Remaining_Term # 20250411 George added"
   ]
  },
  {
   "cell_type": "code",
   "execution_count": 55,
   "id": "7e19eb42",
   "metadata": {},
   "outputs": [
    {
     "name": "stdout",
     "output_type": "stream",
     "text": [
      "***************Snapshot_Date in new_lgd_data*****************\n",
      "2020-12-31 00:00:00\n",
      "2024-12-31 00:00:00\n"
     ]
    }
   ],
   "source": [
    "# print min and max of Snapshot_Date in new_lgd_data #20250411 George added\n",
    "\n",
    "print('***************Snapshot_Date in new_lgd_data*****************') #20250411 George added\n",
    "\n",
    "print(new_lgd_data['Snapshot_Date'].min()) #20250411 George added\n",
    "\n",
    "print(new_lgd_data['Snapshot_Date'].max()) #20250411 George added"
   ]
  },
  {
   "cell_type": "markdown",
   "id": "3b60cdaa",
   "metadata": {},
   "source": [
    "# Merge PD and LGD Data"
   ]
  },
  {
   "cell_type": "code",
   "execution_count": 56,
   "id": "2397c2ab-56ec-491b-ac71-8587d3274591",
   "metadata": {
    "tags": []
   },
   "outputs": [],
   "source": [
    "rwa_data=new_pd_data_red.merge(new_lgd_data[['Mortgage_Number','MRS_Bin','Pred_LGD','Mapped_LGD','Final_LGD','Remaining_Term']].rename(columns={'MRS_Bin':'MRS_Bin_LGD','Final_LGD':'Model_LGD'}), on ='Mortgage_Number', how='left')"
   ]
  },
  {
   "cell_type": "code",
   "execution_count": 57,
   "id": "86407feb-c62f-48c8-8784-70b79e88e17e",
   "metadata": {},
   "outputs": [],
   "source": [
    "# # Concentra_Remaining_Term=pd.read_excel(r'C:\\Users\\francescav\\OneDrive - Equitable Bank\\EQB-Concentra Fit for Use - Fit_for_Use Development - Fit_for_Use Development\\RWA\\code\\Inputs\\Concentra Remaining Term December 2024 (from Francesca 20250404).xlsx')  #20250406 George commented out Francesca's code\n",
    "\n",
    "# Concentra_Remaining_Term=pd.read_excel(input_dir + '\\Concentra Remaining Term December 2024 (from Francesca 20250404).xlsx') #20250406 George added\n",
    "\n",
    "\n",
    "# Concentra_Remaining_Term['Mortgage_Number'] = Concentra_Remaining_Term['Mortgage_Number'].astype(str) \n",
    "# Concentra_Remaining_Term.loc[Concentra_Remaining_Term['Remaining_Term']<0,'Remaining_Term']=0"
   ]
  },
  {
   "cell_type": "code",
   "execution_count": 58,
   "id": "851aafaa-a665-4c67-a3ec-972aee6768b3",
   "metadata": {},
   "outputs": [
    {
     "data": {
      "text/plain": [
       "count    912136.000000\n",
       "mean         26.162798\n",
       "std          16.877722\n",
       "min           0.000000\n",
       "25%          11.000000\n",
       "50%          24.000000\n",
       "75%          40.000000\n",
       "max          61.000000\n",
       "Name: Remaining_Term, dtype: float64"
      ]
     },
     "execution_count": 58,
     "metadata": {},
     "output_type": "execute_result"
    }
   ],
   "source": [
    "rwa_data['Remaining_Term'].describe()"
   ]
  },
  {
   "cell_type": "code",
   "execution_count": 59,
   "id": "ac3bebe6-64cd-4eb0-81d7-5144c389d74b",
   "metadata": {},
   "outputs": [
    {
     "data": {
      "text/plain": [
       "Canada Guaranty    354426\n",
       "CMHC               313687\n",
       "Conventional       244023\n",
       "Name: Insurer, dtype: int64"
      ]
     },
     "execution_count": 59,
     "metadata": {},
     "output_type": "execute_result"
    }
   ],
   "source": [
    "rwa_data.Insurer.value_counts() # 20250403 FRAN added to verify below is correct - modified Cmhc: CMHC"
   ]
  },
  {
   "cell_type": "markdown",
   "id": "26c9b27f",
   "metadata": {},
   "source": [
    "# Map Insurer to Insured_class"
   ]
  },
  {
   "cell_type": "code",
   "execution_count": 60,
   "id": "fd30c12d-6a90-4a46-a062-8a446fa74d4d",
   "metadata": {
    "tags": []
   },
   "outputs": [],
   "source": [
    "insured_class = {'Sagen':'Sagen', 'Conventional':'Uninsured', 'Canada Guaranty':'CG', 'CMHC Portfolio':'CMHC',\n",
    "       'Cmhc':'CMHC', 'Sagen Portfolio':'Sagen', 'Canada Guaranty Portfolio':'CG'}\n",
    "\n",
    "# if Insurer is one of the keys in the dictionary, then assign the value to the Insured_class column, otherwise assign the original value of Insurer to the Insured_class column\n",
    "\n",
    "rwa_data['Insured_class'] = rwa_data['Insurer'].apply(lambda x: insured_class[x] if x in insured_class else x) # 20250411 George added\n",
    "\n",
    "# rwa_data['Insured_class']= rwa_data['Insurer'].map(insured_class) # 20250411 George commented out because CMHC was not in the dictionary and changed to missing if not in the dictionary\n",
    "\n",
    "# assign missing values in Insured_class to Uninsured # 20250411 George added\n",
    "\n",
    "rwa_data['Insured_class'].fillna('Uninsured', inplace=True) # 20250411 George added\n",
    "\n",
    "# rwa_data['corr_uninsured'] =rwa_data['Occupancy_Status'].map(lambda x:0.22 if x in ['Rented','Unknown'] else 0.15) # 20250412 George commented out\n",
    "rwa_data['corr_uninsured'] =rwa_data['Occupancy_Status'].map(lambda x:0.15 if x in ['owner occupied','Owner Occupied','Owner_Occupied','owner_occupied'] else 0.22) # 20250412 George added"
   ]
  },
  {
   "cell_type": "code",
   "execution_count": 61,
   "id": "8af902cb-a837-4473-99c4-35cd8a4a6304",
   "metadata": {
    "tags": []
   },
   "outputs": [
    {
     "data": {
      "text/plain": [
       "array(['Mortgage_Number', 'Snapshot_Date', 'PD_Pre_MOC',\n",
       "       'PD_Post_MOC_Pre_Adj', 'PD_Post_MOC', 'MRS_Bin_PD', 'Insured_Ind',\n",
       "       'Appraisal_Value_v2', 'Combo_LTV_Insured_Ind',\n",
       "       'Combo_Province_Metro_Override_WOE', 'def_90dpd_utp_filldown',\n",
       "       'Concentra_Legacy_Ind', 'Occupancy_Status',\n",
       "       'Original_Loan_to_Value', 'FSA', 'Appraisal_Date_v2',\n",
       "       'Current_Principal_Balance_CB', 'Insurer', 'Original_Loan_Amount',\n",
       "       'Original_Loan_to_Value', 'MRS_Bin_LGD', 'Pred_LGD', 'Mapped_LGD',\n",
       "       'Model_LGD', 'Remaining_Term', 'Insured_class', 'corr_uninsured'],\n",
       "      dtype=object)"
      ]
     },
     "execution_count": 61,
     "metadata": {},
     "output_type": "execute_result"
    }
   ],
   "source": [
    "rwa_data.columns.values"
   ]
  },
  {
   "cell_type": "markdown",
   "id": "e38cba6f",
   "metadata": {},
   "source": [
    "# Add columns "
   ]
  },
  {
   "cell_type": "code",
   "execution_count": 62,
   "id": "7d1412e4-fc8f-40b5-8520-d2ecc7458632",
   "metadata": {
    "tags": []
   },
   "outputs": [],
   "source": [
    "# dt_adjust={1:0.016497,2:0.040137,3:0.104959,4:0.180642}   #20250412 George commented out the numbers are not the latest and this will not be used in the final result\n",
    "# rwa_data['LGD_DT_Adjusted']=rwa_data['MRS_Bin_LGD'].map(dt_adjust) #20250412 George commented out the numbers are not the latest and this will not be used in the final result\n",
    "\n",
    "# if LGD_DT_Adjusted is not in the columns, add it as NaN\n",
    "\n",
    "if 'LGD_DT_Adjusted' not in rwa_data.columns: # 20250412 George added\n",
    "    rwa_data['LGD_DT_Adjusted'] = np.nan  # 20250412 George added, the numbers are not the latest and this will not be used in the final result\n",
    "\n",
    "rwa_data['Segment_Avg_LGD'] = rwa_data.loc[:,'Mapped_LGD']\n",
    "rwa_data['Base_Line_LGD'] =rwa_data.loc[:,'Mapped_LGD']\n",
    "rwa_data['Advance_Amount'] = rwa_data.loc[:,'Original_Loan_Amount']\n",
    "rwa_data['Years_to_maturity'] = rwa_data.loc[:,'Remaining_Term']/12\n",
    "rwa_data['EAD'] = rwa_data.loc[:,'Current_Principal_Balance_CB']"
   ]
  },
  {
   "cell_type": "markdown",
   "id": "98a53144",
   "metadata": {},
   "source": [
    "# RWA with 0 Addon"
   ]
  },
  {
   "cell_type": "code",
   "execution_count": 63,
   "id": "c1a12257-fdc6-49ff-948d-8e2117c9e3c7",
   "metadata": {},
   "outputs": [],
   "source": [
    "# Force Addon to be 0\n",
    "\n",
    "rwa_raw_data_5 = rwa_data.copy()\n",
    "rwa_raw_data_5['AddOn']=0\n"
   ]
  },
  {
   "cell_type": "code",
   "execution_count": 64,
   "id": "c533b880-d030-4329-8505-e194f93035e7",
   "metadata": {},
   "outputs": [
    {
     "name": "stdout",
     "output_type": "stream",
     "text": [
      "0\n",
      "1\n",
      "2\n"
     ]
    }
   ],
   "source": [
    "# Run RWA calculation function\n",
    "\n",
    "[df_out, rwa_by_Insured_class, rwa_by_MRS_Bin, res_data]  = Lib_RWA.rwa_calculation(rwa_raw_data_5, lgd_gen_floor, CMHC_lgd, CMHC_pd)\n",
    "\n",
    "\n",
    "# #################################################################\n",
    "# ####################### RWA Caculation #########################\n",
    "# #################################################################\n",
    "\n",
    "# df_out=pd.DataFrame()\n",
    "\n",
    "# # record result data \n",
    "# res_data=pd.DataFrame()\n",
    "\n",
    "\n",
    "# for ind_contol in range(0,3):\n",
    "#     print(ind_contol)\n",
    "\n",
    "#     # baseline LGD, Baseline PD\n",
    "#     if ind_contol==0:\n",
    "#         rwa_raw_data = rwa_raw_data_5.copy().drop(['PD_Post_MOC','PD_Post_MOC_Pre_Adj'], axis=1).rename({'PD_Pre_MOC': 'CalibratedPD', 'Base_Line_LGD' : 'Pre_final_LGD'  }, axis='columns'); \n",
    "#     #  PD_Post_MOC, LGD_DT_JUST     \n",
    "#     if ind_contol==1:\n",
    "#         rwa_raw_data = rwa_raw_data_5.copy().drop(['PD_Pre_MOC','PD_Post_MOC_Pre_Adj'], axis=1).rename({'PD_Post_MOC': 'CalibratedPD', 'LGD_DT_Adjusted': 'Pre_final_LGD' }, axis='columns'); \n",
    "#     #  PD_Post_MOC, Final LGD     \n",
    "#     if ind_contol==2:\n",
    "#         rwa_raw_data = rwa_raw_data_5.copy().drop(['PD_Pre_MOC','PD_Post_MOC_Pre_Adj'], axis=1).rename({'PD_Post_MOC': 'CalibratedPD' , 'Model_LGD': 'Pre_final_LGD' }, axis='columns'); \n",
    "        \n",
    "#     #  aseline LGD,  PD after long-run adjustment\n",
    "#     '''\n",
    "#     if ind_contol==3:\n",
    "#         rwa_raw_data = rwa_raw_data_5.copy().drop(['PD_Post_MOC','PD_Post_MOC_Pre_Adj'], axis=1).rename({'PD_Pre_MOC': 'CalibratedPD', 'Base_Line_LGD' : 'Pre_final_LGD'  }, axis='columns'); \n",
    "        \n",
    "#         adj_Longrun = pd.read_excel(os.path.join(adhoc_path, 'MOC_Summary.xlsx'), sheet_name= 'Sheet1') [['Adj_Longrun']].values[0].item()\n",
    "#         rwa_raw_data['CalibratedPD'] =  rwa_raw_data['CalibratedPD']*(1+adj_Longrun)\n",
    "#     '''\n",
    "    \n",
    "#     # Apply regulatory floors and derive the final LGD\n",
    "#     rwa_raw_data['DLGD_floor'] = rwa_raw_data['Segment_Avg_LGD'] + rwa_raw_data['AddOn']\n",
    "    \n",
    "#     # sum(~rwa_raw_data['DLGD_floor'].isna())\n",
    "#     # sum((~rwa_raw_data['Segment_Avg_LGD'].isna()) & (rwa_raw_data.Insured_class.isin([\"CMHC\",\"Sagen\", \"CG\"])))\n",
    "    \n",
    "#     # sum(~rwa_raw_data['Pre_final_LGD'].isna())\n",
    "#     # sum(~rwa_raw_data['Segment_Avg_LGD'].isna() )\n",
    "#     # sum(~(rwa_raw_data.Insured_class.isin([\"CMHC\",\"Sagen\", \"CG\"]) ))\n",
    "\n",
    "#     rwa_raw_data.loc[~rwa_raw_data['Pre_final_LGD'].isna(),'OSFI_LGD_floor'] = lgd_gen_floor\n",
    "#     rwa_raw_data['Final_LGD'] = rwa_raw_data[['Pre_final_LGD','DLGD_floor','OSFI_LGD_floor']].max(axis='columns')\n",
    "\n",
    "#     # sum(~rwa_raw_data['Final_LGD'].isna())\n",
    "    \n",
    "#     #for insured loans which do not have Gen3 LGD, previous Final LGD is used\n",
    "#     #rwa_raw_data.loc[rwa_raw_data['Pre_final_LGD'].isna(),'Final_LGD'] = rwa_raw_data['Final_LGD_old']\n",
    "    \n",
    "    \n",
    "#     ## CG and Sagen use 11% LGD \n",
    "#     rwa_raw_data.loc[rwa_raw_data.Insured_class.isin([\"CMHC\",\"Sagen\", \"CG\"]), 'Final_LGD' ] = CMHC_lgd\n",
    "\n",
    "#     # sum(rwa_raw_data['Final_LGD'].isna())\n",
    "    \n",
    "    \n",
    "#     ## insured_PMI_ratio \n",
    "\n",
    "    \n",
    "#     rwa_raw_data[\"deductible_amount\"] = 0.1 * rwa_raw_data.Advance_Amount\n",
    "#     rwa_raw_data[\"insured_PMI_ratio\"] = np.where(rwa_raw_data.EAD > 0, (rwa_raw_data.EAD - rwa_raw_data.deductible_amount) / rwa_raw_data.EAD, 0)\n",
    "    \n",
    "#     # !!!! can be negative; When insured_PMI_ratio is negative it will be handle in cond_PMI_dec case.\n",
    "    \n",
    "    \n",
    "#   #  sum( round(rwa_raw_data[\"insured_PMI_ratio\"]*10**5) == round(rwa_raw_data[\"insured_PMI_ratio_old\"] *10**5) ) #56478\n",
    "    \n",
    "#     ## Generate indicators \n",
    "#     cond_CMHC = (rwa_raw_data.Insured_class.isin(['CMHC']))\n",
    "    \n",
    "#     cond_PMI = (rwa_raw_data.Insured_class.isin([\"Sagen\", \"CG\"])) & (rwa_raw_data.EAD > 0.1 * rwa_raw_data.Advance_Amount)\n",
    "\n",
    "#     cond_PMI_dec = (rwa_raw_data.Insured_class.isin([\"Sagen\", \"CG\"])) & (rwa_raw_data.EAD <= 0.1 * rwa_raw_data.Advance_Amount)\n",
    "    \n",
    "#     cond_UI = (rwa_raw_data.Insured_class.isin([\"Uninsured\"]))\n",
    "    \n",
    "    \n",
    "#     ## Maturity adjustment\n",
    "    \n",
    "#     def func_maturity_adj(pd_value):\n",
    "#         import numpy as np\n",
    "#         adj = (0.11852 - 0.05478 * np.log(pd_value)) ** 2\n",
    "#         return adj  ##CAR 2023 5.3.1(i) 66.\n",
    "    \n",
    "#     rwa_raw_data.loc[cond_UI | cond_PMI_dec, \"Maturity_adj\"] = rwa_raw_data.loc[:, ['CalibratedPD']].apply(lambda s: func_maturity_adj(s[0]), axis=1) #not actually used since retail RWA formula will be applied\n",
    "    \n",
    "#     rwa_raw_data.loc[cond_CMHC | cond_PMI, \"Maturity_adj\"] = func_maturity_adj(CMHC_pd)\n",
    "    \n",
    "\n",
    "#     ## 'corr_uninsured'  depends on rental income indicator and has two values correlation_residential_mortgages_rental,correlation_residential_mortgages\n",
    "    \n",
    "    \n",
    "#     # correlation for CMHC and insured deductible for PMI ?\n",
    "#     def correlation_corp(pd_value):\n",
    "#         import numpy as np\n",
    "#         #     corr =  round(0.12 * (1 - np.exp(-50 * pd_value)) / (1- np.exp(-50)) +\n",
    "#         #                       0.24 * (1 - (1- np.exp(-50 * pd_value))/(1 - np.exp(-50))),6) ##CAR 2023 5.3.1(i) 66.\n",
    "#         corr = 0.12 * (1 - np.exp(-50 * pd_value)) / (1 - np.exp(-50)) + 0.24 * (\n",
    "#                 1 - (1 - np.exp(-50 * pd_value)) / (1 - np.exp(-50)))\n",
    "#         return corr\n",
    "    \n",
    "#     rwa_raw_data.loc[cond_CMHC | cond_PMI, 'corr_insured'] = correlation_corp(CMHC_pd)\n",
    "    \n",
    "    \n",
    "#     ## func_risk_weight_retail \n",
    "#     def func_risk_weight_retail(pd_value, lgd_value, corr):  # CAR 2023 Chapter 5 paragrah 81\n",
    "#         import scipy.stats as st\n",
    "#         pd_value = float(pd_value)\n",
    "#         lgd_value = float(lgd_value)\n",
    "#         corr = float(corr)\n",
    "#         pd_UL = st.norm.cdf(\n",
    "#             (1 - corr) ** (-0.5) * st.norm.ppf(pd_value) + (corr / (1 - corr)) ** (0.5) * st.norm.ppf(0.999))\n",
    "#         K = pd_UL * lgd_value - pd_value * lgd_value\n",
    "#         # return  round(pd_UL * lgd_value - pd_value * lgd_value,6)\n",
    "#         return K\n",
    "    \n",
    "    \n",
    "#     def func_risk_weight_corp(pd_value, lgd_value, corr, maturity_adj,\n",
    "#                               effective_maturity):  # CAR 2023 Chapter 5 paragraph 66\n",
    "#         import scipy.stats as st\n",
    "#         a = (lgd_value * st.norm.cdf((1 - corr) ** (-0.5) * st.norm.ppf(pd_value) +\n",
    "#                                      (corr / (1 - corr)) ** 0.5 * st.norm.ppf(0.999)))\n",
    "#         tail_value = a - (pd_value * lgd_value)\n",
    "#         adj = (1 + (effective_maturity - 2.5) * maturity_adj) / (1 - (1.5 * maturity_adj))\n",
    "#         k = tail_value * adj\n",
    "#         # return  round(tail_value * adj,6)\n",
    "#         return k\n",
    "    \n",
    "    \n",
    "#     # retail risk weight function for uninsured loans\n",
    "#     rwa_raw_data['risk_weight_uninsured'] = 0\n",
    "    \n",
    "#     rwa_raw_data.loc[cond_UI, 'risk_weight_uninsured'] = rwa_raw_data.loc[cond_UI, ['CalibratedPD', 'Final_LGD', 'corr_uninsured']].apply(\n",
    "#             lambda s: func_risk_weight_retail(s[0], s[1], s[2]), axis=1)\n",
    "    \n",
    "    \n",
    "#     # re-write uninsured deductible for PMI using borrower PD and 100% LGD and retail risk weight function\n",
    "#     # df[\"LGD_uninsured\"]=1.0\n",
    "    \n",
    "#     rwa_raw_data.loc[cond_PMI, 'risk_weight_uninsured'] = rwa_raw_data.loc[cond_PMI, ['CalibratedPD', 'corr_uninsured']].apply(\n",
    "#             lambda s: func_risk_weight_retail(s[0], 1, s[1]), axis=1)\n",
    "    \n",
    "#     rwa_raw_data.loc[cond_PMI_dec, 'risk_weight_uninsured'] = rwa_raw_data.loc[cond_PMI_dec, ['CalibratedPD', 'corr_uninsured']].apply(\n",
    "#             lambda s: func_risk_weight_retail(s[0], 1, s[1]), axis=1)\n",
    "    \n",
    "        \n",
    "#     # insured CMHC including PMI insured backstop use non-retail risk function\n",
    "#     rwa_raw_data['risk_weight_insured'] = 0\n",
    "    \n",
    "#     rwa_raw_data.loc[cond_CMHC, 'risk_weight_insured'] = rwa_raw_data.loc[cond_CMHC, ['Final_LGD', 'corr_insured','Maturity_adj', 'Years_to_maturity']].apply(\n",
    "#          lambda s: func_risk_weight_corp(CMHC_pd, CMHC_lgd, s[1], s[2], s[3]), axis=1)\n",
    "    \n",
    "    \n",
    "    \n",
    "#     rwa_raw_data.loc[cond_PMI, 'risk_weight_insured'] = rwa_raw_data.loc[cond_PMI, ['Final_LGD', 'corr_insured','Maturity_adj', 'Years_to_maturity']].apply(\n",
    "#          lambda s: func_risk_weight_corp(CMHC_pd,  CMHC_lgd, s[1], s[2], s[3]), axis=1)\n",
    "    \n",
    "    \n",
    "    \n",
    "#     ## RWA_res_mortgage \n",
    "#     def RWA_res_mortgage(capital_value, capital_value_insured, EAD_value, insured_ratio):\n",
    "#         # insured_ratio: Ratio of insured\n",
    "#         #     insured_RWA = round(capital_value_insured * 12.5 * EAD_value,0)\n",
    "#         #     uninsured_RWA = round(capital_value * 12.5 * EAD_value,0)\n",
    "#         insured_RWA = capital_value_insured * 12.5 * EAD_value\n",
    "#         uninsured_RWA = capital_value * 12.5 * EAD_value\n",
    "#         rwa_total = insured_ratio * insured_RWA + (1 - insured_ratio) * uninsured_RWA\n",
    "#         return rwa_total\n",
    "    \n",
    "    \n",
    "    \n",
    "#     # 1. CMHC insured\n",
    "#     rwa_raw_data.loc[cond_CMHC, 'RWA_new'] = rwa_raw_data.loc[cond_CMHC, [ 'risk_weight_insured', 'EAD']].apply(lambda s: RWA_res_mortgage(0, s[0], s[1], 1), axis=1)\n",
    "    \n",
    "    \n",
    "      \n",
    "#     # 2. Sagen and CG\n",
    "#     rwa_raw_data.loc[cond_PMI, 'RWA_new'] = rwa_raw_data.loc[\n",
    "#           cond_PMI, ['risk_weight_uninsured', 'risk_weight_insured', 'EAD', \"insured_PMI_ratio\"]].apply(lambda s: RWA_res_mortgage(s[0], s[1], s[2], s[3]), axis=1)\n",
    "\n",
    "#     rwa_raw_data.loc[cond_PMI_dec, 'RWA_new'] = rwa_raw_data.loc[cond_PMI_dec, ['risk_weight_uninsured', 'EAD']].apply(\n",
    "#           lambda s: RWA_res_mortgage(s[0], 0, s[1], 0), axis=1)\n",
    "    \n",
    "#     # 3. Uninsured Loans\n",
    "#     rwa_raw_data.loc[cond_UI, 'RWA_new'] = rwa_raw_data.loc[cond_UI, ['risk_weight_uninsured', 'EAD']].apply(\n",
    "#           lambda s: RWA_res_mortgage(s[0], 0, s[1], 0), axis=1)\n",
    "    \n",
    "#     #test = rwa_raw_data.loc[ (round(rwa_raw_data[\"rwa_airb\"]*10**6) != round(rwa_raw_data[\"RWA_new\"]*10**6) )  &  (rwa_raw_data[\"Insured_class\"] == 'CMHC') ][['Insured_class',\"rwa_airb\",'RWA_new']]\n",
    "    \n",
    "#     #rwa_raw_data.loc[rwa_raw_data['Insured_class'] =='Uninsufred', 'RWA_new'].sum()\n",
    "#     ## Summary table\n",
    "    \n",
    "#     if ind_contol==0:\n",
    "#       df_out[\"EAD\"]= [rwa_raw_data[\"EAD\"].sum()]\n",
    "#       # df_out[\"SA RWA\"]= [rwa_raw_data[\"RWA_standardized\"].sum()]  \n",
    "#       # df_out[\"In Product RWA\"]= [rwa_raw_data[\"rwa_airb\"].sum()]  --gen 2 \n",
    "#       df_out[\"Pre MOC RWA\"]= [rwa_raw_data[\"RWA_new\"].sum()]\n",
    "      \n",
    "#       df_out[\"Pre MOC RWA (uninsured)\"]= [rwa_raw_data.loc[rwa_raw_data['Insured_class']=='Uninsured'][\"RWA_new\"].sum()]\n",
    "#       df_out[\"EAD (uninsured)\"]= [rwa_raw_data.loc[rwa_raw_data['Insured_class']=='Uninsured'][\"EAD\"].sum()]\n",
    "\n",
    "      \n",
    "#       # rwa_airb_by_Insured_class = rwa_raw_data.groupby(['Insured_class' ],as_index=False)[['EAD','rwa_airb','RWA_standardized']].sum().rename({'rwa_airb': 'rwa_airb_by_Insured_class', 'RWA_standardized': 'RWA_standardized_by_Insured_class'}, axis='columns')\n",
    "      \n",
    "#       rwa_mapped_by_Insured_class = rwa_raw_data.groupby(['Insured_class' ],as_index=False)[['EAD','RWA_new']].sum().rename({'RWA_new': 'rwa_mapped_by_Insured_class'}, axis='columns')\n",
    "      \n",
    "#       # rwa_airb_by_MRS_Bin = rwa_raw_data.groupby(['MRS_Bin_PD' ],as_index=False)[['EAD','rwa_airb','RWA_standardized']].sum().rename({'rwa_airb': 'rwa_airb_by_MRS_Bin'}, axis='columns')\n",
    "      \n",
    "#       rwa_mapped_by_MRS_Bin = rwa_raw_data.groupby(['MRS_Bin_PD' ],as_index=False)[['EAD','RWA_new']].sum().rename({'RWA_new': 'rwa_mapped_by_MRS_Bin'#,'RWA_standardized': 'RWA_standardized_by_MRS_Bin'\n",
    "#                                                                                                            }, axis='columns')\n",
    "      \n",
    "#       # rwa_by_Insured_class0 =pd.merge(rwa_airb_by_Insured_class, rwa_mapped_by_Insured_class, how='left',on=['Insured_class'] )\n",
    "      \n",
    "#       # rwa_by_MRS_Bin0 =pd.merge(rwa_airb_by_MRS_Bin, rwa_mapped_by_MRS_Bin, how='left',on=['MRS_Bin_PD'] )\n",
    "      \n",
    "#     if ind_contol==1: \n",
    "#         df_out[\"Post MOC Pre LR RWA\"]= [rwa_raw_data[\"RWA_new\"].sum()]\n",
    "#         df_out[\"Post MOC Pre LR RWA (uninsured)\"]= [rwa_raw_data.loc[rwa_raw_data['Insured_class']=='Uninsured'][\"RWA_new\"].sum()]\n",
    "    \n",
    "#     '''   \n",
    "#     if ind_contol==3: \n",
    "#         df_out[\"Post PD longrun\"]= [rwa_raw_data[\"RWA_new\"].sum()]\n",
    "#         df_out[\"Post PD longrun (uninsured)\"]= [rwa_raw_data.loc[rwa_raw_data['Insured_class']=='Uninsured'][\"RWA_new\"].sum()]    \n",
    "#     ''' \n",
    "        \n",
    "#     if ind_contol==2: \n",
    "#         df_out[\"Final RWA\"]= [rwa_raw_data[\"RWA_new\"].sum()]\n",
    "\n",
    "#         rwa_Post_MOC_by_Insured_class = rwa_raw_data.groupby(['Insured_class' ],as_index=False)['RWA_new'].sum().rename({'RWA_new': 'rwa_Post_MOC_by_Insured_class'}, axis='columns')\n",
    "\n",
    "#         rwa_Post_MOC_by_MRS_Bin = rwa_raw_data.groupby(['MRS_Bin_PD'],as_index=False)['RWA_new'].sum().rename({'RWA_new': 'rwa_Post_MOC_by_MRS_Bin'}, axis='columns')\n",
    "\n",
    "#         # rwa_by_Insured_class =pd.merge(rwa_by_Insured_class0, rwa_Post_MOC_by_Insured_class, how='left',on=['Insured_class'] )\n",
    "#         rwa_by_Insured_class =pd.merge( rwa_mapped_by_Insured_class, rwa_Post_MOC_by_Insured_class, how='left',on=['Insured_class'] )\n",
    "\n",
    "#         # rwa_by_MRS_Bin =pd.merge(rwa_by_MRS_Bin0, rwa_Post_MOC_by_MRS_Bin, how='left',on=['MRS_Bin_PD'] )\n",
    "#         rwa_by_MRS_Bin =pd.merge(rwa_mapped_by_MRS_Bin, rwa_Post_MOC_by_MRS_Bin, how='left',on=['MRS_Bin_PD'] )\n",
    "\n",
    "#         #copy to res_data\n",
    "#         res_data = rwa_raw_data.copy()"
   ]
  },
  {
   "cell_type": "code",
   "execution_count": 65,
   "id": "0f7cd4aa-e04b-4a8c-aab3-bebf0b332a81",
   "metadata": {},
   "outputs": [],
   "source": [
    "# with pd.ExcelWriter(\n",
    "#   \"C:\\\\Users\\\\jasonz\\\\OneDrive - Equitable Bank\\\\Fit_for_Use Development\\\\RWA\\\\eqb_rwa_addon_zero.xlsx\",\n",
    "#       mode=\"a\",\n",
    "#       engine=\"openpyxl\",\n",
    "#       if_sheet_exists=\"replace\",\n",
    "#   ) as writer:\n",
    "#     res_data.to_excel(writer, sheet_name=\"RWA_Data\") \n"
   ]
  },
  {
   "cell_type": "code",
   "execution_count": 66,
   "id": "f674fbd8-088c-44df-abb5-7819f702ea69",
   "metadata": {},
   "outputs": [],
   "source": [
    "# Save Data\n",
    "# 20250403 Fran - Added to save concentra - renamed to Concentra\n",
    "# with pd.ExcelWriter(\n",
    "#    r'C:\\Users\\francescav\\OneDrive - Equitable Bank\\EQB-Concentra Fit for Use - Fit_for_Use Development - Fit_for_Use Development\\RWA\\code\\Outputs\\Concentra_rwa_addon_zero.xlsx') as writer:  #20250406 George commented out Francesca's code\n",
    "     \n",
    "with pd.ExcelWriter(\n",
    "   Output_dir + '\\concentra_rwa_addon_zero.xlsx') as writer: #20250406 George added\n",
    "          \n",
    "     res_data.to_excel(writer, sheet_name=\"RWA_Data\")"
   ]
  },
  {
   "cell_type": "markdown",
   "id": "e5d3485a",
   "metadata": {},
   "source": [
    "# Borrow Add on Impact from EQB"
   ]
  },
  {
   "cell_type": "code",
   "execution_count": 67,
   "id": "0dd010e8-d095-439e-8618-ac86fe881e30",
   "metadata": {
    "tags": []
   },
   "outputs": [],
   "source": [
    "# We need to add a cross table of lgd_bins and PD bins for rwa with add-on. However, we don't have account level addon info. therefore we take the impact from EQB at the Combo_LTV_Insured_Ind X Combo_Province_Metro_Override_WOE level\n",
    "\n",
    "# addon_impact =pd.read_excel(r\"C:\\Users\\francescav\\OneDrive - Equitable Bank\\EQB-Concentra Fit for Use - Fit_for_Use Development - Fit_for_Use Development\\RWA\\code\\Outputs\\addon_impact.xlsx\")  # 20250406 George commented out Francesca's code\n",
    "\n",
    "addon_impact =pd.read_excel(Output_dir+r\"\\addon_impact.xlsx\") # 20250406 George added\n",
    "\n",
    "rwa_raw_data = res_data.copy() # 20250411 George added because a new res_data is created in the above function"
   ]
  },
  {
   "cell_type": "code",
   "execution_count": 68,
   "id": "5970bbba-c085-4794-984b-649e313c637d",
   "metadata": {},
   "outputs": [
    {
     "data": {
      "text/plain": [
       " 0.165650    11\n",
       "-0.389936    10\n",
       " 0.253031     9\n",
       "-0.161658     8\n",
       "Name: Combo_Province_Metro_Override_WOE, dtype: int64"
      ]
     },
     "execution_count": 68,
     "metadata": {},
     "output_type": "execute_result"
    }
   ],
   "source": [
    "# 20250403 - Francesca Add on already has mapped values !\n",
    "addon_impact.Combo_Province_Metro_Override_WOE.value_counts()"
   ]
  },
  {
   "cell_type": "code",
   "execution_count": 69,
   "id": "60b3d9d8-0b96-4c5a-8192-9f4323cfb3c5",
   "metadata": {},
   "outputs": [],
   "source": [
    "addon_impact.Combo_Province_Metro_Override_WOE.fillna(0, inplace=True)\n",
    "addon_impact.Combo_Province_Metro_Override_WOE =addon_impact.Combo_Province_Metro_Override_WOE.round(8)"
   ]
  },
  {
   "cell_type": "code",
   "execution_count": 70,
   "id": "952a3935-54de-4050-ba77-f9d603d10d1b",
   "metadata": {},
   "outputs": [],
   "source": [
    "addon_impact.rename(columns={'impact':'addon_impact'},inplace=True)"
   ]
  },
  {
   "cell_type": "code",
   "execution_count": 71,
   "id": "d643f867-ae4e-4c60-901d-79b317d15733",
   "metadata": {
    "tags": []
   },
   "outputs": [],
   "source": [
    "#process to make sure the merge works;\n",
    "rwa_raw_data.Combo_Province_Metro_Override_WOE=rwa_raw_data.Combo_Province_Metro_Override_WOE.round(6).fillna(0)\n",
    "addon_impact.Combo_Province_Metro_Override_WOE = addon_impact.Combo_Province_Metro_Override_WOE.round(6).fillna(0)\n",
    "addon_impact.Combo_LTV_Insured_Ind=addon_impact.Combo_LTV_Insured_Ind.fillna('')"
   ]
  },
  {
   "cell_type": "code",
   "execution_count": 72,
   "id": "542a74d2-b50f-4d91-b1b7-0c3aa6368046",
   "metadata": {
    "tags": []
   },
   "outputs": [],
   "source": [
    "rwa_raw_data_addon=rwa_raw_data.merge(addon_impact[['Combo_LTV_Insured_Ind','Combo_Province_Metro_Override_WOE','addon_impact']], on=['Combo_LTV_Insured_Ind','Combo_Province_Metro_Override_WOE'],how='left')"
   ]
  },
  {
   "cell_type": "code",
   "execution_count": 73,
   "id": "475c9295-da94-4f2c-8785-e6869ad83ece",
   "metadata": {
    "tags": []
   },
   "outputs": [],
   "source": [
    "rwa_raw_data_addon.addon_impact = rwa_raw_data_addon.addon_impact.fillna(1)"
   ]
  },
  {
   "cell_type": "code",
   "execution_count": 74,
   "id": "c1ce310b-10cf-43c2-b181-d03d314be4af",
   "metadata": {
    "tags": []
   },
   "outputs": [],
   "source": [
    "rwa_raw_data_addon['RWA_AddOn']=rwa_raw_data_addon['RWA_new']*rwa_raw_data_addon['addon_impact']"
   ]
  },
  {
   "cell_type": "markdown",
   "id": "e3a57efb",
   "metadata": {},
   "source": [
    "# Save Data"
   ]
  },
  {
   "cell_type": "code",
   "execution_count": 75,
   "id": "b630d4fe",
   "metadata": {},
   "outputs": [],
   "source": [
    "\n",
    "#with open(r'C:\\Users\\jasonz\\OneDrive - Equitable Bank\\EQB-Concentra Fit for Use - Fit_for_Use Development - Fit_for_Use Development\\RWA\\code\\Concentra_RWA_202410.pkl', 'wb') as file: \n",
    "      \n",
    "    # A new file will be created \n",
    "    #pickle.dump(rwa_raw_data_addon, file) \n",
    "\n",
    "# with open(r'C:\\Users\\francescav\\OneDrive - Equitable Bank\\EQB-Concentra Fit for Use - Fit_for_Use Development - Fit_for_Use Development\\RWA\\code\\Outputs\\Concentra_RWA_202412.pkl', 'wb') as file:   # 20250406 George commented out Francesca's code\n",
    "\n",
    "with open( Output_dir +r'\\concentra_rwa_addon.pkl', 'wb') as file: # 20250406 George added\n",
    "\n",
    "    # A new file will be created \n",
    "    pickle.dump(rwa_raw_data_addon, file) "
   ]
  },
  {
   "cell_type": "code",
   "execution_count": 76,
   "id": "1e165c6f",
   "metadata": {},
   "outputs": [],
   "source": [
    "#Save an excel copy\n",
    "\n",
    "rwa_raw_data_addon.to_excel(Output_dir + r'\\concentra_rwa_addon.xlsx')  #20250406 George added"
   ]
  }
 ],
 "metadata": {
  "kernelspec": {
   "display_name": "Commercial_IFRS9_PD_2024Dev",
   "language": "python",
   "name": "python3"
  },
  "language_info": {
   "codemirror_mode": {
    "name": "ipython",
    "version": 3
   },
   "file_extension": ".py",
   "mimetype": "text/x-python",
   "name": "python",
   "nbconvert_exporter": "python",
   "pygments_lexer": "ipython3",
   "version": "3.10.9"
  }
 },
 "nbformat": 4,
 "nbformat_minor": 5
}
